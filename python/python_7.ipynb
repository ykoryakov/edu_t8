{
 "cells": [
  {
   "cell_type": "markdown",
   "metadata": {},
   "source": [
    "# Основы Python. Часть 7\n",
    "\n",
    "## Многопоточность"
   ]
  },
  {
   "cell_type": "markdown",
   "metadata": {},
   "source": [
    "**Мотивация**: производительность современных вычислительных машин обеспечивается за счёт кол-ва ядер процессора, в то время как частота процессора растёт слабо."
   ]
  },
  {
   "cell_type": "markdown",
   "metadata": {},
   "source": [
    "### Отличие Thread от Process\n",
    "\n",
    "В стандартной библиотеке Python есть два модуля, подерживающие параллельные вычисления: Thread и Process\n",
    "\n",
    "#### Thread (поток)\n",
    "\n",
    "- Выполняются в одном процессе из-за GIL (Global Interpreter Lock). В интерпретаторе Python есть блокировка, которая не позволяет одному экземпляру интерпретатора выполняться одновременно в нескольких процессах. Таким образом, Thread - это псевдопараллельные вычисления; в реальности после выполнения одного потока идёт переключение на другой и обратно.\n",
    "- Так как выполнение в рамках одного процесса и адресного пространства, то внутри Thread доступны все данные, объявленные в scope и переданные потоку\n",
    "\n",
    "_Use case_: \n",
    "\n",
    "- Скорость не критична, можно пожертвовать ради удобства использования общего адресного пространства\n",
    "- Есть один нагруженный поток с вычислениями, а другие часто находятся в режиме ожидания\n",
    "\n",
    "#### Process (процесс)\n",
    "\n",
    "- Запускаются как отдельные экземпляры интерпретатора, поэтому выполняется естественный обход GIL\n",
    "- Для коммуникаций между процессами и для выделения адресного пространства между процессами необходимо использовать специальные примитивы\n",
    "- Процессы могут использовать все ядра процессора (как именно происходит это использование решает операционная система)\n",
    "- Процессы могут запускаться на разных машинах\n",
    "\n",
    "_Use case_: \n",
    "\n",
    "- Скорость критична и распараллеливание вычислений даёт существенный выигрыш\n",
    "- Больше одного нагруженного процесса (например, один принимает данные, а другой их обрабатывает в реальном времени)"
   ]
  },
  {
   "cell_type": "code",
   "execution_count": 43,
   "metadata": {},
   "outputs": [],
   "source": [
    "import multiprocessing as mp\n",
    "\n",
    "from ctypes import c_bool, c_uint32, c_float\n",
    "\n",
    "import os\n",
    "import time\n",
    "import random"
   ]
  },
  {
   "cell_type": "code",
   "execution_count": 2,
   "metadata": {},
   "outputs": [
    {
     "name": "stdout",
     "output_type": "stream",
     "text": [
      "I have 8 CPU cores\n"
     ]
    }
   ],
   "source": [
    "n_cpu = mp.cpu_count()\n",
    "\n",
    "print('I have {} CPU cores'.format(n_cpu))"
   ]
  },
  {
   "cell_type": "markdown",
   "metadata": {},
   "source": [
    "### Пример запуска простого процесса"
   ]
  },
  {
   "cell_type": "code",
   "execution_count": 3,
   "metadata": {},
   "outputs": [
    {
     "name": "stdout",
     "output_type": "stream",
     "text": [
      "Я поток process. Жду 2 секунды и печатаю вывод.\n",
      "Я основной поток. Продолжаю выполняться.\n",
      "Я поток process. Результат выполнения: 512000\n"
     ]
    }
   ],
   "source": [
    "# функция, которую мы хотим запустить в отдельном потоке\n",
    "def func(a):\n",
    "    \n",
    "    print('Я поток process. Жду 2 секунды и печатаю вывод.')\n",
    "    \n",
    "    time.sleep(2)    \n",
    "    \n",
    "    print('Я поток process. Результат выполнения: {}'.format(a ** 3))\n",
    "\n",
    "# создаём отдельный поток\n",
    "process = mp.Process(target=func, args=(80,))\n",
    "\n",
    "# запускаем его\n",
    "process.start()\n",
    "\n",
    "print('Я основной поток. Продолжаю выполняться.')\n",
    "\n",
    "# На некоторое время (3+ секунд) здесь одновременно выполняются два потока:\n",
    "# - основной (main)\n",
    "# - поток process\n",
    "\n",
    "# ждём завершения потока process (это блокирующая операция)\n",
    "process.join()\n",
    "\n",
    "# здесь остался только основной поток"
   ]
  },
  {
   "cell_type": "markdown",
   "metadata": {},
   "source": [
    "### Пример запуска двух процессов"
   ]
  },
  {
   "cell_type": "code",
   "execution_count": 4,
   "metadata": {},
   "outputs": [
    {
     "name": "stdout",
     "output_type": "stream",
     "text": [
      "8\n",
      "64\n"
     ]
    }
   ],
   "source": [
    "def func(a):\n",
    "    time.sleep(2)\n",
    "    print(a ** 3)\n",
    "    \n",
    "process_1 = mp.Process(target=func, args=(2,))    \n",
    "process_2 = mp.Process(target=func, args=(4,))\n",
    "\n",
    "process_1.start()\n",
    "process_2.start()\n",
    "\n",
    "process_1.join()\n",
    "process_2.join()"
   ]
  },
  {
   "cell_type": "markdown",
   "metadata": {},
   "source": [
    "### Пример запуска нескольких процессов"
   ]
  },
  {
   "cell_type": "code",
   "execution_count": 5,
   "metadata": {},
   "outputs": [],
   "source": [
    "def func(a):\n",
    "    time.sleep(2)\n",
    "    print(a ** 3)"
   ]
  },
  {
   "cell_type": "code",
   "execution_count": 6,
   "metadata": {},
   "outputs": [
    {
     "name": "stdout",
     "output_type": "stream",
     "text": [
      "Мы запустили 8 процессов. Ждём их выполнения.\n",
      "1728\n",
      "9261\n",
      "42875\n",
      "32768\n",
      "13824\n",
      "64000\n",
      "1728\n",
      "4096\n",
      "Все процессы выполнелись и завершились.\n",
      "CPU times: user 12.8 ms, sys: 20.4 ms, total: 33.2 ms\n",
      "Wall time: 2.06 s\n"
     ]
    }
   ],
   "source": [
    "%%time\n",
    "\n",
    "processes = []\n",
    "\n",
    "n_cpu = mp.cpu_count()\n",
    "\n",
    "for i in range(n_cpu):\n",
    "    \n",
    "    random_number = random.randint(10, 100)\n",
    "    \n",
    "    process = mp.Process(target=func, args=(random_number,))\n",
    "    \n",
    "    process.start()\n",
    "    \n",
    "    processes.append(process)\n",
    "    \n",
    "print('Мы запустили {} процессов. Ждём их выполнения.'.format(n_cpu))    \n",
    "\n",
    "for i in range(n_cpu):\n",
    "    \n",
    "     processes[i].join()  \n",
    "        \n",
    "print('Все процессы выполнелись и завершились.')"
   ]
  },
  {
   "cell_type": "markdown",
   "metadata": {},
   "source": [
    "### Пример работы с пулом потоков"
   ]
  },
  {
   "cell_type": "code",
   "execution_count": 7,
   "metadata": {},
   "outputs": [],
   "source": [
    "def func(a):\n",
    "    time.sleep(2)\n",
    "    print(a ** 3)"
   ]
  },
  {
   "cell_type": "code",
   "execution_count": 8,
   "metadata": {},
   "outputs": [
    {
     "name": "stdout",
     "output_type": "stream",
     "text": [
      "64000\n",
      "175616\n",
      "493039\n",
      "59319\n",
      "571787\n",
      "148877\n",
      "140608\n",
      "456533\n",
      "CPU times: user 7.82 ms, sys: 20.1 ms, total: 27.9 ms\n",
      "Wall time: 2.14 s\n"
     ]
    }
   ],
   "source": [
    "%%time\n",
    "\n",
    "random_numbers = random.sample(range(10, 100), n_cpu)\n",
    "\n",
    "with mp.Pool(processes=n_cpu) as pool:        \n",
    "    \n",
    "    pool.map(func, random_numbers)"
   ]
  },
  {
   "cell_type": "markdown",
   "metadata": {},
   "source": [
    "### Сравнение производительности последовательного и параллельного выполнения"
   ]
  },
  {
   "cell_type": "code",
   "execution_count": 9,
   "metadata": {},
   "outputs": [],
   "source": [
    "def func_h(x):\n",
    "    i = 0\n",
    "    while i < 20:\n",
    "        x = x * x\n",
    "        i += 1    \n",
    "    \n",
    "random_numbers = random.sample(range(50), n_cpu)    "
   ]
  },
  {
   "cell_type": "markdown",
   "metadata": {},
   "source": [
    "Если был бы один поток (последовательное выполнение)"
   ]
  },
  {
   "cell_type": "code",
   "execution_count": 10,
   "metadata": {},
   "outputs": [
    {
     "name": "stdout",
     "output_type": "stream",
     "text": [
      "1.75 s ± 12.6 ms per loop (mean ± std. dev. of 7 runs, 1 loop each)\n"
     ]
    }
   ],
   "source": [
    "%%timeit 3\n",
    "\n",
    "for random_number in random_numbers:\n",
    "    \n",
    "    func_h(random_number)"
   ]
  },
  {
   "cell_type": "markdown",
   "metadata": {},
   "source": [
    "Запускаем пул потоков (параллельное выполнение)"
   ]
  },
  {
   "cell_type": "code",
   "execution_count": 11,
   "metadata": {},
   "outputs": [
    {
     "name": "stdout",
     "output_type": "stream",
     "text": [
      "653 ms ± 72.6 ms per loop (mean ± std. dev. of 7 runs, 1 loop each)\n"
     ]
    }
   ],
   "source": [
    "%%timeit 3\n",
    "\n",
    "with mp.Pool(processes=n_cpu) as pool:        \n",
    "    \n",
    "    pool.map(func_h, random_numbers) "
   ]
  },
  {
   "cell_type": "markdown",
   "metadata": {},
   "source": [
    "Загрузка процессора. Сначала при последовательном выполнении. Затем при параллельном."
   ]
  },
  {
   "cell_type": "markdown",
   "metadata": {},
   "source": [
    "<img src=\"./python_7_files/seq_vs_parallel.png\">"
   ]
  },
  {
   "cell_type": "markdown",
   "metadata": {},
   "source": [
    "## Блокировки и использование with"
   ]
  },
  {
   "cell_type": "markdown",
   "metadata": {},
   "source": [
    "Здесь и далее для краткости записи мы будем использовать with вместо явного блокирования/разблокирования.\n",
    "\n",
    "Например, следующая запись для mp.Value, обладающего встроенной блокировкой:"
   ]
  },
  {
   "cell_type": "code",
   "execution_count": 12,
   "metadata": {},
   "outputs": [],
   "source": [
    "v = mp.Value(c_uint32)\n",
    "\n",
    "v.acquire()   # lock v for changing in other processes\n",
    "\n",
    "v.value += 1  # do something with v\n",
    "\n",
    "v.release()   # unlock v\n"
   ]
  },
  {
   "cell_type": "markdown",
   "metadata": {},
   "source": [
    "Эквивалентнa:"
   ]
  },
  {
   "cell_type": "code",
   "execution_count": 13,
   "metadata": {},
   "outputs": [],
   "source": [
    "with v.get_lock():\n",
    "    v.value += 1"
   ]
  },
  {
   "cell_type": "markdown",
   "metadata": {},
   "source": [
    "Эквивалентнa:"
   ]
  },
  {
   "cell_type": "code",
   "execution_count": 14,
   "metadata": {},
   "outputs": [],
   "source": [
    "with v:\n",
    "    v.value += 1"
   ]
  },
  {
   "cell_type": "markdown",
   "metadata": {},
   "source": [
    "## Разделяемые данные"
   ]
  },
  {
   "cell_type": "markdown",
   "metadata": {},
   "source": [
    "Рассмотрим варианты общего доступа к памяти со стороны нескольких процессов."
   ]
  },
  {
   "cell_type": "markdown",
   "metadata": {},
   "source": [
    "- RawValue\n",
    "- Value\n",
    "- RawArray\n",
    "- Array\n",
    "\n",
    "Также есть способ разделения некоторых Python объектов с помощью менеджера\n",
    "\n",
    "- Manager"
   ]
  },
  {
   "cell_type": "markdown",
   "metadata": {},
   "source": [
    "RawValue - выделение общей памяти для одного значения определённого типа (без гарантии синхронизации).\n",
    "\n",
    "Пример использования RawValue:"
   ]
  },
  {
   "cell_type": "code",
   "execution_count": 15,
   "metadata": {},
   "outputs": [
    {
     "name": "stdout",
     "output_type": "stream",
     "text": [
      "c_float(1.0)\n",
      "c_float(2.0)\n",
      "c_float(3.0)\n",
      "c_float(4.0)\n",
      "c_float(5.0)\n",
      "c_float(6.0)\n",
      "c_float(7.0)\n",
      "c_float(8.0)\n"
     ]
    }
   ],
   "source": [
    "raw_value = mp.RawValue(c_float, 0.0)\n",
    "\n",
    "def func(v):\n",
    "    \n",
    "    v.value = v.value + 1.0\n",
    "\n",
    "    print(v)\n",
    "    \n",
    "processes = [ mp.Process(target=func, args=(raw_value,)) for i in range(n_cpu) ]\n",
    "\n",
    "_ = list(map(lambda p: p.start(),  processes))\n",
    "_ = list(map(lambda p: p.join(),  processes))"
   ]
  },
  {
   "cell_type": "markdown",
   "metadata": {},
   "source": [
    "**Внимание** Работа с RawValue в общем случае не атомарна, поэтому необходимо использовать **Value**"
   ]
  },
  {
   "cell_type": "code",
   "execution_count": 16,
   "metadata": {},
   "outputs": [
    {
     "name": "stdout",
     "output_type": "stream",
     "text": [
      "<Synchronized wrapper for c_float(1.0)>\n",
      "<Synchronized wrapper for c_float(2.0)>\n",
      "<Synchronized wrapper for c_float(3.0)>\n",
      "<Synchronized wrapper for c_float(4.0)>\n",
      "<Synchronized wrapper for c_float(5.0)>\n",
      "<Synchronized wrapper for c_float(6.0)>\n",
      "<Synchronized wrapper for c_float(7.0)>\n",
      "<Synchronized wrapper for c_float(8.0)>\n"
     ]
    }
   ],
   "source": [
    "value = mp.Value(c_float, 0.0)\n",
    "\n",
    "def func(v):\n",
    "    \n",
    "    with v:\n",
    "        \n",
    "        v.value = v.value + 1.0        \n",
    "    \n",
    "    print(v)\n",
    "    \n",
    "processes = [ mp.Process(target=func, args=(value,)) for i in range(n_cpu) ]\n",
    "\n",
    "_ = list(map(lambda p: p.start(),  processes))\n",
    "_ = list(map(lambda p: p.join(),  processes))"
   ]
  },
  {
   "cell_type": "markdown",
   "metadata": {},
   "source": [
    "Пример работы с RawArray"
   ]
  },
  {
   "cell_type": "code",
   "execution_count": 17,
   "metadata": {},
   "outputs": [],
   "source": [
    "raw_array = mp.RawArray(c_float, 10000)"
   ]
  },
  {
   "cell_type": "code",
   "execution_count": 18,
   "metadata": {},
   "outputs": [
    {
     "name": "stdout",
     "output_type": "stream",
     "text": [
      "12.3 ms ± 189 µs per loop (mean ± std. dev. of 7 runs, 100 loops each)\n"
     ]
    }
   ],
   "source": [
    "%%timeit 3\n",
    "\n",
    "def func(arr):\n",
    "    for i in range(len(arr)):\n",
    "        arr[i] += 1.0\n",
    "\n",
    "processes = [ mp.Process(target=func, args=(raw_array,)) for i in range(n_cpu) ]\n",
    "\n",
    "list(map(lambda p: p.start(),  processes))\n",
    "list(map(lambda p: p.join(),  processes))        "
   ]
  },
  {
   "cell_type": "markdown",
   "metadata": {},
   "source": [
    "**Внимание** здесь та же самая особенность, как и с RawValue. Нет синхронизации. При одновременном изменении переменной со стороны разных потоков в общем случае нет гарантии того, что это произойдёт так как мы видим. "
   ]
  },
  {
   "cell_type": "markdown",
   "metadata": {},
   "source": [
    "Пример использования Array"
   ]
  },
  {
   "cell_type": "code",
   "execution_count": 19,
   "metadata": {},
   "outputs": [],
   "source": [
    "array = mp.Array(c_float, 10000)"
   ]
  },
  {
   "cell_type": "code",
   "execution_count": 20,
   "metadata": {
    "scrolled": true
   },
   "outputs": [
    {
     "name": "stdout",
     "output_type": "stream",
     "text": [
      "153 ms ± 496 µs per loop (mean ± std. dev. of 7 runs, 10 loops each)\n"
     ]
    }
   ],
   "source": [
    "%%timeit 2\n",
    "\n",
    "def func(arr):\n",
    "    with arr:  # блокировка\n",
    "        for i in range(len(arr)):\n",
    "            arr[i] += 1.0\n",
    "\n",
    "processes = [ mp.Process(target=func, args=(array,)) for i in range(n_cpu) ]\n",
    "\n",
    "list(map(lambda p: p.start(),  processes))\n",
    "list(map(lambda p: p.join(),  processes))"
   ]
  },
  {
   "cell_type": "markdown",
   "metadata": {},
   "source": [
    "Использование менеджера для доступа к общим объектам."
   ]
  },
  {
   "cell_type": "code",
   "execution_count": 21,
   "metadata": {},
   "outputs": [
    {
     "name": "stdout",
     "output_type": "stream",
     "text": [
      "[9, 10, 11]\n"
     ]
    }
   ],
   "source": [
    "def func(l):\n",
    "    for i in range(len(l)):\n",
    "        l[i] += 1\n",
    "\n",
    "with mp.Manager() as manager:\n",
    "    \n",
    "    _list = manager.list([1, 2, 3])   \n",
    "            \n",
    "    processes = [ mp.Process(target=func, args=(_list,)) for i in range(n_cpu) ]\n",
    "    \n",
    "    list(map(lambda p: p.start(),  processes))\n",
    "    list(map(lambda p: p.join(),  processes))    \n",
    "    \n",
    "    print(_list)"
   ]
  },
  {
   "cell_type": "markdown",
   "metadata": {},
   "source": [
    "Попытка разделить объект класса между процессами."
   ]
  },
  {
   "cell_type": "code",
   "execution_count": 22,
   "metadata": {},
   "outputs": [
    {
     "name": "stdout",
     "output_type": "stream",
     "text": [
      "[A(0), A(0), A(0)]\n"
     ]
    }
   ],
   "source": [
    "class A:\n",
    "    def __init__(self):\n",
    "        self.__i = 0\n",
    "        \n",
    "    def set_i(self, i):\n",
    "        self.__i = i\n",
    "        \n",
    "    def __repr__(self):\n",
    "        return 'A({})'.format(self.__i)\n",
    "        \n",
    "def func(objs):    \n",
    "    for obj in objs:        \n",
    "        obj.set_i(2)\n",
    "\n",
    "with mp.Manager() as manager:\n",
    "    \n",
    "    _list = manager.list([A(), A(), A()])   \n",
    "            \n",
    "    processes = [ mp.Process(target=func, args=(_list,)) for i in range(n_cpu) ]\n",
    "    \n",
    "    list(map(lambda p: p.start(),  processes))\n",
    "    list(map(lambda p: p.join(),  processes))    \n",
    "    \n",
    "    print(_list)\n"
   ]
  },
  {
   "cell_type": "markdown",
   "metadata": {},
   "source": [
    "Но это сработает с потоками (Thread)"
   ]
  },
  {
   "cell_type": "code",
   "execution_count": 23,
   "metadata": {},
   "outputs": [
    {
     "data": {
      "text/plain": [
       "[A(2), A(2), A(2)]"
      ]
     },
     "execution_count": 23,
     "metadata": {},
     "output_type": "execute_result"
    }
   ],
   "source": [
    "import threading as thr\n",
    "\n",
    "class A:\n",
    "    def __init__(self):\n",
    "        self.__i = 0\n",
    "        \n",
    "    def set_i(self, i):\n",
    "        self.__i = i\n",
    "        \n",
    "    def __repr__(self):\n",
    "        return 'A({})'.format(self.__i)\n",
    "        \n",
    "def func(objs):    \n",
    "    for obj in objs:        \n",
    "        obj.set_i(2)     \n",
    "        \n",
    "_list = [A(), A(), A()]        \n",
    "\n",
    "threads = [ thr.Thread(target=func, args=(_list,)) for i in range(n_cpu) ]\n",
    "\n",
    "_ = list(map(lambda p: p.start(),  threads))\n",
    "_ = list(map(lambda p: p.join(),  threads))         \n",
    "        \n",
    "_list"
   ]
  },
  {
   "cell_type": "markdown",
   "metadata": {},
   "source": [
    "Если в лист положить объекты класса, то так не заработает. Объект не модифицировался.\n",
    "\n",
    "https://docs.python.org/3.5/library/multiprocessing.html#multiprocessing.managers.SyncManager.list"
   ]
  },
  {
   "cell_type": "markdown",
   "metadata": {},
   "source": [
    "Все типы, которые можно сделать разделяемые с помощью менеджера:\n",
    "    \n",
    "https://docs.python.org/3.5/library/multiprocessing.html#managers"
   ]
  },
  {
   "cell_type": "markdown",
   "metadata": {},
   "source": [
    "## Коммуникации"
   ]
  },
  {
   "cell_type": "markdown",
   "metadata": {},
   "source": [
    "Между процессами можно перемещать любые сериализуемые Python объекты.\n",
    "\n",
    "- Queue\n",
    "- Pipe"
   ]
  },
  {
   "cell_type": "markdown",
   "metadata": {},
   "source": [
    "Пример очереди (Queue) между процессами."
   ]
  },
  {
   "cell_type": "code",
   "execution_count": 24,
   "metadata": {},
   "outputs": [
    {
     "name": "stdout",
     "output_type": "stream",
     "text": [
      "Hello, 0\n",
      "Hello, 1\n",
      "Hello, 2\n",
      "Hello, 3\n",
      "Hello, 4\n"
     ]
    }
   ],
   "source": [
    "def reporter(q):\n",
    "    for i in range(5):                \n",
    "        q.put('Hello, {}'.format(i))                \n",
    "        time.sleep(0.005)\n",
    "\n",
    "def consumer(q):    \n",
    "    while not q.empty():        \n",
    "        res = q.get()\n",
    "        print(res)\n",
    "        time.sleep(0.5)\n",
    "    \n",
    "queue = mp.Queue()\n",
    "\n",
    "process_1 = mp.Process(target=reporter, args=(queue,))\n",
    "process_2 = mp.Process(target=consumer, args=(queue,))\n",
    "\n",
    "process_1.start()\n",
    "process_2.start()\n",
    "\n",
    "process_1.join()\n",
    "process_2.join()\n"
   ]
  },
  {
   "cell_type": "markdown",
   "metadata": {},
   "source": [
    "Пример использования прямого соединения между процессами (Pipe)"
   ]
  },
  {
   "cell_type": "code",
   "execution_count": 25,
   "metadata": {},
   "outputs": [
    {
     "name": "stdout",
     "output_type": "stream",
     "text": [
      "Hello, 0\n",
      "Hello, 1\n",
      "Hello, 2\n",
      "Hello, 3\n",
      "Hello, 4\n"
     ]
    }
   ],
   "source": [
    "def reporter(conn_write):\n",
    "    for i in range(5):                \n",
    "        conn_write.send('Hello, {}'.format(i))                \n",
    "        time.sleep(0.005)\n",
    "\n",
    "def consumer(conn_read):\n",
    "    while True:\n",
    "        res = conn_read.recv()\n",
    "        print(res)\n",
    "        time.sleep(0.5)\n",
    "        if not conn_read.poll():\n",
    "            break\n",
    "    \n",
    "conn_read, conn_write = mp.Pipe()\n",
    "\n",
    "process_1 = mp.Process(target=reporter, args=(conn_write,))\n",
    "process_2 = mp.Process(target=consumer, args=(conn_read,))\n",
    "\n",
    "process_1.start()\n",
    "process_2.start()\n",
    "\n",
    "process_1.join()\n",
    "process_2.join()\n"
   ]
  },
  {
   "cell_type": "markdown",
   "metadata": {},
   "source": [
    "### Классы процессов"
   ]
  },
  {
   "cell_type": "markdown",
   "metadata": {},
   "source": [
    "Можно создать класс процесса, унаследовавшись от Process"
   ]
  },
  {
   "cell_type": "code",
   "execution_count": 26,
   "metadata": {},
   "outputs": [
    {
     "name": "stdout",
     "output_type": "stream",
     "text": [
      "MyProcess started\n",
      "MyProcess finished\n"
     ]
    }
   ],
   "source": [
    "class MyProcess(mp.Process):\n",
    "    def __init__(self):\n",
    "        super().__init__()\n",
    "        \n",
    "    def run(self):\n",
    "        print('MyProcess started')\n",
    "        time.sleep(2)\n",
    "        print('MyProcess finished')\n",
    "        \n",
    "p = MyProcess()\n",
    "p.start()"
   ]
  },
  {
   "cell_type": "markdown",
   "metadata": {},
   "source": [
    "Преимущество классов в том, что можно инкапсулировать поведение и атрибуты внутри класса. Например, можно таким образом сделать UDP сервер."
   ]
  },
  {
   "cell_type": "code",
   "execution_count": 27,
   "metadata": {},
   "outputs": [],
   "source": [
    "import socket\n",
    "\n",
    "class UDPServer(mp.Process):\n",
    "    def __init__(self, host, port):\n",
    "        self.__host = host\n",
    "        self.__port = port\n",
    "        self.__sock = socket.socket(socket.AF_INET, socket.SOCK_DGRAM)\n",
    "        self.__sock.setsockopt(socket.SOL_SOCKET, socket.SO_REUSEADDR, 1)\n",
    "        self.__sock.bind((self.__host, self.__port))\n",
    "        self.__sock.settimeout(1)\n",
    "        super().__init__()\n",
    "        \n",
    "    def run(self):\n",
    "        while True:\n",
    "            try:\n",
    "                data = self.__sock.recvfrom(10)\n",
    "            except socket.timeout:\n",
    "                break\n",
    "        self.__sock.close()\n",
    "            \n",
    "udp_server = UDPServer('127.0.0.1', 8003) \n",
    "udp_server.start()\n",
    "udp_server.join()"
   ]
  },
  {
   "cell_type": "markdown",
   "metadata": {},
   "source": [
    "## Синхронизация"
   ]
  },
  {
   "cell_type": "markdown",
   "metadata": {},
   "source": [
    "Часто мы должны убедиться, что только один поток имеет доступ к разделяемым данным."
   ]
  },
  {
   "cell_type": "code",
   "execution_count": 28,
   "metadata": {},
   "outputs": [],
   "source": [
    "# для примера, в качестве разделяемых данных мы можем использовать RawValue, так как в этот тип не встроена синхронизация\n",
    "raw_value = mp.RawValue(c_uint32, 0)\n"
   ]
  },
  {
   "cell_type": "code",
   "execution_count": 29,
   "metadata": {},
   "outputs": [
    {
     "name": "stdout",
     "output_type": "stream",
     "text": [
      "c_uint(2)\n"
     ]
    }
   ],
   "source": [
    "def func(v):\n",
    "    v.value += 1\n",
    "    \n",
    "process_1 = mp.Process(target=func, args=(raw_value,))\n",
    "process_2 = mp.Process(target=func, args=(raw_value,))\n",
    "\n",
    "process_1.start()\n",
    "process_2.start()\n",
    "\n",
    "process_1.join()\n",
    "process_2.join()\n",
    "    \n",
    "print(raw_value)"
   ]
  },
  {
   "cell_type": "markdown",
   "metadata": {},
   "source": [
    "Для управления доступом к разделяемой памяти в примере выше необходима синхронизация. \n",
    "\n",
    "Можем использовать для этого **Lock**."
   ]
  },
  {
   "cell_type": "code",
   "execution_count": 30,
   "metadata": {},
   "outputs": [
    {
     "name": "stdout",
     "output_type": "stream",
     "text": [
      "c_uint(10)\n",
      "CPU times: user 2.48 ms, sys: 17 ms, total: 19.4 ms\n",
      "Wall time: 16 s\n"
     ]
    }
   ],
   "source": [
    "%%time\n",
    "\n",
    "lock = mp.Lock()\n",
    "\n",
    "def func(rw, lock):\n",
    "    with lock:  # гарантия того, что значение может менять только один поток\n",
    "        rw.value += 1\n",
    "        time.sleep(2)\n",
    "    \n",
    "processes = [ mp.Process(target=func, args=(raw_value, lock)) for i in range(n_cpu) ]\n",
    "\n",
    "list(map(lambda p: p.start(),  processes))\n",
    "list(map(lambda p: p.join(),  processes)) \n",
    "\n",
    "print(raw_value)"
   ]
  },
  {
   "cell_type": "markdown",
   "metadata": {},
   "source": [
    "Иногда требуется уведомить другой поток о событии. Для этого можно использовать **Condition** или **Event**"
   ]
  },
  {
   "cell_type": "code",
   "execution_count": 31,
   "metadata": {},
   "outputs": [
    {
     "name": "stdout",
     "output_type": "stream",
     "text": [
      "Wait\n",
      "Exit\n"
     ]
    }
   ],
   "source": [
    "condition = mp.Condition()\n",
    "\n",
    "def reporter(c):\n",
    "    time.sleep(5)\n",
    "    with c:\n",
    "        c.notify()\n",
    "        \n",
    "def consumer(c):\n",
    "    with c:\n",
    "        print('Wait')\n",
    "        c.wait()\n",
    "        print('Exit')\n",
    "    \n",
    "process_1 = mp.Process(target=reporter, args=(condition,))        \n",
    "process_2 = mp.Process(target=consumer, args=(condition,))  \n",
    "\n",
    "process_1.start()\n",
    "process_2.start()\n",
    "\n",
    "process_1.join()\n",
    "process_2.join()    "
   ]
  },
  {
   "cell_type": "markdown",
   "metadata": {},
   "source": [
    "Пример использования **Event**"
   ]
  },
  {
   "cell_type": "code",
   "execution_count": 32,
   "metadata": {},
   "outputs": [
    {
     "name": "stdout",
     "output_type": "stream",
     "text": [
      "Wait\n",
      "Exit\n"
     ]
    }
   ],
   "source": [
    "event = mp.Event()\n",
    "\n",
    "def reporter(e):\n",
    "    time.sleep(3)\n",
    "    e.set()  # уведомили другие процессы\n",
    "        \n",
    "def consumer(e):    \n",
    "    print('Wait')\n",
    "    e.wait()  # ждём уведомления (блокирующая операция)\n",
    "    print('Exit')\n",
    "    e.clear()  # сброс события, чтобы можно было снова вызвать set\n",
    "        \n",
    "process_1 = mp.Process(target=reporter, args=(event,))        \n",
    "process_2 = mp.Process(target=consumer, args=(event,))  \n",
    "\n",
    "process_1.start()\n",
    "process_2.start()\n",
    "\n",
    "process_1.join()\n",
    "process_2.join()\n",
    "        "
   ]
  },
  {
   "cell_type": "markdown",
   "metadata": {},
   "source": [
    "Хорошая заметка про примитивы синхронизации с примерами:\n",
    "    \n",
    "http://www.laurentluce.com/posts/python-threads-synchronization-locks-rlocks-semaphores-conditions-events-and-queues/"
   ]
  },
  {
   "cell_type": "markdown",
   "metadata": {},
   "source": [
    "Официальная документация по multiprocessing:\n",
    "\n",
    "https://docs.python.org/3.5/library/multiprocessing.html"
   ]
  },
  {
   "cell_type": "markdown",
   "metadata": {},
   "source": [
    "## Заметка по использованию numpy массивов в процессах"
   ]
  },
  {
   "cell_type": "markdown",
   "metadata": {},
   "source": [
    "Для данных хочется организовать доступ, чтобы с ними можно было бы работать также, как и с numpy массивами. Напрямую это сделать нельзя, но можно воспользоваться RawArray и инициализировать numpy обёртку уже внутри процессов. Например:"
   ]
  },
  {
   "cell_type": "code",
   "execution_count": 33,
   "metadata": {},
   "outputs": [],
   "source": [
    "import numpy as np"
   ]
  },
  {
   "cell_type": "code",
   "execution_count": 34,
   "metadata": {},
   "outputs": [
    {
     "name": "stdout",
     "output_type": "stream",
     "text": [
      "<Process(Process-7274, started)> (3, 3)\n",
      "<Process(Process-7275, started)> (3, 3)\n",
      "[3, 3, 3, 3, 3, 3, 3, 3, 3]\n"
     ]
    }
   ],
   "source": [
    "raw_array = mp.RawArray(c_uint32, 9)\n",
    "\n",
    "# Важно! тип создаваемого RawArray должен соответствовать dtype numpy массива\n",
    "\n",
    "def func(raw_arr, b):\n",
    "    np_arr = np.frombuffer(raw_arr, dtype=np.uint32)\n",
    "    np_arr = np_arr.reshape((3, 3))\n",
    "    np_arr[:] = b\n",
    "    print(mp.current_process(), np_arr.shape)\n",
    "    \n",
    "process_1 = mp.Process(target=func, args=(raw_array, 5))        \n",
    "process_2 = mp.Process(target=func, args=(raw_array, 3))  \n",
    "\n",
    "process_1.start()\n",
    "process_2.start()\n",
    "\n",
    "process_1.join()\n",
    "process_2.join() \n",
    "    \n",
    "print([a for a in raw_array])    "
   ]
  },
  {
   "cell_type": "markdown",
   "metadata": {},
   "source": [
    "## Техника передачи экземпляров классов в процессы"
   ]
  },
  {
   "cell_type": "markdown",
   "metadata": {},
   "source": [
    "При использовании threading все потоки работают в одном процессе и в одном адресном пространстве, поэтому мы можем передавать экземпляры классов в поток Thread и изменения сделанные одним потоком мы увидим в другом. \n",
    "\n",
    "С процессами (Process) дела обстоят иначе. Если мы передадим экземпляр класса в процесс, то по-умолчанию он и все его атрибуты скопируются. То есть он будет работать, но сделанные в нём изменения будут носить локальный характер."
   ]
  },
  {
   "cell_type": "markdown",
   "metadata": {},
   "source": [
    "Имеем обычный класс:"
   ]
  },
  {
   "cell_type": "code",
   "execution_count": 54,
   "metadata": {},
   "outputs": [],
   "source": [
    "class A:\n",
    "    def __init__(self):\n",
    "        self.__i = 0\n",
    "        \n",
    "    def set_i(self, i):\n",
    "        self.__i = i\n",
    "        print('ID of self.__i: {}'.format(id(self.__i)))\n",
    "        \n",
    "    def __str__(self):\n",
    "        return 'A-{}'.format(self.__i)"
   ]
  },
  {
   "cell_type": "markdown",
   "metadata": {},
   "source": [
    "С ним можно работать как обычно:"
   ]
  },
  {
   "cell_type": "code",
   "execution_count": 55,
   "metadata": {},
   "outputs": [
    {
     "name": "stdout",
     "output_type": "stream",
     "text": [
      "ID of self.__i: 10919328\n",
      "A-1\n"
     ]
    }
   ],
   "source": [
    "a = A()\n",
    "\n",
    "a.set_i(1)\n",
    "\n",
    "print(a)"
   ]
  },
  {
   "cell_type": "markdown",
   "metadata": {},
   "source": [
    "Теперь в нескольких процессах:"
   ]
  },
  {
   "cell_type": "code",
   "execution_count": 58,
   "metadata": {},
   "outputs": [
    {
     "name": "stdout",
     "output_type": "stream",
     "text": [
      "ID of __main__ a: 140508947362200\n",
      "ID of self.__i: 10919328\n",
      "ID of self.__i: 10919360\n",
      "Process: 8995\n",
      "ID of a: 140508947362200\n",
      "Process: 8998\n",
      "ID of a: 140508947362200\n",
      "a: A-2\n",
      "a: A-1\n"
     ]
    }
   ],
   "source": [
    "def do_smth_with_A(a, i):\n",
    "    a.set_i(i)\n",
    "    print('Process: {}'.format(os.getpid()))\n",
    "    print('ID of a: {}'.format(id(a)))\n",
    "    print('a: {}'.format(a))\n",
    "    \n",
    "a = A()    \n",
    "\n",
    "print('ID of __main__ a: {}'.format(id(a)))\n",
    "    \n",
    "process_1 = mp.Process(target=do_smth, args=(a, 1))    \n",
    "process_2 = mp.Process(target=do_smth, args=(a, 2))    \n",
    "\n",
    "process_1.start()\n",
    "process_2.start()\n",
    "\n",
    "process_1.join()\n",
    "process_2.join()"
   ]
  },
  {
   "cell_type": "code",
   "execution_count": 57,
   "metadata": {},
   "outputs": [
    {
     "name": "stdout",
     "output_type": "stream",
     "text": [
      "A-0\n"
     ]
    }
   ],
   "source": [
    "print(a)"
   ]
  },
  {
   "cell_type": "markdown",
   "metadata": {},
   "source": [
    "Видим, что в классе ничего не удалось изменить. Притом видно, что адрес расположения экземпляра класса один и тот же, но адрес переменной **i** внутри класса совсем не тот. Это копия этого атрибута, её бессмысленно менять, только если она работает и имеет значение внутри процесса."
   ]
  },
  {
   "cell_type": "markdown",
   "metadata": {},
   "source": [
    "Можно выйти из положения, если использовать разделяемые типы внутри класса. Например:"
   ]
  },
  {
   "cell_type": "code",
   "execution_count": 64,
   "metadata": {},
   "outputs": [
    {
     "name": "stdout",
     "output_type": "stream",
     "text": [
      "ID of __i: 140508945478768\n",
      "ID of __i: 140508945478768\n"
     ]
    }
   ],
   "source": [
    "class B:\n",
    "    def __init__(self):\n",
    "        self.__i = mp.Value(c_uint32, 0)\n",
    "        \n",
    "    def set_i(self, i):\n",
    "        with self.__i.get_lock():\n",
    "            self.__i.value = i\n",
    "        print('ID of __i: {}'.format(id(self.__i)))\n",
    "            \n",
    "    def __str__(self):\n",
    "        return 'B-{}'.format(self.__i.value)\n",
    "    \n",
    "    \n",
    "def do_smth_with_B(b, i):\n",
    "    b.set_i(i)\n",
    "    \n",
    "b = B()    \n",
    "    \n",
    "process_1 = mp.Process(target=do_smth_with_B, args=(b, 1))    \n",
    "process_2 = mp.Process(target=do_smth_with_B, args=(b, 2))    \n",
    "\n",
    "process_1.start()\n",
    "process_2.start()\n",
    "\n",
    "process_1.join()\n",
    "process_2.join()"
   ]
  },
  {
   "cell_type": "code",
   "execution_count": 65,
   "metadata": {},
   "outputs": [
    {
     "name": "stdout",
     "output_type": "stream",
     "text": [
      "B-2\n"
     ]
    }
   ],
   "source": [
    "print(b)"
   ]
  },
  {
   "cell_type": "markdown",
   "metadata": {},
   "source": [
    "Это как раз то, что нам хотелось получить. Разделять эксземпляры классов можно, на для изменяемых и видных снаружи атрибутах должны быть использованы примитивы из sharedtypes (Value, RawValue, Array, RawArray)."
   ]
  },
  {
   "cell_type": "markdown",
   "metadata": {},
   "source": [
    "Можно даже передавать в процессы сами классы, если сделать их callable. Это более наглядно. Например:"
   ]
  },
  {
   "cell_type": "code",
   "execution_count": 72,
   "metadata": {},
   "outputs": [],
   "source": [
    "class C:\n",
    "    def __init__(self):\n",
    "        self.__i = mp.Value(c_uint32)\n",
    "        \n",
    "    def __call__(self, i):  # переопределим встроенный метод __call__, чтобы передать процессу сразу экземпляр класса\n",
    "        with self.__i:\n",
    "            self.__i.value = i\n",
    "            \n",
    "    def __str__(self):\n",
    "        return 'C-{}'.format(self.__i.value)"
   ]
  },
  {
   "cell_type": "code",
   "execution_count": 73,
   "metadata": {},
   "outputs": [],
   "source": [
    "c = C()    \n",
    "    \n",
    "process_1 = mp.Process(target=c, args=(1,))    \n",
    "process_2 = mp.Process(target=c, args=(2,))    \n",
    "\n",
    "process_1.start()\n",
    "process_2.start()\n",
    "\n",
    "process_1.join()\n",
    "process_2.join()"
   ]
  },
  {
   "cell_type": "code",
   "execution_count": 74,
   "metadata": {},
   "outputs": [
    {
     "name": "stdout",
     "output_type": "stream",
     "text": [
      "C-2\n"
     ]
    }
   ],
   "source": [
    "print(c)"
   ]
  },
  {
   "cell_type": "code",
   "execution_count": null,
   "metadata": {},
   "outputs": [],
   "source": []
  }
 ],
 "metadata": {
  "kernelspec": {
   "display_name": "Python 3",
   "language": "python",
   "name": "python3"
  },
  "language_info": {
   "codemirror_mode": {
    "name": "ipython",
    "version": 3
   },
   "file_extension": ".py",
   "mimetype": "text/x-python",
   "name": "python",
   "nbconvert_exporter": "python",
   "pygments_lexer": "ipython3",
   "version": "3.5.2"
  }
 },
 "nbformat": 4,
 "nbformat_minor": 2
}
