{
 "cells": [
  {
   "cell_type": "markdown",
   "metadata": {},
   "source": [
    "# Основы Python. Часть 5. Часть 2\n",
    "\n",
    "## Сокеты серверы"
   ]
  },
  {
   "cell_type": "code",
   "execution_count": 1,
   "metadata": {},
   "outputs": [],
   "source": [
    "import socket\n",
    "\n",
    "udp_host = '127.0.0.1'\n",
    "udp_port = 50001\n",
    "\n",
    "tcp_host = '127.0.0.1'\n",
    "tcp_port = 50002"
   ]
  },
  {
   "cell_type": "markdown",
   "metadata": {},
   "source": [
    "Пример создания простого UDP сервера"
   ]
  },
  {
   "cell_type": "code",
   "execution_count": 5,
   "metadata": {},
   "outputs": [
    {
     "name": "stdout",
     "output_type": "stream",
     "text": [
      "(b'He', ('127.0.0.1', 54008))\n"
     ]
    }
   ],
   "source": [
    "sock = socket.socket(socket.AF_INET, socket.SOCK_DGRAM)\n",
    "\n",
    "sock.bind((udp_host, udp_port))\n",
    "\n",
    "n_bytes = 2\n",
    "\n",
    "while True:\n",
    "    \n",
    "    sock_recv = sock.recvfrom(n_bytes)\n",
    "    \n",
    "    print(sock_recv)\n",
    "    \n",
    "    break\n",
    "\n",
    "sock.close()"
   ]
  },
  {
   "cell_type": "markdown",
   "metadata": {},
   "source": [
    "Пример создания простого TCP сервера"
   ]
  },
  {
   "cell_type": "code",
   "execution_count": 6,
   "metadata": {},
   "outputs": [
    {
     "name": "stdout",
     "output_type": "stream",
     "text": [
      "b'Hello'\n"
     ]
    }
   ],
   "source": [
    "sock = socket.socket(socket.AF_INET, socket.SOCK_STREAM)\n",
    "\n",
    "sock.bind((tcp_host, tcp_port))\n",
    "\n",
    "sock.listen(True)\n",
    "\n",
    "while True:\n",
    "    \n",
    "    connection, address = sock.accept()    \n",
    "    \n",
    "    data = connection.recv(1024)                       \n",
    "        \n",
    "    print(data)\n",
    "    \n",
    "    break\n",
    "    \n",
    "connection.close()\n",
    "sock.close()"
   ]
  },
  {
   "cell_type": "markdown",
   "metadata": {},
   "source": [
    "## Неблокирующие сокеты"
   ]
  },
  {
   "cell_type": "markdown",
   "metadata": {},
   "source": [
    "Пример неблокирующего UDP сервера"
   ]
  },
  {
   "cell_type": "code",
   "execution_count": 7,
   "metadata": {},
   "outputs": [
    {
     "name": "stdout",
     "output_type": "stream",
     "text": [
      "timeout\n",
      "timeout\n",
      "timeout\n",
      "timeout\n",
      "timeout\n",
      "timeout\n",
      "timeout\n",
      "timeout\n",
      "timeout\n",
      "timeout\n",
      "timeout\n",
      "timeout\n",
      "timeout\n",
      "timeout\n",
      "timeout\n",
      "timeout\n",
      "timeout\n",
      "timeout\n",
      "timeout\n",
      "timeout\n",
      "timeout\n",
      "timeout\n",
      "timeout\n",
      "timeout\n",
      "timeout\n",
      "timeout\n",
      "timeout\n",
      "timeout\n",
      "timeout\n",
      "timeout\n",
      "timeout\n",
      "timeout\n",
      "timeout\n",
      "timeout\n",
      "timeout\n",
      "timeout\n",
      "timeout\n",
      "timeout\n",
      "timeout\n",
      "timeout\n",
      "timeout\n",
      "timeout\n",
      "timeout\n",
      "timeout\n",
      "timeout\n",
      "timeout\n",
      "timeout\n",
      "timeout\n",
      "timeout\n",
      "timeout\n",
      "timeout\n",
      "timeout\n",
      "timeout\n",
      "timeout\n",
      "timeout\n",
      "timeout\n",
      "timeout\n",
      "timeout\n",
      "timeout\n",
      "timeout\n",
      "timeout\n",
      "timeout\n",
      "timeout\n",
      "timeout\n",
      "b'Hello'\n"
     ]
    }
   ],
   "source": [
    "sock = socket.socket(socket.AF_INET, socket.SOCK_DGRAM)\n",
    "\n",
    "sock.settimeout(2)\n",
    "\n",
    "sock.bind((udp_host, udp_port))\n",
    "\n",
    "n_bytes = 100\n",
    "\n",
    "while True:\n",
    "    \n",
    "    try:\n",
    "        \n",
    "        data, address = sock.recvfrom(n_bytes)  # <-- timeout for receive\n",
    "\n",
    "        print(data)\n",
    "\n",
    "        break\n",
    "    \n",
    "    except socket.timeout:\n",
    "        \n",
    "        print('timeout')\n",
    "\n",
    "sock.close()"
   ]
  },
  {
   "cell_type": "markdown",
   "metadata": {},
   "source": [
    "Пример неблокирующего TCP сервера"
   ]
  },
  {
   "cell_type": "code",
   "execution_count": 8,
   "metadata": {},
   "outputs": [
    {
     "name": "stdout",
     "output_type": "stream",
     "text": [
      "timeout\n",
      "timeout\n",
      "timeout\n",
      "timeout\n",
      "timeout\n",
      "timeout\n",
      "timeout\n",
      "timeout\n",
      "timeout\n",
      "timeout\n",
      "timeout\n",
      "timeout\n",
      "b'Hello'\n"
     ]
    }
   ],
   "source": [
    "sock = socket.socket(socket.AF_INET, socket.SOCK_STREAM)\n",
    "\n",
    "sock.settimeout(2)\n",
    "\n",
    "sock.bind((tcp_host, tcp_port))\n",
    "\n",
    "sock.listen(True)\n",
    "\n",
    "while True:                                          \n",
    "        \n",
    "    try:\n",
    "        \n",
    "        connection, address = sock.accept() # <-- timeout for accept\n",
    "        \n",
    "        data = connection.recv(1024)\n",
    "\n",
    "        print(data)\n",
    "\n",
    "        break\n",
    "    \n",
    "    except socket.timeout:\n",
    "        \n",
    "        print('timeout')\n",
    "    \n",
    "connection.close()\n",
    "sock.close()"
   ]
  },
  {
   "cell_type": "markdown",
   "metadata": {},
   "source": [
    "## Низкоуровневые (RAW) сокеты"
   ]
  },
  {
   "cell_type": "markdown",
   "metadata": {},
   "source": [
    "https://www.programcreek.com/python/example/7887/socket.SOCK_RAW"
   ]
  },
  {
   "cell_type": "markdown",
   "metadata": {},
   "source": [
    "Простой HTTP сервер"
   ]
  },
  {
   "cell_type": "code",
   "execution_count": 4,
   "metadata": {},
   "outputs": [
    {
     "name": "stdout",
     "output_type": "stream",
     "text": [
      "start server\n",
      "stop server\n"
     ]
    }
   ],
   "source": [
    "from http.server import HTTPServer, BaseHTTPRequestHandler\n",
    "\n",
    "class Handler(BaseHTTPRequestHandler):\n",
    "    def do_GET(self):\n",
    "        self.wfile.write(b'{\"result\": \"success\"}')\n",
    "\n",
    "server = HTTPServer(('127.0.0.1', 8090), Handler)\n",
    "\n",
    "try:\n",
    "    print (\"start server\")\n",
    "    \n",
    "    server.serve_forever()\n",
    "    \n",
    "except KeyboardInterrupt:\n",
    "    \n",
    "    server.shutdown()\n",
    "    \n",
    "    print('stop server')"
   ]
  },
  {
   "cell_type": "code",
   "execution_count": null,
   "metadata": {},
   "outputs": [],
   "source": []
  }
 ],
 "metadata": {
  "kernelspec": {
   "display_name": "Python 3",
   "language": "python",
   "name": "python3"
  },
  "language_info": {
   "codemirror_mode": {
    "name": "ipython",
    "version": 3
   },
   "file_extension": ".py",
   "mimetype": "text/x-python",
   "name": "python",
   "nbconvert_exporter": "python",
   "pygments_lexer": "ipython3",
   "version": "3.6.5"
  }
 },
 "nbformat": 4,
 "nbformat_minor": 2
}
