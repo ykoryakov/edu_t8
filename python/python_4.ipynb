{
 "cells": [
  {
   "cell_type": "markdown",
   "metadata": {},
   "source": [
    "# Основы Python. Часть 4\n",
    "\n",
    "## Метапрограммирование."
   ]
  },
  {
   "cell_type": "markdown",
   "metadata": {},
   "source": [
    "### Создание функций"
   ]
  },
  {
   "cell_type": "code",
   "execution_count": 1,
   "metadata": {},
   "outputs": [],
   "source": [
    "def f(a, b):\n",
    "    return a + b"
   ]
  },
  {
   "cell_type": "code",
   "execution_count": 2,
   "metadata": {},
   "outputs": [
    {
     "data": {
      "text/plain": [
       "3"
      ]
     },
     "execution_count": 2,
     "metadata": {},
     "output_type": "execute_result"
    }
   ],
   "source": [
    "s = f\n",
    "\n",
    "s(1, 2)"
   ]
  },
  {
   "cell_type": "code",
   "execution_count": 3,
   "metadata": {},
   "outputs": [],
   "source": [
    "def create_f():\n",
    "    def f_template(a, b):\n",
    "        return a + b\n",
    "    return f"
   ]
  },
  {
   "cell_type": "code",
   "execution_count": 4,
   "metadata": {},
   "outputs": [
    {
     "data": {
      "text/plain": [
       "3"
      ]
     },
     "execution_count": 4,
     "metadata": {},
     "output_type": "execute_result"
    }
   ],
   "source": [
    "f1 = create_f()\n",
    "\n",
    "f2 = create_f()\n",
    "\n",
    "f1(1, 2)"
   ]
  },
  {
   "cell_type": "code",
   "execution_count": 5,
   "metadata": {},
   "outputs": [
    {
     "name": "stdout",
     "output_type": "stream",
     "text": [
      "Hello\n",
      "CPU times: user 2.94 ms, sys: 314 µs, total: 3.26 ms\n",
      "Wall time: 5 s\n"
     ]
    }
   ],
   "source": [
    "%%time\n",
    "\n",
    "from functools import wraps\n",
    "import random\n",
    "import time\n",
    "\n",
    "def wait_random(min_wait=5, max_wait=10):\n",
    "    def inner_function(func):\n",
    "        @wraps(func)\n",
    "        def wrapper(*args, **kwargs):\n",
    "            time.sleep(random.randint(min_wait, max_wait))\n",
    "            return func(*args, **kwargs)\n",
    "        return wrapper\n",
    "    return inner_function\n",
    "\n",
    "@wait_random(4, 5)\n",
    "def print_hello():\n",
    "    print('Hello')\n",
    "    \n",
    "print_hello()"
   ]
  },
  {
   "cell_type": "markdown",
   "metadata": {},
   "source": [
    "### Простое создание методов класса"
   ]
  },
  {
   "cell_type": "code",
   "execution_count": 6,
   "metadata": {},
   "outputs": [
    {
     "name": "stdout",
     "output_type": "stream",
     "text": [
      "{'__module__': '__main__', 'name': 'is A', '__dict__': <attribute '__dict__' of 'A' objects>, '__weakref__': <attribute '__weakref__' of 'A' objects>, '__doc__': None, 'f': <function f at 0x7f142814f730>}\n",
      "f run: is A\n"
     ]
    }
   ],
   "source": [
    "class A:\n",
    "    name = 'is A'\n",
    "\n",
    "def f(obj):\n",
    "    print('f run: {}'.format(obj.name))\n",
    "\n",
    "A.f = f\n",
    "\n",
    "print(A.__dict__)\n",
    "\n",
    "a = A()\n",
    "\n",
    "a.f()"
   ]
  },
  {
   "cell_type": "markdown",
   "metadata": {},
   "source": [
    "### `hasattr` `getattr` и `setattr`"
   ]
  },
  {
   "cell_type": "code",
   "execution_count": 7,
   "metadata": {},
   "outputs": [],
   "source": [
    "class A:\n",
    "    name = 'is A'\n",
    "    \n",
    "    @staticmethod\n",
    "    def s():\n",
    "        print('static member call')\n",
    "    \n",
    "    def f(self):\n",
    "        print('object member call')"
   ]
  },
  {
   "cell_type": "code",
   "execution_count": 8,
   "metadata": {},
   "outputs": [
    {
     "data": {
      "text/plain": [
       "True"
      ]
     },
     "execution_count": 8,
     "metadata": {},
     "output_type": "execute_result"
    }
   ],
   "source": [
    "hasattr(A, 'name')"
   ]
  },
  {
   "cell_type": "code",
   "execution_count": 9,
   "metadata": {},
   "outputs": [
    {
     "data": {
      "text/plain": [
       "True"
      ]
     },
     "execution_count": 9,
     "metadata": {},
     "output_type": "execute_result"
    }
   ],
   "source": [
    "hasattr(A, 'f')"
   ]
  },
  {
   "cell_type": "markdown",
   "metadata": {},
   "source": [
    "Можно получить доступ к атрибуту по его имени"
   ]
  },
  {
   "cell_type": "code",
   "execution_count": 10,
   "metadata": {},
   "outputs": [
    {
     "data": {
      "text/plain": [
       "'is A'"
      ]
     },
     "execution_count": 10,
     "metadata": {},
     "output_type": "execute_result"
    }
   ],
   "source": [
    "_name = getattr(A, 'name')\n",
    "_name"
   ]
  },
  {
   "cell_type": "code",
   "execution_count": 11,
   "metadata": {},
   "outputs": [
    {
     "name": "stdout",
     "output_type": "stream",
     "text": [
      "static member call\n"
     ]
    }
   ],
   "source": [
    "_s = getattr(A, 's')\n",
    "_s()"
   ]
  },
  {
   "cell_type": "markdown",
   "metadata": {},
   "source": [
    "Ошибка, потому что методу f нужен один позиционный аргумент. В случае класса - это сам объект."
   ]
  },
  {
   "cell_type": "code",
   "execution_count": 12,
   "metadata": {},
   "outputs": [
    {
     "ename": "TypeError",
     "evalue": "f() missing 1 required positional argument: 'self'",
     "output_type": "error",
     "traceback": [
      "\u001b[0;31m---------------------------------------------------------------------------\u001b[0m",
      "\u001b[0;31mTypeError\u001b[0m                                 Traceback (most recent call last)",
      "\u001b[0;32m<ipython-input-12-b441fbdbfa12>\u001b[0m in \u001b[0;36m<module>\u001b[0;34m()\u001b[0m\n\u001b[1;32m      1\u001b[0m \u001b[0m_f\u001b[0m \u001b[0;34m=\u001b[0m \u001b[0mgetattr\u001b[0m\u001b[0;34m(\u001b[0m\u001b[0mA\u001b[0m\u001b[0;34m,\u001b[0m \u001b[0;34m'f'\u001b[0m\u001b[0;34m)\u001b[0m\u001b[0;34m\u001b[0m\u001b[0;34m\u001b[0m\u001b[0m\n\u001b[0;32m----> 2\u001b[0;31m \u001b[0m_f\u001b[0m\u001b[0;34m(\u001b[0m\u001b[0;34m)\u001b[0m\u001b[0;34m\u001b[0m\u001b[0;34m\u001b[0m\u001b[0m\n\u001b[0m",
      "\u001b[0;31mTypeError\u001b[0m: f() missing 1 required positional argument: 'self'"
     ]
    }
   ],
   "source": [
    "_f = getattr(A, 'f')\n",
    "_f()"
   ]
  },
  {
   "cell_type": "markdown",
   "metadata": {},
   "source": [
    "Создадим объект и теперь можно его вызвать"
   ]
  },
  {
   "cell_type": "code",
   "execution_count": 13,
   "metadata": {},
   "outputs": [
    {
     "name": "stdout",
     "output_type": "stream",
     "text": [
      "object member call\n"
     ]
    }
   ],
   "source": [
    "a = A()\n",
    "\n",
    "_f(a)"
   ]
  },
  {
   "cell_type": "markdown",
   "metadata": {},
   "source": [
    "Можно прикрепить новую переменную к классу"
   ]
  },
  {
   "cell_type": "code",
   "execution_count": 14,
   "metadata": {},
   "outputs": [
    {
     "data": {
      "text/plain": [
       "1"
      ]
     },
     "execution_count": 14,
     "metadata": {},
     "output_type": "execute_result"
    }
   ],
   "source": [
    "setattr(A, 'value', 1)\n",
    "\n",
    "A.value"
   ]
  },
  {
   "cell_type": "markdown",
   "metadata": {},
   "source": [
    "Можно прикрепить новый метод к классу"
   ]
  },
  {
   "cell_type": "code",
   "execution_count": 16,
   "metadata": {},
   "outputs": [],
   "source": [
    "def get_value(self):\n",
    "    print('Object: {}'.format(self.name))\n",
    "\n",
    "setattr(A, 'get_value', get_value)"
   ]
  },
  {
   "cell_type": "markdown",
   "metadata": {},
   "source": [
    "Ошибка, потому что функции нужен аргумент."
   ]
  },
  {
   "cell_type": "code",
   "execution_count": 17,
   "metadata": {},
   "outputs": [
    {
     "ename": "TypeError",
     "evalue": "get_value() missing 1 required positional argument: 'self'",
     "output_type": "error",
     "traceback": [
      "\u001b[0;31m---------------------------------------------------------------------------\u001b[0m",
      "\u001b[0;31mTypeError\u001b[0m                                 Traceback (most recent call last)",
      "\u001b[0;32m<ipython-input-17-99857d80f63f>\u001b[0m in \u001b[0;36m<module>\u001b[0;34m()\u001b[0m\n\u001b[0;32m----> 1\u001b[0;31m \u001b[0mA\u001b[0m\u001b[0;34m.\u001b[0m\u001b[0mget_value\u001b[0m\u001b[0;34m(\u001b[0m\u001b[0;34m)\u001b[0m\u001b[0;34m\u001b[0m\u001b[0;34m\u001b[0m\u001b[0m\n\u001b[0m",
      "\u001b[0;31mTypeError\u001b[0m: get_value() missing 1 required positional argument: 'self'"
     ]
    }
   ],
   "source": [
    "A.get_value()"
   ]
  },
  {
   "cell_type": "markdown",
   "metadata": {},
   "source": [
    "Этот метод надо вызывать с объектом класса"
   ]
  },
  {
   "cell_type": "code",
   "execution_count": 18,
   "metadata": {},
   "outputs": [
    {
     "name": "stdout",
     "output_type": "stream",
     "text": [
      "Object: is A\n"
     ]
    }
   ],
   "source": [
    "a = A()\n",
    "\n",
    "A.get_value(a)"
   ]
  },
  {
   "cell_type": "markdown",
   "metadata": {},
   "source": [
    "Эквивалентно"
   ]
  },
  {
   "cell_type": "code",
   "execution_count": 19,
   "metadata": {},
   "outputs": [
    {
     "name": "stdout",
     "output_type": "stream",
     "text": [
      "Object: is A\n"
     ]
    }
   ],
   "source": [
    "a.get_value()"
   ]
  },
  {
   "cell_type": "markdown",
   "metadata": {},
   "source": [
    "### Создание классов с помощью `Type`"
   ]
  },
  {
   "cell_type": "markdown",
   "metadata": {},
   "source": [
    "Динамическое создание простого класса"
   ]
  },
  {
   "cell_type": "code",
   "execution_count": 20,
   "metadata": {},
   "outputs": [],
   "source": [
    "class A:\n",
    "    pass\n",
    "\n",
    "A = type('A', (), {})"
   ]
  },
  {
   "cell_type": "markdown",
   "metadata": {},
   "source": [
    "Более сложный пример"
   ]
  },
  {
   "cell_type": "code",
   "execution_count": 22,
   "metadata": {},
   "outputs": [
    {
     "name": "stdout",
     "output_type": "stream",
     "text": [
      "<class 'type'>\n",
      "<class '__main__.B'>\n",
      "base method\n",
      "method\n",
      "1\n"
     ]
    }
   ],
   "source": [
    "def f(self): \n",
    "    print('method')\n",
    "    \n",
    "class A:\n",
    "    def d(self): \n",
    "        print('base method') \n",
    "        \n",
    "B = type('B', (A, ), dict(x=1, f=f)) \n",
    "\n",
    "print(type(B))\n",
    "  \n",
    "obj = B() \n",
    "\n",
    "print(type(obj))\n",
    "  \n",
    "obj.d() \n",
    "  \n",
    "obj.f() \n",
    "  \n",
    "print(obj.x) \n"
   ]
  },
  {
   "cell_type": "markdown",
   "metadata": {},
   "source": [
    "### Метаклассы"
   ]
  },
  {
   "cell_type": "markdown",
   "metadata": {},
   "source": [
    "Метаклассы - фабрики по созданию новых классов."
   ]
  },
  {
   "cell_type": "code",
   "execution_count": 23,
   "metadata": {},
   "outputs": [],
   "source": [
    "# MyClass = MyMetaClass()\n",
    "# MyObject = MyClass()"
   ]
  },
  {
   "cell_type": "code",
   "execution_count": 24,
   "metadata": {},
   "outputs": [],
   "source": [
    "class Meta(type):\n",
    "    pass\n",
    "\n",
    "class MyClass(metaclass=Meta):\n",
    "    pass\n",
    "\n",
    "class MySubclass(MyClass):\n",
    "    pass"
   ]
  },
  {
   "cell_type": "code",
   "execution_count": 26,
   "metadata": {},
   "outputs": [],
   "source": [
    "class MetaClass(type):\n",
    "    \n",
    "    def __new__(meta_cls, cls_name, cls_bases, cls_methods):        \n",
    "        \n",
    "        new_cls_methods = {}\n",
    "        for name, val in cls_methods.items():\n",
    "            if not name.startswith('__'):\n",
    "                new_cls_methods[name] = val\n",
    "                new_cls_methods['{}_display'.format(name)] = val\n",
    "            else:\n",
    "                new_cls_methods[name] = val\n",
    "                \n",
    "        print('__new__ Meta class: {}'.format(meta_cls))\n",
    "        print('__new__ Class name: {}'.format(cls_name))\n",
    "        print('__new__ Class bases: {}'.format(cls_bases))\n",
    "        print('__new__ Class methods: {}'.format(new_cls_methods))                \n",
    "\n",
    "        return type.__new__(meta_cls, cls_name, cls_bases, new_cls_methods)\n",
    "    \n",
    "    def __init__(cls, name, bases, cls_methods):\n",
    "        \n",
    "        print('__init__ cls: {}'.format(cls))\n",
    "        print('__init__ name: {}'.format(name))\n",
    "        print('__init__ bases: {}'.format(bases))\n",
    "        print('__init__ methods: {}'.format(bases))            "
   ]
  },
  {
   "cell_type": "code",
   "execution_count": 28,
   "metadata": {},
   "outputs": [
    {
     "name": "stdout",
     "output_type": "stream",
     "text": [
      "__new__ Meta class: <class '__main__.MetaClass'>\n",
      "__new__ Class name: A\n",
      "__new__ Class bases: ()\n",
      "__new__ Class methods: {'a': 1, 'a_display': 1}\n",
      "__init__ cls: <class '__main__.A'>\n",
      "__init__ name: A\n",
      "__init__ bases: ()\n",
      "__init__ methods: ()\n"
     ]
    }
   ],
   "source": [
    "A = MetaClass('A', (), {'a': 1})\n",
    "a = A()"
   ]
  },
  {
   "cell_type": "code",
   "execution_count": 29,
   "metadata": {},
   "outputs": [
    {
     "name": "stdout",
     "output_type": "stream",
     "text": [
      "__new__ Meta class: <class '__main__.MetaClass'>\n",
      "__new__ Class name: A\n",
      "__new__ Class bases: ()\n",
      "__new__ Class methods: {'__module__': '__main__', '__qualname__': 'A', '__init__': <function A.__init__ at 0x7f14280e0ae8>, 'f': <function A.f at 0x7f14280e0bf8>, 'f_display': <function A.f at 0x7f14280e0bf8>, '__classcell__': <cell at 0x7f1428151be8: empty>}\n",
      "__init__ cls: <class '__main__.A'>\n",
      "__init__ name: A\n",
      "__init__ bases: ()\n",
      "__init__ methods: ()\n"
     ]
    }
   ],
   "source": [
    "class A (metaclass=MetaClass):\n",
    "    \n",
    "    def __init__(self):\n",
    "        super().__init__()\n",
    "        \n",
    "    def f(a):\n",
    "        print('f method')"
   ]
  },
  {
   "cell_type": "markdown",
   "metadata": {},
   "source": [
    "Теперь у нас есть два метода вместо одного."
   ]
  },
  {
   "cell_type": "code",
   "execution_count": 31,
   "metadata": {},
   "outputs": [
    {
     "name": "stdout",
     "output_type": "stream",
     "text": [
      "f method\n",
      "f method\n"
     ]
    }
   ],
   "source": [
    "a = A()\n",
    "\n",
    "a.f()\n",
    "\n",
    "a.f_display()"
   ]
  },
  {
   "cell_type": "markdown",
   "metadata": {},
   "source": [
    "### Использование метаклассов для создания базовых абстрактных классов"
   ]
  },
  {
   "cell_type": "code",
   "execution_count": 32,
   "metadata": {},
   "outputs": [],
   "source": [
    "# источник примера: https://julien.danjou.info/guide-python-static-class-abstract-methods/\n",
    "from abc import ABCMeta, ABC, abstractmethod\n",
    "\n",
    "class BasePizza(metaclass=ABCMeta):    \n",
    "\n",
    "    @staticmethod\n",
    "    @abstractmethod    \n",
    "    def get_ingredients():\n",
    "         \"\"\"Вернуть список ингридиентов.\"\"\"\n",
    "\n",
    "class DietPizza(BasePizza):\n",
    "    \n",
    "    @staticmethod\n",
    "    def get_ingredients():\n",
    "        return ['рисовая мука', 'салат']"
   ]
  },
  {
   "cell_type": "markdown",
   "metadata": {},
   "source": [
    "Ошибка. Мы не можем создать объект базового класса."
   ]
  },
  {
   "cell_type": "code",
   "execution_count": 35,
   "metadata": {},
   "outputs": [
    {
     "ename": "TypeError",
     "evalue": "Can't instantiate abstract class BasePizza with abstract methods get_ingredients",
     "output_type": "error",
     "traceback": [
      "\u001b[0;31m---------------------------------------------------------------------------\u001b[0m",
      "\u001b[0;31mTypeError\u001b[0m                                 Traceback (most recent call last)",
      "\u001b[0;32m<ipython-input-35-1f2e6d204377>\u001b[0m in \u001b[0;36m<module>\u001b[0;34m()\u001b[0m\n\u001b[0;32m----> 1\u001b[0;31m \u001b[0mb\u001b[0m \u001b[0;34m=\u001b[0m \u001b[0mBasePizza\u001b[0m\u001b[0;34m(\u001b[0m\u001b[0;34m)\u001b[0m\u001b[0;34m\u001b[0m\u001b[0;34m\u001b[0m\u001b[0m\n\u001b[0m",
      "\u001b[0;31mTypeError\u001b[0m: Can't instantiate abstract class BasePizza with abstract methods get_ingredients"
     ]
    }
   ],
   "source": [
    "b = BasePizza()"
   ]
  },
  {
   "cell_type": "markdown",
   "metadata": {},
   "source": [
    "Объект производного класса создать уже можем, всё Ок."
   ]
  },
  {
   "cell_type": "code",
   "execution_count": 37,
   "metadata": {},
   "outputs": [
    {
     "data": {
      "text/plain": [
       "['рисовая мука', 'салат']"
      ]
     },
     "execution_count": 37,
     "metadata": {},
     "output_type": "execute_result"
    }
   ],
   "source": [
    "d = DietPizza()\n",
    "\n",
    "d.get_ingredients()"
   ]
  },
  {
   "cell_type": "markdown",
   "metadata": {},
   "source": [
    "### Дополнительно"
   ]
  },
  {
   "cell_type": "markdown",
   "metadata": {},
   "source": [
    "Больше информации о динамическом создании классов можно найти\n",
    "\n",
    "https://docs.python.org/3.5/reference/datamodel.html#customizing-class-creation"
   ]
  },
  {
   "cell_type": "code",
   "execution_count": null,
   "metadata": {},
   "outputs": [],
   "source": []
  }
 ],
 "metadata": {
  "kernelspec": {
   "display_name": "Python 3",
   "language": "python",
   "name": "python3"
  },
  "language_info": {
   "codemirror_mode": {
    "name": "ipython",
    "version": 3
   },
   "file_extension": ".py",
   "mimetype": "text/x-python",
   "name": "python",
   "nbconvert_exporter": "python",
   "pygments_lexer": "ipython3",
   "version": "3.6.5"
  }
 },
 "nbformat": 4,
 "nbformat_minor": 2
}
