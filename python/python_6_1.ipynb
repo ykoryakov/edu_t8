{
 "cells": [
  {
   "cell_type": "markdown",
   "metadata": {},
   "source": [
    "# Основы Python. Часть 6.1\n",
    "\n",
    "Работа с файлами; модули os, os.path, pickle, json\n"
   ]
  },
  {
   "cell_type": "markdown",
   "metadata": {},
   "source": [
    "---"
   ]
  },
  {
   "cell_type": "markdown",
   "metadata": {},
   "source": [
    "### Файлы в языке Python"
   ]
  },
  {
   "cell_type": "markdown",
   "metadata": {},
   "source": [
    "Говоря о языке Python, его часто называют языком программирования \"**с батарейками**\". Под этим подразумевается богатая стандартная библиотека, чрезвычайно облегчающая решение многих задач, а также огромное количество сторонних модулей, доступных в сети, которые помогут решить практически любую задачу."
   ]
  },
  {
   "cell_type": "markdown",
   "metadata": {},
   "source": [
    "В том числе Python предоставляет **удобный и платформонезависимый** функционал для работы с файловой системой компьютера."
   ]
  },
  {
   "cell_type": "markdown",
   "metadata": {},
   "source": [
    " "
   ]
  },
  {
   "cell_type": "markdown",
   "metadata": {},
   "source": [
    "__Создание и открытие файлов__"
   ]
  },
  {
   "cell_type": "code",
   "execution_count": 1,
   "metadata": {},
   "outputs": [
    {
     "data": {
      "text/plain": [
       "False"
      ]
     },
     "execution_count": 1,
     "metadata": {},
     "output_type": "execute_result"
    }
   ],
   "source": [
    "file_name = 'test.txt'\n",
    "file_mode = 'w+'\n",
    "\n",
    "f = open(file_name, file_mode)\n",
    "\n",
    "f.closed"
   ]
  },
  {
   "cell_type": "code",
   "execution_count": 2,
   "metadata": {
    "scrolled": true
   },
   "outputs": [
    {
     "name": "stdout",
     "output_type": "stream",
     "text": [
      "<class '_io.TextIOWrapper'> <_io.TextIOWrapper name='test.txt' mode='w+' encoding='UTF-8'>\n"
     ]
    }
   ],
   "source": [
    "print(type(f), f)"
   ]
  },
  {
   "cell_type": "code",
   "execution_count": 3,
   "metadata": {
    "scrolled": false
   },
   "outputs": [
    {
     "data": {
      "text/plain": [
       "['_CHUNK_SIZE',\n",
       " '__class__',\n",
       " '__del__',\n",
       " '__delattr__',\n",
       " '__dict__',\n",
       " '__dir__',\n",
       " '__doc__',\n",
       " '__enter__',\n",
       " '__eq__',\n",
       " '__exit__',\n",
       " '__format__',\n",
       " '__ge__',\n",
       " '__getattribute__',\n",
       " '__getstate__',\n",
       " '__gt__',\n",
       " '__hash__',\n",
       " '__init__',\n",
       " '__init_subclass__',\n",
       " '__iter__',\n",
       " '__le__',\n",
       " '__lt__',\n",
       " '__ne__',\n",
       " '__new__',\n",
       " '__next__',\n",
       " '__reduce__',\n",
       " '__reduce_ex__',\n",
       " '__repr__',\n",
       " '__setattr__',\n",
       " '__sizeof__',\n",
       " '__str__',\n",
       " '__subclasshook__',\n",
       " '_checkClosed',\n",
       " '_checkReadable',\n",
       " '_checkSeekable',\n",
       " '_checkWritable',\n",
       " '_finalizing',\n",
       " 'buffer',\n",
       " 'close',\n",
       " 'closed',\n",
       " 'detach',\n",
       " 'encoding',\n",
       " 'errors',\n",
       " 'fileno',\n",
       " 'flush',\n",
       " 'isatty',\n",
       " 'line_buffering',\n",
       " 'mode',\n",
       " 'name',\n",
       " 'newlines',\n",
       " 'read',\n",
       " 'readable',\n",
       " 'readline',\n",
       " 'readlines',\n",
       " 'seek',\n",
       " 'seekable',\n",
       " 'tell',\n",
       " 'truncate',\n",
       " 'writable',\n",
       " 'write',\n",
       " 'writelines']"
      ]
     },
     "execution_count": 3,
     "metadata": {},
     "output_type": "execute_result"
    }
   ],
   "source": [
    "dir(f)"
   ]
  },
  {
   "cell_type": "markdown",
   "metadata": {},
   "source": [
    " "
   ]
  },
  {
   "cell_type": "markdown",
   "metadata": {},
   "source": [
    "__Закрытие файлов__"
   ]
  },
  {
   "cell_type": "markdown",
   "metadata": {},
   "source": [
    "Созданный объект '**f**' - ' это дескриптор файла.\n",
    "\n",
    "Следует всегда закрывать дескриптор файла, так как неизвестно когда и какая именно программа захочет получить к нему доступ. Закрытие файла также поможет сохранить память и избежать появления странных багов в программе."
   ]
  },
  {
   "cell_type": "code",
   "execution_count": 4,
   "metadata": {
    "scrolled": true
   },
   "outputs": [
    {
     "data": {
      "text/plain": [
       "True"
      ]
     },
     "execution_count": 4,
     "metadata": {},
     "output_type": "execute_result"
    }
   ],
   "source": [
    "f.close()\n",
    "\n",
    "f.closed"
   ]
  },
  {
   "cell_type": "markdown",
   "metadata": {},
   "source": [
    " "
   ]
  },
  {
   "cell_type": "markdown",
   "metadata": {},
   "source": [
    "__Режимы работы с файлами__"
   ]
  },
  {
   "cell_type": "markdown",
   "metadata": {},
   "source": [
    "1)\n",
    "\n",
    "**r**  —  режим чтения (стандартный режим)\n",
    "\n",
    "**w**  —  режим перезаписи с начала файла\n",
    "\n",
    "**a**  —  режим добавления в конец файла\n",
    "\n",
    "**r+**  —  открыть существующий файл в режиме чтения и записи\n",
    "\n",
    "**w+**  —  создать файл если он не существует и открыть его в режиме чтения и записи\n",
    "\n",
    "**a+**  —  создать файл если он не существует и открыть его в режиме добавления в конец"
   ]
  },
  {
   "cell_type": "markdown",
   "metadata": {},
   "source": [
    "2)\n",
    "\n",
    "**t**  —  режим работы с текстовыми файлами (стандартный режим)\n",
    "\n",
    "**b**  —  режим работы с двоичными файлами"
   ]
  },
  {
   "cell_type": "markdown",
   "metadata": {},
   "source": [
    "Режимы можно комбинировать, например:\n",
    "\n",
    "**rb+** — открывает файл для чтения и записи в двоичном формате. Указатель выставлен в начало файла.\n",
    "\n",
    "**wb** — открывает файл только для записи в двоичном формате. Перезаписывает существующий файл, если такой имеется. Если файл не существует, то создает новый."
   ]
  },
  {
   "cell_type": "markdown",
   "metadata": {},
   "source": [
    "Пример:"
   ]
  },
  {
   "cell_type": "code",
   "execution_count": 5,
   "metadata": {},
   "outputs": [
    {
     "ename": "FileNotFoundError",
     "evalue": "[Errno 2] No such file or directory: 'test.txt123'",
     "output_type": "error",
     "traceback": [
      "\u001b[0;31m---------------------------------------------------------------------------\u001b[0m",
      "\u001b[0;31mFileNotFoundError\u001b[0m                         Traceback (most recent call last)",
      "\u001b[0;32m<ipython-input-5-9a26e4a1a0d9>\u001b[0m in \u001b[0;36m<module>\u001b[0;34m()\u001b[0m\n\u001b[1;32m      1\u001b[0m \u001b[0;31m# При открытии несуществующего файла в режиме 'r+', появится исключение 'FileNotFoundError'\u001b[0m\u001b[0;34m\u001b[0m\u001b[0;34m\u001b[0m\u001b[0;34m\u001b[0m\u001b[0m\n\u001b[1;32m      2\u001b[0m \u001b[0;34m\u001b[0m\u001b[0m\n\u001b[0;32m----> 3\u001b[0;31m \u001b[0mf\u001b[0m \u001b[0;34m=\u001b[0m \u001b[0mopen\u001b[0m\u001b[0;34m(\u001b[0m\u001b[0mfile_name\u001b[0m\u001b[0;34m+\u001b[0m\u001b[0;34m'123'\u001b[0m\u001b[0;34m,\u001b[0m \u001b[0;34m'r+'\u001b[0m\u001b[0;34m)\u001b[0m\u001b[0;34m\u001b[0m\u001b[0;34m\u001b[0m\u001b[0m\n\u001b[0m",
      "\u001b[0;31mFileNotFoundError\u001b[0m: [Errno 2] No such file or directory: 'test.txt123'"
     ]
    }
   ],
   "source": [
    "# При открытии несуществующего файла в режиме 'r+', появится исключение 'FileNotFoundError'\n",
    "\n",
    "f = open(file_name+'123', 'r+')"
   ]
  },
  {
   "cell_type": "code",
   "execution_count": 6,
   "metadata": {},
   "outputs": [],
   "source": [
    "# Однако существующий файл в режиме 'r+' открывается без ошибок\n",
    "\n",
    "f = open(file_name, 'r+')\n",
    "\n",
    "f.close()"
   ]
  },
  {
   "cell_type": "markdown",
   "metadata": {},
   "source": [
    " "
   ]
  },
  {
   "cell_type": "markdown",
   "metadata": {},
   "source": [
    "__Запись в файлы__"
   ]
  },
  {
   "cell_type": "code",
   "execution_count": 7,
   "metadata": {},
   "outputs": [],
   "source": [
    "f = open(file_name, \"w\") # перезаписывает существующий файл!\n",
    "\n",
    "f.write(\"This is test file\\n\")\n",
    "\n",
    "text = ['line 2\\n',\n",
    "        'line 3\\n',\n",
    "        'this line intentionally left lank\\n']\n",
    "\n",
    "f.writelines(text)\n",
    "\n",
    "f.close()"
   ]
  },
  {
   "cell_type": "markdown",
   "metadata": {},
   "source": [
    " "
   ]
  },
  {
   "cell_type": "markdown",
   "metadata": {},
   "source": [
    "__Чтение из файлов__"
   ]
  },
  {
   "cell_type": "code",
   "execution_count": 8,
   "metadata": {
    "scrolled": true
   },
   "outputs": [
    {
     "name": "stdout",
     "output_type": "stream",
     "text": [
      "This is test file\n",
      "line 2\n",
      "line 3\n",
      "this line intentionally left lank\n",
      "\n"
     ]
    }
   ],
   "source": [
    "f = open(file_name, \"r\")\n",
    "\n",
    "print(f.read()) # прочитался весь текст!\n",
    "\n",
    "f.close()"
   ]
  },
  {
   "cell_type": "code",
   "execution_count": 9,
   "metadata": {
    "scrolled": true
   },
   "outputs": [
    {
     "name": "stdout",
     "output_type": "stream",
     "text": [
      "This is test file\n",
      "\n",
      "line 2\n",
      "\n",
      "line 3\n",
      "\n",
      "this line intentionally left lank\n",
      "\n"
     ]
    }
   ],
   "source": [
    "f = open(file_name, \"r\")\n",
    "\n",
    "text = f.readlines()\n",
    "\n",
    "for string in text:\n",
    "    print(string)\n",
    "\n",
    "f.close()"
   ]
  },
  {
   "cell_type": "markdown",
   "metadata": {},
   "source": [
    "Можно указать точное количество символов для чтения:"
   ]
  },
  {
   "cell_type": "code",
   "execution_count": 10,
   "metadata": {},
   "outputs": [
    {
     "name": "stdout",
     "output_type": "stream",
     "text": [
      "This \n"
     ]
    }
   ],
   "source": [
    "f = open(file_name, \"r\")\n",
    "\n",
    "print(f.read(5))\n",
    "\n",
    "f.close()"
   ]
  },
  {
   "cell_type": "markdown",
   "metadata": {},
   "source": [
    "Возможно читать по частям:"
   ]
  },
  {
   "cell_type": "code",
   "execution_count": 11,
   "metadata": {
    "scrolled": true
   },
   "outputs": [
    {
     "name": "stdout",
     "output_type": "stream",
     "text": [
      "This is test file\n",
      "\n",
      "line 2\n",
      "\n",
      "line 3\n",
      "\n",
      "this line intentionally left lank\n",
      "\n"
     ]
    }
   ],
   "source": [
    "f = open(file_name, \"r\")\n",
    "\n",
    "for line in f:\n",
    "    print(line)\n",
    "\n",
    "f.close()"
   ]
  },
  {
   "cell_type": "markdown",
   "metadata": {},
   "source": [
    "Байты из файлы в бинарном (двоичном) формате (нарпимер '.pdf') читаются аналогичными методами, только необходимо изменить способ доступа к файлу на '**rb**'."
   ]
  },
  {
   "cell_type": "markdown",
   "metadata": {},
   "source": [
    " "
   ]
  },
  {
   "cell_type": "markdown",
   "metadata": {},
   "source": [
    "__Использование менеджера контекста with / as__ при работе с файлами"
   ]
  },
  {
   "cell_type": "code",
   "execution_count": 12,
   "metadata": {},
   "outputs": [
    {
     "name": "stdout",
     "output_type": "stream",
     "text": [
      "This is test file\n",
      "\n",
      "line 2\n",
      "\n",
      "line 3\n",
      "\n",
      "this line intentionally left lank\n",
      "\n"
     ]
    }
   ],
   "source": [
    "with open(file_name, 'r') as f:\n",
    "    \n",
    "    for line in f:\n",
    "        print(line)"
   ]
  },
  {
   "cell_type": "markdown",
   "metadata": {
    "scrolled": true
   },
   "source": [
    "Обратите внимание, что в конце не надо вызывать f.close(), он вызывается после блок '**with / as**' автоматически.\n",
    "\n",
    "Причем даже если возникнет ошибка чтения или записи в файл (например IOError).\n",
    "\n",
    "Т.е. это аналогично конструкции:"
   ]
  },
  {
   "cell_type": "code",
   "execution_count": 13,
   "metadata": {},
   "outputs": [],
   "source": [
    "try:\n",
    "    f = open(file_name, 'r')\n",
    "    text = f.readlines()\n",
    "    \n",
    "except Exception:\n",
    "    pass\n",
    "\n",
    "finally:\n",
    "    f.close()"
   ]
  },
  {
   "cell_type": "markdown",
   "metadata": {},
   "source": [
    " "
   ]
  },
  {
   "cell_type": "markdown",
   "metadata": {},
   "source": [
    "При этом возможно открывать несколько файлов сразу (аналогично вложенным блокам open):"
   ]
  },
  {
   "cell_type": "code",
   "execution_count": 14,
   "metadata": {},
   "outputs": [],
   "source": [
    "with open(file_name, 'r') as f, open('new_'+file_name, 'w') as f_new:\n",
    "    \n",
    "    for line in f:\n",
    "        f_new.write(line.upper())"
   ]
  },
  {
   "cell_type": "code",
   "execution_count": 15,
   "metadata": {
    "scrolled": true
   },
   "outputs": [
    {
     "name": "stdout",
     "output_type": "stream",
     "text": [
      "THIS IS TEST FILE\n",
      "LINE 2\n",
      "LINE 3\n",
      "THIS LINE INTENTIONALLY LEFT LANK\n",
      "\n"
     ]
    }
   ],
   "source": [
    "with open('new_'+file_name, 'r') as f_new:\n",
    "\n",
    "    print(f_new.read())"
   ]
  },
  {
   "cell_type": "markdown",
   "metadata": {},
   "source": [
    " "
   ]
  },
  {
   "cell_type": "markdown",
   "metadata": {},
   "source": [
    "__Перемещение каретки__"
   ]
  },
  {
   "cell_type": "code",
   "execution_count": 16,
   "metadata": {},
   "outputs": [
    {
     "name": "stdout",
     "output_type": "stream",
     "text": [
      "Current position: 0\n",
      "\n",
      "Reading: This \n",
      "Current position: 5\n",
      "\n",
      "Reading: is te\n",
      "Current position: 10\n",
      "\n",
      "Going back to start...\n",
      "Current position: 0\n",
      "\n",
      "Reading: This \n",
      "Current position: 5\n",
      "\n"
     ]
    }
   ],
   "source": [
    "with open(file_name, 'r') as f:\n",
    "    \n",
    "    print('Current position:', f.tell(), end='\\n\\n')\n",
    "    \n",
    "    print('Reading:', f.read(5))\n",
    "    print('Current position:', f.tell(), end='\\n\\n')\n",
    "    \n",
    "    print('Reading:', f.read(5))\n",
    "    print('Current position:', f.tell(), end='\\n\\n')\n",
    "    \n",
    "    f.seek(0)  # перемещаемся обратно в начало\n",
    "    print('Going back to start...')\n",
    "    print('Current position:', f.tell(), end='\\n\\n')\n",
    "    \n",
    "    print('Reading:', f.read(5))\n",
    "    print('Current position:', f.tell(), end='\\n\\n')"
   ]
  },
  {
   "cell_type": "markdown",
   "metadata": {},
   "source": [
    "Аналогично для бинарных файлов, только используется \"побайтовое\" перемещение."
   ]
  },
  {
   "cell_type": "markdown",
   "metadata": {},
   "source": [
    "---"
   ]
  },
  {
   "cell_type": "markdown",
   "metadata": {},
   "source": [
    "### Модули os и os.path"
   ]
  },
  {
   "cell_type": "markdown",
   "metadata": {},
   "source": [
    "Модуль **OS** из стандартной библиотеки обеспечивает платформонезависимое взаимодействие с операционной системой."
   ]
  },
  {
   "cell_type": "code",
   "execution_count": 17,
   "metadata": {},
   "outputs": [],
   "source": [
    "import os"
   ]
  },
  {
   "cell_type": "markdown",
   "metadata": {},
   "source": [
    "Подробное описание здесь:\n",
    "\n",
    "https://pythonworld.ru/moduli/modul-os.html\n",
    "\n",
    "https://pythonworld.ru/moduli/modul-os-path.html"
   ]
  },
  {
   "cell_type": "markdown",
   "metadata": {},
   "source": [
    "**Некоторые возможности**"
   ]
  },
  {
   "cell_type": "code",
   "execution_count": 18,
   "metadata": {},
   "outputs": [
    {
     "data": {
      "text/plain": [
       "'posix'"
      ]
     },
     "execution_count": 18,
     "metadata": {},
     "output_type": "execute_result"
    }
   ],
   "source": [
    "# Тип операционной системы (точнее можно посмотреть в модуле sys)\n",
    "os.name"
   ]
  },
  {
   "cell_type": "code",
   "execution_count": 19,
   "metadata": {
    "scrolled": true
   },
   "outputs": [
    {
     "ename": "NameError",
     "evalue": "name '__file__' is not defined",
     "output_type": "error",
     "traceback": [
      "\u001b[0;31m---------------------------------------------------------------------------\u001b[0m",
      "\u001b[0;31mNameError\u001b[0m                                 Traceback (most recent call last)",
      "\u001b[0;32m<ipython-input-19-a729d5997b8c>\u001b[0m in \u001b[0;36m<module>\u001b[0;34m()\u001b[0m\n\u001b[0;32m----> 1\u001b[0;31m \u001b[0mos\u001b[0m\u001b[0;34m.\u001b[0m\u001b[0mpath\u001b[0m\u001b[0;34m.\u001b[0m\u001b[0mabspath\u001b[0m\u001b[0;34m(\u001b[0m\u001b[0m__file__\u001b[0m\u001b[0;34m)\u001b[0m\u001b[0;34m\u001b[0m\u001b[0;34m\u001b[0m\u001b[0m\n\u001b[0m",
      "\u001b[0;31mNameError\u001b[0m: name '__file__' is not defined"
     ]
    }
   ],
   "source": [
    "os.path.abspath(__file__)"
   ]
  },
  {
   "cell_type": "code",
   "execution_count": 20,
   "metadata": {},
   "outputs": [
    {
     "data": {
      "text/plain": [
       "'/home/jk/yadisk/lab/edu'"
      ]
     },
     "execution_count": 20,
     "metadata": {},
     "output_type": "execute_result"
    }
   ],
   "source": [
    "# текущая рабочая директория:\n",
    "current_path = os.getcwd()\n",
    "\n",
    "current_path"
   ]
  },
  {
   "cell_type": "code",
   "execution_count": 21,
   "metadata": {},
   "outputs": [
    {
     "ename": "NameError",
     "evalue": "name '__file__' is not defined",
     "output_type": "error",
     "traceback": [
      "\u001b[0;31m---------------------------------------------------------------------------\u001b[0m",
      "\u001b[0;31mNameError\u001b[0m                                 Traceback (most recent call last)",
      "\u001b[0;32m<ipython-input-21-abff80a816d4>\u001b[0m in \u001b[0;36m<module>\u001b[0;34m()\u001b[0m\n\u001b[1;32m      4\u001b[0m \u001b[0;34m\u001b[0m\u001b[0m\n\u001b[1;32m      5\u001b[0m \u001b[0;31m# в интерактивной сессии питона этой переменной нет!\u001b[0m\u001b[0;34m\u001b[0m\u001b[0;34m\u001b[0m\u001b[0;34m\u001b[0m\u001b[0m\n\u001b[0;32m----> 6\u001b[0;31m \u001b[0m__file__\u001b[0m\u001b[0;34m\u001b[0m\u001b[0;34m\u001b[0m\u001b[0m\n\u001b[0m",
      "\u001b[0;31mNameError\u001b[0m: name '__file__' is not defined"
     ]
    }
   ],
   "source": [
    "# если запускаем скрипт, то его путь можно посмотреть с помощью:\n",
    "\n",
    "# os.path.abspath(__file__)\n",
    "\n",
    "# в интерактивной сессии питона этой переменной нет!\n",
    "__file__"
   ]
  },
  {
   "cell_type": "code",
   "execution_count": 22,
   "metadata": {},
   "outputs": [
    {
     "data": {
      "text/plain": [
       "'/home/jk/yadisk/lab'"
      ]
     },
     "execution_count": 22,
     "metadata": {},
     "output_type": "execute_result"
    }
   ],
   "source": [
    "# верхняя папка (с помощью os.pardir)\n",
    "parent_dir = os.path.normpath(\n",
    "                os.path.join(current_path, os.pardir)\n",
    "             )\n",
    "parent_dir"
   ]
  },
  {
   "cell_type": "code",
   "execution_count": 23,
   "metadata": {},
   "outputs": [
    {
     "data": {
      "text/plain": [
       "['python_part_2_2.ipynb',\n",
       " 'python_part_3_1.ipynb',\n",
       " 'python_6_2_1.ipynb',\n",
       " '.ipynb_checkpoints',\n",
       " 'python_6_2_2.ipynb',\n",
       " 'python_3_1.ipynb',\n",
       " 'Untitled.ipynb',\n",
       " 'python_part_2_1.ipynb',\n",
       " 'python_3_2.ipynb',\n",
       " 'python_6_1.ipynb',\n",
       " 'python_4.ipynb',\n",
       " 'test.txt',\n",
       " 'python_temp.ipynb',\n",
       " 'python_2_2_iterators_generators_exceptions.ipynb',\n",
       " 'new_test.txt',\n",
       " 'python_part_2_2 (2).ipynb',\n",
       " 'python_6_1_old.ipynb',\n",
       " 'python_part_1.ipynb',\n",
       " 'python_part_2.ipynb',\n",
       " 'python_5_1.ipynb']"
      ]
     },
     "execution_count": 23,
     "metadata": {},
     "output_type": "execute_result"
    }
   ],
   "source": [
    "# список файлов (в текущей директории):\n",
    "os.listdir(current_path)"
   ]
  },
  {
   "cell_type": "code",
   "execution_count": 24,
   "metadata": {},
   "outputs": [
    {
     "name": "stdout",
     "output_type": "stream",
     "text": [
      "Текущая папка: /home/jk/yadisk/lab/edu\n"
     ]
    },
    {
     "data": {
      "text/plain": [
       "'/home/jk/yadisk/lab/edu/new_test.txt'"
      ]
     },
     "execution_count": 24,
     "metadata": {},
     "output_type": "execute_result"
    }
   ],
   "source": [
    "print('Текущая папка:', os.path.abspath(current_path))\n",
    "\n",
    "file_path = os.path.join(\n",
    "                os.path.abspath(current_path),\n",
    "                'new_test.txt'\n",
    "            )\n",
    "file_path"
   ]
  },
  {
   "cell_type": "code",
   "execution_count": 25,
   "metadata": {},
   "outputs": [
    {
     "name": "stdout",
     "output_type": "stream",
     "text": [
      "Разбиваем на 'путь до папки' / 'имя файла': ('/home/jk/yadisk/lab/edu', 'new_test.txt')\n"
     ]
    }
   ],
   "source": [
    "print(\"Разбиваем на 'путь до папки' / 'имя файла':\", os.path.split(file_path))\n",
    "\n",
    "new_file_path = os.path.join(\n",
    "                    os.path.split(file_path)[0],\n",
    "                    'renamed_test.txt'\n",
    "                )\n",
    "os.rename(file_path, new_file_path)"
   ]
  },
  {
   "cell_type": "code",
   "execution_count": 26,
   "metadata": {
    "scrolled": true
   },
   "outputs": [
    {
     "name": "stdout",
     "output_type": "stream",
     "text": [
      "python_part_2_2.ipynb\n",
      "python_part_3_1.ipynb\n",
      "python_6_2_1.ipynb\n",
      ".ipynb_checkpoints\n",
      "python_6_2_2.ipynb\n",
      "python_3_1.ipynb\n",
      "Untitled.ipynb\n",
      "python_part_2_1.ipynb\n",
      "python_3_2.ipynb\n",
      "python_6_1.ipynb\n",
      "python_4.ipynb\n",
      "test.txt\n",
      "python_temp.ipynb\n",
      "python_2_2_iterators_generators_exceptions.ipynb\n",
      "renamed_test.txt\n",
      "python_part_2_2 (2).ipynb\n",
      "python_6_1_old.ipynb\n",
      "python_part_1.ipynb\n",
      "python_part_2.ipynb\n",
      "python_5_1.ipynb\n"
     ]
    }
   ],
   "source": [
    "for file_name in os.listdir(current_path):\n",
    "    print(file_name)"
   ]
  },
  {
   "cell_type": "code",
   "execution_count": 27,
   "metadata": {},
   "outputs": [],
   "source": [
    "# удаление файла\n",
    "os.remove(new_file_path)"
   ]
  },
  {
   "cell_type": "code",
   "execution_count": 28,
   "metadata": {},
   "outputs": [
    {
     "data": {
      "text/plain": [
       "['python_part_2_2.ipynb',\n",
       " 'python_part_3_1.ipynb',\n",
       " 'python_6_2_1.ipynb',\n",
       " '.ipynb_checkpoints',\n",
       " 'python_6_2_2.ipynb',\n",
       " 'python_3_1.ipynb',\n",
       " 'Untitled.ipynb',\n",
       " 'python_part_2_1.ipynb',\n",
       " 'python_3_2.ipynb',\n",
       " 'python_6_1.ipynb',\n",
       " 'python_4.ipynb',\n",
       " 'test.txt',\n",
       " 'python_temp.ipynb',\n",
       " 'python_2_2_iterators_generators_exceptions.ipynb',\n",
       " 'python_part_2_2 (2).ipynb',\n",
       " 'python_6_1_old.ipynb',\n",
       " 'python_part_1.ipynb',\n",
       " 'python_part_2.ipynb',\n",
       " 'python_5_1.ipynb']"
      ]
     },
     "execution_count": 28,
     "metadata": {},
     "output_type": "execute_result"
    }
   ],
   "source": [
    "os.listdir(current_path)"
   ]
  },
  {
   "cell_type": "code",
   "execution_count": 29,
   "metadata": {},
   "outputs": [
    {
     "data": {
      "text/plain": [
       "<function posix.mkdir(path, mode=511, *, dir_fd=None)>"
      ]
     },
     "execution_count": 29,
     "metadata": {},
     "output_type": "execute_result"
    }
   ],
   "source": [
    "# создать папку\n",
    "os.mkdir"
   ]
  },
  {
   "cell_type": "code",
   "execution_count": 30,
   "metadata": {},
   "outputs": [
    {
     "data": {
      "text/plain": [
       "<function posix.rmdir(path, *, dir_fd=None)>"
      ]
     },
     "execution_count": 30,
     "metadata": {},
     "output_type": "execute_result"
    }
   ],
   "source": [
    "# удалить папку\n",
    "os.rmdir"
   ]
  },
  {
   "cell_type": "code",
   "execution_count": 31,
   "metadata": {},
   "outputs": [],
   "source": [
    "# копирование файлов в модуле shutil или вручную построчно\n",
    "# https://pythonworld.ru/moduli/modul-shutil.html\n",
    "\n",
    "\"\"\"\n",
    "import shutil\n",
    "\n",
    "shutil.copy\n",
    "shutil.copy2\n",
    "shutil.copyfile\n",
    "shutil.copyfileobj\n",
    "\"\"\";"
   ]
  },
  {
   "cell_type": "markdown",
   "metadata": {},
   "source": [
    " "
   ]
  },
  {
   "cell_type": "markdown",
   "metadata": {},
   "source": [
    "**os.walk(top, topdown=True, onerror=None, followlinks=False)** - генерация имён файлов в дереве каталогов, сверху вниз (если topdown равен True), либо снизу вверх (если False).\n",
    "\n",
    "Для каждого каталога функция walk возвращает кортеж (путь к каталогу, список каталогов, список файлов)."
   ]
  },
  {
   "cell_type": "code",
   "execution_count": 32,
   "metadata": {},
   "outputs": [
    {
     "data": {
      "text/plain": [
       "<generator object walk at 0x7ff76427bd58>"
      ]
     },
     "execution_count": 32,
     "metadata": {},
     "output_type": "execute_result"
    }
   ],
   "source": [
    "os.walk(parent_dir)"
   ]
  },
  {
   "cell_type": "code",
   "execution_count": 33,
   "metadata": {},
   "outputs": [
    {
     "name": "stdout",
     "output_type": "stream",
     "text": [
      "root: /home/jk/yadisk/lab\n",
      "dirnames: ['cython', 'gui', '.ipynb_checkpoints', 'object_detection', 'filter_save', 'pixijs', 'feature_map', 'debug', 'signal detection', 'speed', 'sample_research', 'autoencoder', 'videos', 'synthetic', 'waterfall_analysis', 'neural_networks', 'dat_file', 'dr_lib_research', 'gimp', 'keras network encoding', 'edu', 'phase_to_filter_research']\n",
      "filenames: ['edu.ipynb', 'threshold_research.ipynb', 'dunai_abc.ipynb', 'coord_converter.ipynb', 'notebook.tex', 'detector.ipynb', 'threshold_log.ipynb', 'cython_bundle_create.ipynb', 'python_5_1.ipynb']\n",
      "\n"
     ]
    }
   ],
   "source": [
    "for root, dirnames, filenames in os.walk(parent_dir):\n",
    "    print('root:', root)\n",
    "    print('dirnames:', dirnames)\n",
    "    print('filenames:', filenames)\n",
    "    print()\n",
    "    break"
   ]
  },
  {
   "cell_type": "code",
   "execution_count": 34,
   "metadata": {
    "scrolled": true
   },
   "outputs": [
    {
     "name": "stdout",
     "output_type": "stream",
     "text": [
      "/home/jk/yadisk/lab/edu\n"
     ]
    },
    {
     "data": {
      "text/plain": [
       "(True, False)"
      ]
     },
     "execution_count": 34,
     "metadata": {},
     "output_type": "execute_result"
    }
   ],
   "source": [
    "# аналогично или можно пройтись с помощью os.listdir и\n",
    "# проверять, является ли файлом или папкой\n",
    "\n",
    "print(current_path)\n",
    "\n",
    "os.path.isdir(current_path), os.path.isfile(current_path)"
   ]
  },
  {
   "cell_type": "markdown",
   "metadata": {},
   "source": [
    " ---"
   ]
  },
  {
   "cell_type": "markdown",
   "metadata": {},
   "source": [
    "### Модуль pickle"
   ]
  },
  {
   "cell_type": "markdown",
   "metadata": {},
   "source": [
    "Простой способ сохранения сериализуемых объектов в Python.\n",
    "\n",
    "Модуль pickle реализует мощный алгоритм сериализации и десериализации объектов Python. \"Pickling\" - процесс преобразования объекта Python в поток байтов, а \"unpickling\" - обратная операция, в результате которой поток байтов преобразуется обратно в Python-объект. Так как поток байтов легко можно записать в файл, модуль pickle широко применяется для сохранения и загрузки сложных объектов в Python.\n",
    "\n",
    "https://pythonworld.ru/moduli/modul-pickle.html"
   ]
  },
  {
   "cell_type": "code",
   "execution_count": 35,
   "metadata": {},
   "outputs": [],
   "source": [
    "import pickle"
   ]
  },
  {
   "cell_type": "code",
   "execution_count": 36,
   "metadata": {},
   "outputs": [],
   "source": [
    "data = {\n",
    "        'a': [1, 2.0, 3, 4+6j],\n",
    "        'b': (\"character string\", b\"byte string\"),\n",
    "        'c': {None, True, False}\n",
    "}"
   ]
  },
  {
   "cell_type": "code",
   "execution_count": 37,
   "metadata": {},
   "outputs": [],
   "source": [
    "with open('data.pkl', 'wb') as f:\n",
    "    pickle.dump(data, f)"
   ]
  },
  {
   "cell_type": "code",
   "execution_count": 38,
   "metadata": {},
   "outputs": [
    {
     "name": "stdout",
     "output_type": "stream",
     "text": [
      "{'a': [1, 2.0, 3, (4+6j)], 'b': ('character string', b'byte string'), 'c': {False, True, None}}\n"
     ]
    }
   ],
   "source": [
    "with open('data.pkl', 'rb') as f:\n",
    "    data_new = pickle.load(f)\n",
    "\n",
    "print(data_new)"
   ]
  },
  {
   "cell_type": "markdown",
   "metadata": {},
   "source": [
    " "
   ]
  },
  {
   "cell_type": "markdown",
   "metadata": {},
   "source": [
    "### Модуль JSON"
   ]
  },
  {
   "cell_type": "markdown",
   "metadata": {},
   "source": [
    "JSON (JavaScript Object Notation) - простой формат обмена данными, основанный на подмножестве синтаксиса JavaScript. Модуль json позволяет кодировать и декодировать данные в удобном формате.\n",
    "\n",
    "https://pythonworld.ru/moduli/modul-json.html"
   ]
  },
  {
   "cell_type": "code",
   "execution_count": 39,
   "metadata": {},
   "outputs": [],
   "source": [
    "import json"
   ]
  },
  {
   "cell_type": "code",
   "execution_count": 40,
   "metadata": {},
   "outputs": [],
   "source": [
    "json_data = \\\n",
    "\"\"\"\n",
    "{\n",
    "    \"EA-23-24\": {\n",
    "        \"avaliable_measurements_protocols\": [\n",
    "            \"EdfaGainMeasurementProtocol\"\n",
    "        ],\n",
    "        \"required_measurements_for_protocol\": [\n",
    "            \"Stand422_NfGainMeasurement\",\n",
    "            \"Stand422_GainStabilityMeasurement\"\n",
    "        ],\n",
    "        \"measurement_settings\": {\n",
    "            \"Stand422_Setup\": {\n",
    "                \"settings\": {\n",
    "                    \" Настроить стенд для\": {\n",
    "                        \"edfa\": null,\n",
    "                        \"transponder\": null,\n",
    "                        \"roadm\": null,\n",
    "                        \"multiplexer\": null,\n",
    "                        \"ocrm\": null\n",
    "                    },\n",
    "                    \"Список используемых устройств\": \"device_under_test, to_10, om_40_av, ob_s, ea_4, roadm, ea_6, osa, voa_1, swch9150, voa_5, voa_6, voa_7, power_meter\",\n",
    "                    \"multiplexer: мин. мощность на входе в спектроанализатор, дБм\": 15.3,\n",
    "                    \"edfa: оптим. мощность на выходе усилителя, дБм\": 16.0,\n",
    "                    \"edfa: мин. мощность на входе в усилитель, дБм\": -3.0,\n",
    "                    \"edfa: макс. неравномерность канальной мощности опорного сигнала, дБ\": 0.35,\n",
    "                    \"edfa: список входных каналов на мультиплексоре\": \"21, 27, 33, 40, 46, 53, 60\",\n",
    "                    \"OSA: оптическая разрешающая способность, нм\": 0.2,\n",
    "                    \"OSA: видеоразрешение, Гц\": 100,\n",
    "                    \"OSA: конец спектра измерения, нм\": 1565.0,\n",
    "                    \"OSA: начало спектра измерения, нм\": 1527.0,\n",
    "                    \"OSA: Sweep Average\": 1,\n",
    "                    \"OSA: Point Average\": \"2\",\n",
    "                    \"OSA: количество точек отбора\": 501,\n",
    "                    \"OSA: включить встроенный аттенюатор\": true,\n",
    "                    \"edfa: компенсация 50%-ответвления на OSA, дБ\": 3.65,\n",
    "                    \"edfa: смещение шума относительно пика сигнала, нм\": 0.5\n",
    "                }\n",
    "            }\n",
    "        }\n",
    "    }\n",
    "}\"\"\""
   ]
  },
  {
   "cell_type": "code",
   "execution_count": 41,
   "metadata": {},
   "outputs": [
    {
     "name": "stdout",
     "output_type": "stream",
     "text": [
      "<class 'dict'>\n"
     ]
    },
    {
     "data": {
      "text/plain": [
       "{'EA-23-24': {'avaliable_measurements_protocols': ['EdfaGainMeasurementProtocol'],\n",
       "  'required_measurements_for_protocol': ['Stand422_NfGainMeasurement',\n",
       "   'Stand422_GainStabilityMeasurement'],\n",
       "  'measurement_settings': {'Stand422_Setup': {'settings': {' Настроить стенд для': {'edfa': None,\n",
       "      'transponder': None,\n",
       "      'roadm': None,\n",
       "      'multiplexer': None,\n",
       "      'ocrm': None},\n",
       "     'Список используемых устройств': 'device_under_test, to_10, om_40_av, ob_s, ea_4, roadm, ea_6, osa, voa_1, swch9150, voa_5, voa_6, voa_7, power_meter',\n",
       "     'multiplexer: мин. мощность на входе в спектроанализатор, дБм': 15.3,\n",
       "     'edfa: оптим. мощность на выходе усилителя, дБм': 16.0,\n",
       "     'edfa: мин. мощность на входе в усилитель, дБм': -3.0,\n",
       "     'edfa: макс. неравномерность канальной мощности опорного сигнала, дБ': 0.35,\n",
       "     'edfa: список входных каналов на мультиплексоре': '21, 27, 33, 40, 46, 53, 60',\n",
       "     'OSA: оптическая разрешающая способность, нм': 0.2,\n",
       "     'OSA: видеоразрешение, Гц': 100,\n",
       "     'OSA: конец спектра измерения, нм': 1565.0,\n",
       "     'OSA: начало спектра измерения, нм': 1527.0,\n",
       "     'OSA: Sweep Average': 1,\n",
       "     'OSA: Point Average': '2',\n",
       "     'OSA: количество точек отбора': 501,\n",
       "     'OSA: включить встроенный аттенюатор': True,\n",
       "     'edfa: компенсация 50%-ответвления на OSA, дБ': 3.65,\n",
       "     'edfa: смещение шума относительно пика сигнала, нм': 0.5}}}}}"
      ]
     },
     "execution_count": 41,
     "metadata": {},
     "output_type": "execute_result"
    }
   ],
   "source": [
    "data_from_json = json.loads(json_data)\n",
    "\n",
    "print(type(data_from_json))\n",
    "\n",
    "data_from_json"
   ]
  },
  {
   "cell_type": "code",
   "execution_count": 42,
   "metadata": {},
   "outputs": [
    {
     "data": {
      "text/plain": [
       "'{\"EA-23-24\": {\"avaliable_measurements_protocols\": [\"EdfaGainMeasurementProtocol\"], \"required_measurements_for_protocol\": [\"Stand422_NfGainMeasurement\", \"Stand422_GainStabilityMeasurement\"], \"measurement_settings\": {\"Stand422_Setup\": {\"settings\": {\" Настроить стенд для\": {\"edfa\": null, \"transponder\": null, \"roadm\": null, \"multiplexer\": null, \"ocrm\": null}, \"Список используемых устройств\": \"device_under_test, to_10, om_40_av, ob_s, ea_4, roadm, ea_6, osa, voa_1, swch9150, voa_5, voa_6, voa_7, power_meter\", \"multiplexer: мин. мощность на входе в спектроанализатор, дБм\": 15.3, \"edfa: оптим. мощность на выходе усилителя, дБм\": 16.0, \"edfa: мин. мощность на входе в усилитель, дБм\": -3.0, \"edfa: макс. неравномерность канальной мощности опорного сигнала, дБ\": 0.35, \"edfa: список входных каналов на мультиплексоре\": \"21, 27, 33, 40, 46, 53, 60\", \"OSA: оптическая разрешающая способность, нм\": 0.2, \"OSA: видеоразрешение, Гц\": 100, \"OSA: конец спектра измерения, нм\": 1565.0, \"OSA: начало спектра измерения, нм\": 1527.0, \"OSA: Sweep Average\": 1, \"OSA: Point Average\": \"2\", \"OSA: количество точек отбора\": 501, \"OSA: включить встроенный аттенюатор\": true, \"edfa: компенсация 50%-ответвления на OSA, дБ\": 3.65, \"edfa: смещение шума относительно пика сигнала, нм\": 0.5}}}}}'"
      ]
     },
     "execution_count": 42,
     "metadata": {},
     "output_type": "execute_result"
    }
   ],
   "source": [
    "json.dumps(data_from_json, ensure_ascii=False)"
   ]
  }
 ],
 "metadata": {
  "kernelspec": {
   "display_name": "Python 3",
   "language": "python",
   "name": "python3"
  },
  "language_info": {
   "codemirror_mode": {
    "name": "ipython",
    "version": 3
   },
   "file_extension": ".py",
   "mimetype": "text/x-python",
   "name": "python",
   "nbconvert_exporter": "python",
   "pygments_lexer": "ipython3",
   "version": "3.6.5"
  }
 },
 "nbformat": 4,
 "nbformat_minor": 2
}
