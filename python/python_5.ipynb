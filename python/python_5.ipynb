{
 "cells": [
  {
   "cell_type": "markdown",
   "metadata": {},
   "source": [
    "# Основы Python. Часть 5.1\n",
    "\n",
    "Строки. Регулярные выражения."
   ]
  },
  {
   "cell_type": "markdown",
   "metadata": {},
   "source": [
    "---"
   ]
  },
  {
   "cell_type": "markdown",
   "metadata": {},
   "source": [
    "### Строки"
   ]
  },
  {
   "cell_type": "markdown",
   "metadata": {},
   "source": [
    "__Cтроки__ – упорядоченные последовательности символов, используемые для хранения и представления\n",
    "текстовой информации. С функциональной точки зрения строки могут использоваться для представления\n",
    "всего, что только может быть выражено в текстовой форме, а также для хранения двоичных значений байтов\n",
    "и символов Юникода.\n",
    "\n",
    "Строго говоря, строки в языке Python относятся к категории неизменяемых последовательностей, в том\n",
    "смысле, что символы, которые они содержат, имеют определенный порядок следования слева направо и\n",
    "сами строки невозможно изменить."
   ]
  },
  {
   "cell_type": "code",
   "execution_count": 184,
   "metadata": {},
   "outputs": [
    {
     "name": "stdout",
     "output_type": "stream",
     "text": [
      "<class 'str'>\n"
     ]
    }
   ],
   "source": [
    "string = 'abcde 12345'\n",
    "print(type(string))"
   ]
  },
  {
   "cell_type": "code",
   "execution_count": 185,
   "metadata": {
    "scrolled": true
   },
   "outputs": [
    {
     "ename": "TypeError",
     "evalue": "'str' object does not support item assignment",
     "output_type": "error",
     "traceback": [
      "\u001b[1;31m---------------------------------------------------------------------------\u001b[0m",
      "\u001b[1;31mTypeError\u001b[0m                                 Traceback (most recent call last)",
      "\u001b[1;32m<ipython-input-185-c23174326796>\u001b[0m in \u001b[0;36m<module>\u001b[1;34m\u001b[0m\n\u001b[0;32m      1\u001b[0m \u001b[1;31m# строки - неизменяемые!\u001b[0m\u001b[1;33m\u001b[0m\u001b[1;33m\u001b[0m\u001b[1;33m\u001b[0m\u001b[0m\n\u001b[1;32m----> 2\u001b[1;33m \u001b[0mstring\u001b[0m\u001b[1;33m[\u001b[0m\u001b[1;36m0\u001b[0m\u001b[1;33m]\u001b[0m \u001b[1;33m=\u001b[0m \u001b[1;34m'z'\u001b[0m\u001b[1;33m\u001b[0m\u001b[1;33m\u001b[0m\u001b[0m\n\u001b[0m",
      "\u001b[1;31mTypeError\u001b[0m: 'str' object does not support item assignment"
     ]
    }
   ],
   "source": [
    "# строки - неизменяемые!\n",
    "string[0] = 'z'"
   ]
  },
  {
   "cell_type": "code",
   "execution_count": 186,
   "metadata": {
    "scrolled": true
   },
   "outputs": [
    {
     "data": {
      "text/plain": [
       "'zbcde 12345'"
      ]
     },
     "execution_count": 186,
     "metadata": {},
     "output_type": "execute_result"
    }
   ],
   "source": [
    "# но можно создать новую строку\n",
    "string = 'z' + string[1:]\n",
    "string"
   ]
  },
  {
   "cell_type": "markdown",
   "metadata": {},
   "source": [
    " "
   ]
  },
  {
   "cell_type": "markdown",
   "metadata": {},
   "source": [
    "__Создание строк__"
   ]
  },
  {
   "cell_type": "markdown",
   "metadata": {},
   "source": [
    "Кавычки и апострофы, окружающие строки, в языке Python являются взаимозаменяемыми. То есть\n",
    "строковые литералы можно заключать как в апострофы, так и в кавычки – эти две формы представления строк\n",
    "ничем не отличаются, и обе они возвращают объект того же самого типа. Причина наличия двух вариантов\n",
    "состоит в том, чтобы позволить вставлять в литералы символы кавычек и апострофов, не используя для этого\n",
    "символ обратного слеша. Можно вставлять апострофы в строки, заключенные в кавычки, и наоборот."
   ]
  },
  {
   "cell_type": "code",
   "execution_count": 38,
   "metadata": {},
   "outputs": [
    {
     "data": {
      "text/plain": [
       "True"
      ]
     },
     "execution_count": 38,
     "metadata": {},
     "output_type": "execute_result"
    }
   ],
   "source": [
    "# кавычки равнозначны\n",
    "\n",
    "string1 = 'abcde 12345'\n",
    "string2 = \"abcde 12345\"\n",
    "string3 = \"\"\"abcde 12345\"\"\"\n",
    "\n",
    "string1 == string2 == string3"
   ]
  },
  {
   "cell_type": "code",
   "execution_count": 39,
   "metadata": {},
   "outputs": [
    {
     "name": "stdout",
     "output_type": "stream",
     "text": [
      "'abc' \"abc\"\n"
     ]
    }
   ],
   "source": [
    "# для вложенности можно использовать разные типы кавычек\n",
    "\n",
    "string1 = \"'abc'\"\n",
    "string2 = '\"abc\"'\n",
    "\n",
    "print(string1, string2)"
   ]
  },
  {
   "cell_type": "code",
   "execution_count": 72,
   "metadata": {
    "scrolled": true
   },
   "outputs": [
    {
     "name": "stdout",
     "output_type": "stream",
     "text": [
      "начало строки\n",
      "-------------\n",
      "    abcde\n",
      "        12345\n",
      "-------------\n",
      "конец строки"
     ]
    }
   ],
   "source": [
    "# тройные кавычки поддерживают многострочные тексты\n",
    "# (часто используются для комментариев и документирования модулей / классов / функций)\n",
    "\n",
    "string3 = \\\n",
    "\"\"\"\n",
    "    abcde\n",
    "        12345\n",
    "\"\"\"\n",
    "\n",
    "print('начало строки')\n",
    "print('-------------', end='')\n",
    "\n",
    "print(string3, end='')\n",
    "\n",
    "print('-------------')\n",
    "print('конец строки', end='')"
   ]
  },
  {
   "cell_type": "markdown",
   "metadata": {},
   "source": [
    " "
   ]
  },
  {
   "cell_type": "markdown",
   "metadata": {},
   "source": [
    "Следует знать, что __Python автоматически объединяет последовательности строковых литералов внутри\n",
    "выражения__, хотя нет ничего сложного в том, чтобы добавить оператор + между литералами и вызвать\n",
    "операцию конкатенации явно. При этом, если добавить запятые между этими строками, будет получен\n",
    "кортеж, а не строка."
   ]
  },
  {
   "cell_type": "code",
   "execution_count": 61,
   "metadata": {},
   "outputs": [
    {
     "name": "stdout",
     "output_type": "stream",
     "text": [
      "AaBbCcDdEeFfGgHhIiJjKkLlMmNnOoPpQqRrSsTtUuVvWwXxYyZz\n"
     ]
    }
   ],
   "source": [
    "# если нет запятой, строки объединяются в одну\n",
    "\n",
    "long_string = 'AaBbCcDdEeFfGgHhIiJjKkLlMmN'    'nOoPpQqRrSsTtUuVvWwXxYyZz'\n",
    "\n",
    "print(long_string)"
   ]
  },
  {
   "cell_type": "code",
   "execution_count": 83,
   "metadata": {},
   "outputs": [
    {
     "name": "stdout",
     "output_type": "stream",
     "text": [
      "AaBbCcDdEeFfGgHhIiJjKkLlMmNnOoPpQqRrSsTtUuVvWwXxYyZz\n"
     ]
    }
   ],
   "source": [
    "# аналогично при переносе\n",
    "\n",
    "long_string = 'AaBbCcDdEeFfGgHhIiJjKkLlMmN' \\\n",
    "              'nOoPpQqRrSsTtUuVvWwXxYyZz'\n",
    "\n",
    "print(long_string)"
   ]
  },
  {
   "cell_type": "code",
   "execution_count": 75,
   "metadata": {},
   "outputs": [
    {
     "name": "stdout",
     "output_type": "stream",
     "text": [
      "AaBbCcDdEeFfGgHhIiJjKkLlMmNnOoPpQqRrSsTtUuVvWwXxYyZz\n"
     ]
    }
   ],
   "source": [
    "# можно объединять явно\n",
    "\n",
    "long_string = 'AaBbCcDdEeFfGgHhIiJjKkLlMmN' + 'nOoPpQqRrSsTtUuVvWwXxYyZz'\n",
    "\n",
    "print(long_string)"
   ]
  },
  {
   "cell_type": "code",
   "execution_count": 76,
   "metadata": {},
   "outputs": [
    {
     "name": "stdout",
     "output_type": "stream",
     "text": [
      "('AaBbCcDdEeFfGgHhIiJjKkLlMmN', 'nOoPpQqRrSsTtUuVvWwXxYyZz')\n"
     ]
    }
   ],
   "source": [
    "# однако если есть запятая, то получается tuple\n",
    "\n",
    "long_string = 'AaBbCcDdEeFfGgHhIiJjKkLlMmN', 'nOoPpQqRrSsTtUuVvWwXxYyZz'\n",
    "\n",
    "print(long_string)"
   ]
  },
  {
   "cell_type": "markdown",
   "metadata": {},
   "source": [
    "__Экранирование (Escape Characters)__"
   ]
  },
  {
   "cell_type": "markdown",
   "metadata": {},
   "source": [
    "Экранированные последовательности позволяют вставлять в строки символы, которые сложно ввести с\n",
    "клавиатуры. В конечном строковом объекте символ \\ и один или более следующих за ним символов\n",
    "замещаются единственным символом, который имеет двоичное значение, определяемое экранированной\n",
    "последовательностью.\n",
    "\n",
    "Например:"
   ]
  },
  {
   "cell_type": "code",
   "execution_count": 179,
   "metadata": {
    "scrolled": true
   },
   "outputs": [
    {
     "name": "stdout",
     "output_type": "stream",
     "text": [
      "a\tb\n",
      "c\n",
      "\n",
      "Длина: 5\n"
     ]
    }
   ],
   "source": [
    "s = 'a\\tb\\nc' # Cтрока, в которую вставлены символ новой строки и табуляции; длина этой строки – 5\n",
    "\n",
    "print(s)\n",
    "print(); print('Длина:', len(s))"
   ]
  },
  {
   "cell_type": "markdown",
   "metadata": {},
   "source": [
    " "
   ]
  },
  {
   "cell_type": "markdown",
   "metadata": {},
   "source": [
    "__Поддерживают индексацию__ (аналогично спискам)"
   ]
  },
  {
   "cell_type": "code",
   "execution_count": 192,
   "metadata": {},
   "outputs": [
    {
     "data": {
      "text/plain": [
       "'abcde 12345'"
      ]
     },
     "execution_count": 192,
     "metadata": {},
     "output_type": "execute_result"
    }
   ],
   "source": [
    "string = 'abcde 12345'\n",
    "string"
   ]
  },
  {
   "cell_type": "code",
   "execution_count": 193,
   "metadata": {},
   "outputs": [
    {
     "data": {
      "text/plain": [
       "'abcde 12345'"
      ]
     },
     "execution_count": 193,
     "metadata": {},
     "output_type": "execute_result"
    }
   ],
   "source": [
    "string[:]"
   ]
  },
  {
   "cell_type": "code",
   "execution_count": 195,
   "metadata": {},
   "outputs": [
    {
     "data": {
      "text/plain": [
       "True"
      ]
     },
     "execution_count": 195,
     "metadata": {},
     "output_type": "execute_result"
    }
   ],
   "source": [
    "string is string[:] # строки кэшируются"
   ]
  },
  {
   "cell_type": "code",
   "execution_count": 14,
   "metadata": {},
   "outputs": [
    {
     "data": {
      "text/plain": [
       "'a'"
      ]
     },
     "execution_count": 14,
     "metadata": {},
     "output_type": "execute_result"
    }
   ],
   "source": [
    "string[0]"
   ]
  },
  {
   "cell_type": "code",
   "execution_count": 15,
   "metadata": {},
   "outputs": [
    {
     "data": {
      "text/plain": [
       "'ace'"
      ]
     },
     "execution_count": 15,
     "metadata": {},
     "output_type": "execute_result"
    }
   ],
   "source": [
    "string[0:5:2]"
   ]
  },
  {
   "cell_type": "code",
   "execution_count": 16,
   "metadata": {},
   "outputs": [
    {
     "data": {
      "text/plain": [
       "'5'"
      ]
     },
     "execution_count": 16,
     "metadata": {},
     "output_type": "execute_result"
    }
   ],
   "source": [
    "string[-1]"
   ]
  },
  {
   "cell_type": "code",
   "execution_count": 22,
   "metadata": {},
   "outputs": [
    {
     "data": {
      "text/plain": [
       "'54321 edcba'"
      ]
     },
     "execution_count": 22,
     "metadata": {},
     "output_type": "execute_result"
    }
   ],
   "source": [
    "string[::-1]"
   ]
  },
  {
   "cell_type": "markdown",
   "metadata": {},
   "source": [
    " "
   ]
  },
  {
   "cell_type": "markdown",
   "metadata": {},
   "source": [
    "__Поддерживают протокол итераций, операции сравнения, умножения, а также проверку на вхождение__"
   ]
  },
  {
   "cell_type": "code",
   "execution_count": 190,
   "metadata": {},
   "outputs": [
    {
     "data": {
      "text/plain": [
       "'abcde 12345'"
      ]
     },
     "execution_count": 190,
     "metadata": {},
     "output_type": "execute_result"
    }
   ],
   "source": [
    "string = 'abcde 12345'\n",
    "string"
   ]
  },
  {
   "cell_type": "code",
   "execution_count": 20,
   "metadata": {
    "scrolled": true
   },
   "outputs": [
    {
     "name": "stdout",
     "output_type": "stream",
     "text": [
      "aaaaa\n",
      "bbbbb\n",
      "ccccc\n",
      "ddddd\n",
      "eeeee\n",
      "     \n",
      "11111\n",
      "22222\n",
      "33333\n",
      "44444\n",
      "55555\n"
     ]
    }
   ],
   "source": [
    "for symbol in string:\n",
    "    print(symbol * 5)"
   ]
  },
  {
   "cell_type": "code",
   "execution_count": 149,
   "metadata": {},
   "outputs": [
    {
     "data": {
      "text/plain": [
       "True"
      ]
     },
     "execution_count": 149,
     "metadata": {},
     "output_type": "execute_result"
    }
   ],
   "source": [
    "'a' in string"
   ]
  },
  {
   "cell_type": "code",
   "execution_count": 150,
   "metadata": {},
   "outputs": [
    {
     "data": {
      "text/plain": [
       "False"
      ]
     },
     "execution_count": 150,
     "metadata": {},
     "output_type": "execute_result"
    }
   ],
   "source": [
    "'z' in string"
   ]
  },
  {
   "cell_type": "code",
   "execution_count": 158,
   "metadata": {},
   "outputs": [
    {
     "data": {
      "text/plain": [
       "True"
      ]
     },
     "execution_count": 158,
     "metadata": {},
     "output_type": "execute_result"
    }
   ],
   "source": [
    "a = 'abcdefg'\n",
    "b = 'abcdefg'\n",
    "\n",
    "a == b"
   ]
  },
  {
   "cell_type": "code",
   "execution_count": 1,
   "metadata": {},
   "outputs": [
    {
     "data": {
      "text/plain": [
       "(True, True)"
      ]
     },
     "execution_count": 1,
     "metadata": {},
     "output_type": "execute_result"
    }
   ],
   "source": [
    "a = 'abcdefg'\n",
    "b = '123'\n",
    "\n",
    "# сравниваются по длине строки\n",
    "a > b, len(a) > len(b)"
   ]
  },
  {
   "cell_type": "code",
   "execution_count": 2,
   "metadata": {},
   "outputs": [
    {
     "data": {
      "text/plain": [
       "(True, False)"
      ]
     },
     "execution_count": 2,
     "metadata": {},
     "output_type": "execute_result"
    }
   ],
   "source": [
    "a = 'abcdefg'\n",
    "b = '1bcdefgg'\n",
    "\n",
    "# сравниваются по длине строки\n",
    "a > b, len(a) > len(b)"
   ]
  },
  {
   "cell_type": "markdown",
   "metadata": {},
   "source": [
    " "
   ]
  },
  {
   "cell_type": "markdown",
   "metadata": {},
   "source": [
    "__Преобразование в строки и методы форматирования строк__"
   ]
  },
  {
   "cell_type": "code",
   "execution_count": 106,
   "metadata": {
    "scrolled": false
   },
   "outputs": [
    {
     "name": "stdout",
     "output_type": "stream",
     "text": [
      "<class 'str'>\n"
     ]
    },
    {
     "data": {
      "text/plain": [
       "'5'"
      ]
     },
     "execution_count": 106,
     "metadata": {},
     "output_type": "execute_result"
    }
   ],
   "source": [
    "a = 5\n",
    "a_string = str(a)\n",
    "\n",
    "print(type(a_string))\n",
    "a_string"
   ]
  },
  {
   "cell_type": "code",
   "execution_count": 112,
   "metadata": {},
   "outputs": [
    {
     "name": "stdout",
     "output_type": "stream",
     "text": [
      "That is old formatting: 5\n",
      "That is new formatting: 5\n"
     ]
    }
   ],
   "source": [
    "print('That is old formatting: %s' % (a))     # старый метод, не рекомендуется\n",
    "print('That is new formatting: {}'.format(a)) # новый метод, рекомендуется"
   ]
  },
  {
   "cell_type": "code",
   "execution_count": 128,
   "metadata": {},
   "outputs": [
    {
     "data": {
      "text/plain": [
       "'c, b, a'"
      ]
     },
     "execution_count": 128,
     "metadata": {},
     "output_type": "execute_result"
    }
   ],
   "source": [
    "# можно изменять порядок порядок:\n",
    "\n",
    "'{2}, {1}, {0}'.format(*'abc')"
   ]
  },
  {
   "cell_type": "code",
   "execution_count": 198,
   "metadata": {},
   "outputs": [
    {
     "data": {
      "text/plain": [
       "'Coordinates: 37.24N, -115.81W'"
      ]
     },
     "execution_count": 198,
     "metadata": {},
     "output_type": "execute_result"
    }
   ],
   "source": [
    "# подставлять именованные аргументы (для читаемости кода):\n",
    "\n",
    "'Coordinates: {latitude}, {longitude}'.format(longitude='-115.81W', latitude='37.24N')"
   ]
  },
  {
   "cell_type": "code",
   "execution_count": 126,
   "metadata": {},
   "outputs": [
    {
     "data": {
      "text/plain": [
       "'до третьего знака после запятой: 0.988'"
      ]
     },
     "execution_count": 126,
     "metadata": {},
     "output_type": "execute_result"
    }
   ],
   "source": [
    "# округлять:\n",
    "\n",
    "my_float = 0.9876543210\n",
    "'до третьего знака после запятой: {:.3f}'.format(my_float)"
   ]
  },
  {
   "cell_type": "code",
   "execution_count": 134,
   "metadata": {},
   "outputs": [
    {
     "data": {
      "text/plain": [
       "'до третьего знака после запятой: 98.77%'"
      ]
     },
     "execution_count": 134,
     "metadata": {},
     "output_type": "execute_result"
    }
   ],
   "source": [
    "# автоматически преобразовывать в проценты:\n",
    "\n",
    "my_float = 0.9876543210\n",
    "'до третьего знака после запятой: {:.2%}'.format(my_float)"
   ]
  },
  {
   "cell_type": "code",
   "execution_count": 148,
   "metadata": {},
   "outputs": [
    {
     "name": "stdout",
     "output_type": "stream",
     "text": [
      "            Hello, welcome!             \n",
      "This is some text that should be centered!\n"
     ]
    }
   ],
   "source": [
    "# выравнивать по правому краю, центру или левому краю (как в текстовом редакторе)\n",
    "\n",
    "Message = \"Hello, welcome!\\nThis is some text that should be centered!\"\n",
    "print('\\n'.join('{:^40}'.format(s) for s in Message.split('\\n')))"
   ]
  },
  {
   "cell_type": "markdown",
   "metadata": {},
   "source": [
    "Подробнее:\n",
    "https://pythonworld.ru/osnovy/formatirovanie-strok-metod-format.html"
   ]
  },
  {
   "cell_type": "markdown",
   "metadata": {},
   "source": [
    " "
   ]
  },
  {
   "cell_type": "markdown",
   "metadata": {},
   "source": [
    "__Объединение (конкатенация) строк__"
   ]
  },
  {
   "cell_type": "markdown",
   "metadata": {},
   "source": [
    "Кратко:"
   ]
  },
  {
   "cell_type": "code",
   "execution_count": 99,
   "metadata": {},
   "outputs": [],
   "source": [
    "string1 = 'abcde '\n",
    "string2 = '12345'"
   ]
  },
  {
   "cell_type": "code",
   "execution_count": 102,
   "metadata": {},
   "outputs": [],
   "source": [
    "# вариант 1: с помощью знака '+'\n",
    "\n",
    "def plus_concatenation():\n",
    "    return string1 + string2"
   ]
  },
  {
   "cell_type": "code",
   "execution_count": 103,
   "metadata": {},
   "outputs": [
    {
     "name": "stdout",
     "output_type": "stream",
     "text": [
      "193 ns ± 0.984 ns per loop (mean ± std. dev. of 7 runs, 10000000 loops each)\n"
     ]
    }
   ],
   "source": [
    "%timeit plus_concatenation()"
   ]
  },
  {
   "cell_type": "code",
   "execution_count": 104,
   "metadata": {},
   "outputs": [],
   "source": [
    "# вариант 2: с помощью комманды ''.join(list_of_strings)\n",
    "\n",
    "def join_concatenation():\n",
    "    return ''.join((string1, string2))"
   ]
  },
  {
   "cell_type": "code",
   "execution_count": 105,
   "metadata": {},
   "outputs": [
    {
     "name": "stdout",
     "output_type": "stream",
     "text": [
      "219 ns ± 2.2 ns per loop (mean ± std. dev. of 7 runs, 1000000 loops each)\n"
     ]
    }
   ],
   "source": [
    "%timeit join_concatenation()"
   ]
  },
  {
   "cell_type": "markdown",
   "metadata": {},
   "source": [
    "Подробно здесь:\n",
    "\n",
    "https://stackoverflow.com/questions/1316887/what-is-the-most-efficient-string-concatenation-method-in-python"
   ]
  },
  {
   "cell_type": "markdown",
   "metadata": {},
   "source": [
    " "
   ]
  },
  {
   "cell_type": "markdown",
   "metadata": {},
   "source": [
    "__Методы строк__ (некоторые)"
   ]
  },
  {
   "cell_type": "markdown",
   "metadata": {},
   "source": [
    "https://docs.python.org/3/library/stdtypes.html#string-methods"
   ]
  },
  {
   "cell_type": "code",
   "execution_count": 287,
   "metadata": {},
   "outputs": [
    {
     "data": {
      "text/plain": [
       "'abcde 12345 EDCBA 54321'"
      ]
     },
     "execution_count": 287,
     "metadata": {},
     "output_type": "execute_result"
    }
   ],
   "source": [
    "string = 'abcde 12345 EDCBA 54321'\n",
    "string"
   ]
  },
  {
   "cell_type": "code",
   "execution_count": 256,
   "metadata": {},
   "outputs": [
    {
     "data": {
      "text/plain": [
       "('ABCDE 12345 EDCBA 54321', True)"
      ]
     },
     "execution_count": 256,
     "metadata": {},
     "output_type": "execute_result"
    }
   ],
   "source": [
    "# заглавные\n",
    "string.upper(), string.upper().isupper()"
   ]
  },
  {
   "cell_type": "code",
   "execution_count": 258,
   "metadata": {},
   "outputs": [
    {
     "data": {
      "text/plain": [
       "('abcde 12345 edcba 54321', True)"
      ]
     },
     "execution_count": 258,
     "metadata": {},
     "output_type": "execute_result"
    }
   ],
   "source": [
    "# строчные\n",
    "string.lower(), string.lower().islower()"
   ]
  },
  {
   "cell_type": "code",
   "execution_count": 218,
   "metadata": {},
   "outputs": [
    {
     "name": "stdout",
     "output_type": "stream",
     "text": [
      "1\n",
      "2\n"
     ]
    }
   ],
   "source": [
    "# посчитать вхождение\n",
    "\n",
    "print(string.count('a')) # встречается 1 раз\n",
    "\n",
    "print(string.count('5'))  # встречается 2 раза"
   ]
  },
  {
   "cell_type": "code",
   "execution_count": 221,
   "metadata": {},
   "outputs": [
    {
     "name": "stdout",
     "output_type": "stream",
     "text": [
      "True\n",
      "False\n"
     ]
    }
   ],
   "source": [
    "# \"начинается с\", \"оканчивается на\"\n",
    "\n",
    "print(string.startswith('abcde'))\n",
    "\n",
    "print(string.endswith('12345'))"
   ]
  },
  {
   "cell_type": "code",
   "execution_count": 289,
   "metadata": {},
   "outputs": [
    {
     "name": "stdout",
     "output_type": "stream",
     "text": [
      "18 \n",
      " 54321\n"
     ]
    }
   ],
   "source": [
    "# поиск индекса подстроки в строке\n",
    "\n",
    "index = string.find('54321')\n",
    "\n",
    "print(index, '\\n', string[index:])"
   ]
  },
  {
   "cell_type": "code",
   "execution_count": 290,
   "metadata": {},
   "outputs": [
    {
     "data": {
      "text/plain": [
       "-1"
      ]
     },
     "execution_count": 290,
     "metadata": {},
     "output_type": "execute_result"
    }
   ],
   "source": [
    "# если не нашел, то возвращает -1\n",
    "\n",
    "string.find('XYZ')"
   ]
  },
  {
   "cell_type": "code",
   "execution_count": 236,
   "metadata": {},
   "outputs": [
    {
     "name": "stdout",
     "output_type": "stream",
     "text": [
      "18\n"
     ]
    }
   ],
   "source": [
    "# Метод 'str.index()' делает тоже самое,\n",
    "# только если не нашел вызывает исключение ValueError\n",
    "\n",
    "print(string.index('54321'))"
   ]
  },
  {
   "cell_type": "code",
   "execution_count": 237,
   "metadata": {},
   "outputs": [
    {
     "ename": "ValueError",
     "evalue": "substring not found",
     "output_type": "error",
     "traceback": [
      "\u001b[1;31m---------------------------------------------------------------------------\u001b[0m",
      "\u001b[1;31mValueError\u001b[0m                                Traceback (most recent call last)",
      "\u001b[1;32m<ipython-input-237-945112944c91>\u001b[0m in \u001b[0;36m<module>\u001b[1;34m\u001b[0m\n\u001b[1;32m----> 1\u001b[1;33m \u001b[0mprint\u001b[0m\u001b[1;33m(\u001b[0m\u001b[0mstring\u001b[0m\u001b[1;33m.\u001b[0m\u001b[0mindex\u001b[0m\u001b[1;33m(\u001b[0m\u001b[1;34m'XYZ'\u001b[0m\u001b[1;33m)\u001b[0m\u001b[1;33m)\u001b[0m\u001b[1;33m\u001b[0m\u001b[1;33m\u001b[0m\u001b[0m\n\u001b[0m",
      "\u001b[1;31mValueError\u001b[0m: substring not found"
     ]
    }
   ],
   "source": [
    "print(string.index('XYZ'))"
   ]
  },
  {
   "cell_type": "code",
   "execution_count": 246,
   "metadata": {},
   "outputs": [
    {
     "data": {
      "text/plain": [
       "(False, True)"
      ]
     },
     "execution_count": 246,
     "metadata": {},
     "output_type": "execute_result"
    }
   ],
   "source": [
    "# Проверить, все ли символы строки являются буквами (не пробелы и не числа)\n",
    "\n",
    "string.isalpha(), string[:5].isalpha()"
   ]
  },
  {
   "cell_type": "code",
   "execution_count": 262,
   "metadata": {},
   "outputs": [
    {
     "data": {
      "text/plain": [
       "(False, True, False, True)"
      ]
     },
     "execution_count": 262,
     "metadata": {},
     "output_type": "execute_result"
    }
   ],
   "source": [
    "# Проверить, все ли символы строки являются числами (не пробелы и не буквы)\n",
    "\n",
    "string.isdigit(), string[6:8].isdigit(), string.isnumeric(), string[6:8].isnumeric()"
   ]
  },
  {
   "cell_type": "code",
   "execution_count": 265,
   "metadata": {},
   "outputs": [
    {
     "data": {
      "text/plain": [
       "('123   ', '   123', '123')"
      ]
     },
     "execution_count": 265,
     "metadata": {},
     "output_type": "execute_result"
    }
   ],
   "source": [
    "# Удалить пробелы слева, справа и с двух концов\n",
    "\n",
    "'   123   '.lstrip(), '   123   '.rstrip(), '   123   '.strip()"
   ]
  },
  {
   "cell_type": "code",
   "execution_count": 275,
   "metadata": {},
   "outputs": [
    {
     "data": {
      "text/plain": [
       "' abc 321 abc 321'"
      ]
     },
     "execution_count": 275,
     "metadata": {},
     "output_type": "execute_result"
    }
   ],
   "source": [
    "# Заменить одну подстроку на другую (не изменяя исходной строки!)\n",
    "\n",
    "' abc 123 abc 123'.replace('123', '321')  # по умолчанию заменить все найденные значения"
   ]
  },
  {
   "cell_type": "code",
   "execution_count": 285,
   "metadata": {},
   "outputs": [
    {
     "data": {
      "text/plain": [
       "' xyz 123 abc 123'"
      ]
     },
     "execution_count": 285,
     "metadata": {},
     "output_type": "execute_result"
    }
   ],
   "source": [
    "' abc 123 abc 123'.replace('abc', 'xyz', 1)  # заменить только первое найденное значение"
   ]
  },
  {
   "cell_type": "code",
   "execution_count": 279,
   "metadata": {},
   "outputs": [
    {
     "data": {
      "text/plain": [
       "['abc', '123', 'cde', '345']"
      ]
     },
     "execution_count": 279,
     "metadata": {},
     "output_type": "execute_result"
    }
   ],
   "source": [
    "# Разбить на список строк по символу-разделителю (по умолчанию пробел):\n",
    "\n",
    "' abc 123 cde 345'.split()"
   ]
  },
  {
   "cell_type": "code",
   "execution_count": 281,
   "metadata": {},
   "outputs": [
    {
     "data": {
      "text/plain": [
       "[' abc 12', ' cde ', '45']"
      ]
     },
     "execution_count": 281,
     "metadata": {},
     "output_type": "execute_result"
    }
   ],
   "source": [
    "' abc 123 cde 345'.split('3')"
   ]
  },
  {
   "cell_type": "code",
   "execution_count": 283,
   "metadata": {},
   "outputs": [
    {
     "data": {
      "text/plain": [
       "'abcdef1234567890'"
      ]
     },
     "execution_count": 283,
     "metadata": {},
     "output_type": "execute_result"
    }
   ],
   "source": [
    "# Так можно быстро удалить все пробелы в строке:\n",
    "\n",
    "string = \"       abc def 123456789 0   \"\n",
    "''.join(string.split())"
   ]
  },
  {
   "cell_type": "code",
   "execution_count": 284,
   "metadata": {},
   "outputs": [
    {
     "data": {
      "text/plain": [
       "['abc', '123', 'XYZ']"
      ]
     },
     "execution_count": 284,
     "metadata": {},
     "output_type": "execute_result"
    }
   ],
   "source": [
    "# Аналогично string.splitlines() разбивает на подстроки (по символу переноса)\n",
    "\n",
    "\"\"\"abc\n",
    "123\n",
    "XYZ\"\"\".splitlines()"
   ]
  },
  {
   "cell_type": "code",
   "execution_count": 5,
   "metadata": {},
   "outputs": [
    {
     "data": {
      "text/plain": [
       "False"
      ]
     },
     "execution_count": 5,
     "metadata": {},
     "output_type": "execute_result"
    }
   ],
   "source": [
    "bool('')"
   ]
  },
  {
   "cell_type": "code",
   "execution_count": 6,
   "metadata": {},
   "outputs": [
    {
     "data": {
      "text/plain": [
       "True"
      ]
     },
     "execution_count": 6,
     "metadata": {},
     "output_type": "execute_result"
    }
   ],
   "source": [
    "bool('0')"
   ]
  },
  {
   "cell_type": "code",
   "execution_count": 7,
   "metadata": {},
   "outputs": [
    {
     "data": {
      "text/plain": [
       "False"
      ]
     },
     "execution_count": 7,
     "metadata": {},
     "output_type": "execute_result"
    }
   ],
   "source": [
    "bool(0)"
   ]
  },
  {
   "cell_type": "markdown",
   "metadata": {},
   "source": [
    "---"
   ]
  },
  {
   "cell_type": "markdown",
   "metadata": {},
   "source": [
    "### Регулярные выражения (regular expression)"
   ]
  },
  {
   "cell_type": "markdown",
   "metadata": {},
   "source": [
    "__Регуля́рные выраже́ния__ (англ. regular expressions) — формальный язык поиска и осуществления манипуляций с подстроками в тексте, основанный на использовании метасимволов (символов-джокеров, англ. wildcard characters). Для поиска используется строка-образец (англ. pattern, по-русски её часто называют «шаблоном», «маской»), состоящая из символов и метасимволов и задающая правило поиска. Для манипуляций с текстом дополнительно задаётся строка замены, которая также может содержать в себе специальные символы.\n",
    "\n",
    "https://ru.wikipedia.org/wiki/%D0%A0%D0%B5%D0%B3%D1%83%D0%BB%D1%8F%D1%80%D0%BD%D1%8B%D0%B5_%D0%B2%D1%8B%D1%80%D0%B0%D0%B6%D0%B5%D0%BD%D0%B8%D1%8F"
   ]
  },
  {
   "cell_type": "markdown",
   "metadata": {},
   "source": [
    "Говоря простым языком, __регулярное выражение__ — это последовательность символов, используемая для поиска и замены текста в строке или файле. Их поддерживает множество языков общего назначения: Python, Perl, R и многие программы в UNIX. Так что изучение регулярных выражений рано или поздно пригодится."
   ]
  },
  {
   "cell_type": "markdown",
   "metadata": {},
   "source": [
    "Перевод не очень точно отражает смысл, правильнее было бы «**шаблонные выражения**».\n",
    "\n",
    "В питоне является встроенной библиотекой, импортируется как '**import re**'."
   ]
  },
  {
   "cell_type": "markdown",
   "metadata": {},
   "source": [
    "Онлайн-инструменты для отладки регулярных выражений:\n",
    "\n",
    "https://regexr.com/"
   ]
  },
  {
   "cell_type": "markdown",
   "metadata": {},
   "source": [
    " "
   ]
  },
  {
   "cell_type": "markdown",
   "metadata": {},
   "source": [
    "*Пример*: найти и вывести номер из HTML-строки:"
   ]
  },
  {
   "cell_type": "code",
   "execution_count": 437,
   "metadata": {},
   "outputs": [
    {
     "data": {
      "text/plain": [
       "'1. Your number is <b>123</b>; 2. Your name is <b>Vasiliy</b>'"
      ]
     },
     "execution_count": 437,
     "metadata": {},
     "output_type": "execute_result"
    }
   ],
   "source": [
    "string = '1. Your number is <b>123</b>; 2. Your name is <b>Vasiliy</b>'\n",
    "string"
   ]
  },
  {
   "cell_type": "code",
   "execution_count": 438,
   "metadata": {
    "scrolled": true
   },
   "outputs": [
    {
     "name": "stdout",
     "output_type": "stream",
     "text": [
      "123\n"
     ]
    }
   ],
   "source": [
    "# имортируем стандартную библиотеку для работы с регулярными выражениями в Python\n",
    "import re\n",
    "\n",
    "# определяем строку-шаблон, по которой мы будем искать \"число один или более раз\"\n",
    "match_string = \"<b>(\\d+)</b>\"\n",
    "\n",
    "# выполняем поиск по шаблону 'match_string' в строке 'string'\n",
    "m = re.search(match_string, string)\n",
    "\n",
    "# если строка нашлась, то выводим её\n",
    "if m:\n",
    "    print(m.groups()[0])"
   ]
  },
  {
   "cell_type": "markdown",
   "metadata": {},
   "source": [
    " "
   ]
  },
  {
   "cell_type": "markdown",
   "metadata": {},
   "source": [
    "*Пример*: найти и вывести e-mail из строки:"
   ]
  },
  {
   "cell_type": "code",
   "execution_count": 344,
   "metadata": {},
   "outputs": [
    {
     "data": {
      "text/plain": [
       "'Your e-mail is vasya.pupkin2000@ya.ru. Your login is vasya.pupkin2000, please enter password'"
      ]
     },
     "execution_count": 344,
     "metadata": {},
     "output_type": "execute_result"
    }
   ],
   "source": [
    "string = 'Your e-mail is vasya.pupkin2000@ya.ru. Your login is vasya.pupkin2000, please enter password'\n",
    "string"
   ]
  },
  {
   "cell_type": "code",
   "execution_count": 345,
   "metadata": {
    "scrolled": true
   },
   "outputs": [
    {
     "name": "stdout",
     "output_type": "stream",
     "text": [
      "vasya.pupkin2000@ya.ru\n"
     ]
    }
   ],
   "source": [
    "# имортируем стандартную библиотеку для работы с регулярными выражениями в Python\n",
    "import re\n",
    "\n",
    "# определяем строку-шаблон, по которой мы будем искать \"число один или более раз\"\n",
    "match_string = r\"\\\"?([-a-zA-Z0-9.`?{}]+@\\w+\\.\\w+)\\\"?\"\n",
    "\n",
    "# выполняем поиск по шаблону 'match_string' в строке 'string'\n",
    "m = re.search(match_string, string)\n",
    "\n",
    "# если строка нашлась, то выводим её\n",
    "if m:\n",
    "    print(m.group())"
   ]
  },
  {
   "cell_type": "markdown",
   "metadata": {},
   "source": [
    " "
   ]
  },
  {
   "cell_type": "markdown",
   "metadata": {},
   "source": [
    "Регулярные выражения используют два типа символов:\n",
    "\n",
    "- специальные символы: у этих символов есть специальные значения. Аналогично символу __*__, который как правило означает «любой символ»;\n",
    "- литералы (например: a, b, 1, 2 и т. д.)."
   ]
  },
  {
   "cell_type": "markdown",
   "metadata": {},
   "source": [
    "Чаще всего регулярные выражения используются для:\n",
    "- поиска в строке;\n",
    "- разбиения строки на подстроки;\n",
    "- замены части строки."
   ]
  },
  {
   "cell_type": "markdown",
   "metadata": {},
   "source": [
    "Наиболее часто используемые методы из библиотеки **re**:\n",
    "- re.match()\n",
    "- re.group()\n",
    "- re.groups()\n",
    "- re.start()\n",
    "- re.end()\n",
    "- re.search()\n",
    "- re.findall()\n",
    "- re.split()\n",
    "- re.sub()\n",
    "- re.compile()"
   ]
  },
  {
   "cell_type": "code",
   "execution_count": 3,
   "metadata": {},
   "outputs": [],
   "source": [
    "import re"
   ]
  },
  {
   "cell_type": "markdown",
   "metadata": {},
   "source": [
    "#### re.match"
   ]
  },
  {
   "cell_type": "code",
   "execution_count": 407,
   "metadata": {},
   "outputs": [
    {
     "name": "stdout",
     "output_type": "stream",
     "text": [
      "<_sre.SRE_Match object; span=(0, 2), match='AV'>\n"
     ]
    }
   ],
   "source": [
    "# re.match(pattern, string) - ищет по заданному шаблону в НАЧАЛЕ строки.\n",
    "# Определить, начинается ли совпадение регулярного выражения с начала строки\n",
    "\n",
    "result = re.match('AV', 'AV Analytics Vidhya AV')\n",
    "\n",
    "print(result) # возвращает \"Match-объект\""
   ]
  },
  {
   "cell_type": "markdown",
   "metadata": {},
   "source": [
    "#### re.group"
   ]
  },
  {
   "cell_type": "code",
   "execution_count": 383,
   "metadata": {},
   "outputs": [
    {
     "data": {
      "text/plain": [
       "'AV'"
      ]
     },
     "execution_count": 383,
     "metadata": {},
     "output_type": "execute_result"
    }
   ],
   "source": [
    "# re.group() возвращает один или несколько результатов выполнения операции match.\n",
    "\n",
    "result.group()"
   ]
  },
  {
   "cell_type": "code",
   "execution_count": 384,
   "metadata": {},
   "outputs": [
    {
     "name": "stdout",
     "output_type": "stream",
     "text": [
      "None\n"
     ]
    }
   ],
   "source": [
    "result = re.match('12345', 'AV Analytics Vidhya AV')\n",
    "\n",
    "print(result) # None ==> ничего не найдено"
   ]
  },
  {
   "cell_type": "markdown",
   "metadata": {},
   "source": [
    "#### re.groups"
   ]
  },
  {
   "cell_type": "code",
   "execution_count": 405,
   "metadata": {},
   "outputs": [
    {
     "data": {
      "text/plain": [
       "('24', '1632')"
      ]
     },
     "execution_count": 405,
     "metadata": {},
     "output_type": "execute_result"
    }
   ],
   "source": [
    "# re.groups() возвращает tuple из найденных групп после выполнения операции match.\n",
    "# («r» перед строкой шаблона, чтобы показать, что это «сырая» строка в Python, т.е. без экранирования)\n",
    "\n",
    "m = re.match(\"(\\d+)\\.(\\d+)\", \"24.1632\")\n",
    "\n",
    "m.groups()"
   ]
  },
  {
   "cell_type": "markdown",
   "metadata": {},
   "source": [
    "#### re.start(), re.end()"
   ]
  },
  {
   "cell_type": "code",
   "execution_count": 427,
   "metadata": {},
   "outputs": [
    {
     "name": "stdout",
     "output_type": "stream",
     "text": [
      "Found number: 24.1632 on start index 0 and end index 7\n"
     ]
    }
   ],
   "source": [
    "# Также есть методы re.start() и re.end() для того, чтобы узнать начальную и конечную позицию найденной строки.\n",
    "\n",
    "m = re.match(r\"(\\d+)\\.(\\d+)\", \"24.1632 is larger than 10.923\")\n",
    "\n",
    "print('Found number: {} on start index {} and end index {}'.format(\n",
    "                 m.group(),         m.start(),        m.end()     ))"
   ]
  },
  {
   "cell_type": "markdown",
   "metadata": {},
   "source": [
    "#### re.search"
   ]
  },
  {
   "cell_type": "code",
   "execution_count": 422,
   "metadata": {},
   "outputs": [
    {
     "name": "stdout",
     "output_type": "stream",
     "text": [
      "<_sre.SRE_Match object; span=(3, 12), match='Analytics'>\n"
     ]
    }
   ],
   "source": [
    "# re.search(pattern, string) - этот метод ищет по всей строке, но возвращает только первое найденное совпадение.\n",
    "# Сканировать всю строку в поисках всех мест совпадений с регулярным выражением.\n",
    "\n",
    "result = re.search(r'Analytics', 'AV Analytics Vidhya AV')\n",
    "\n",
    "print(result) # возвращает \"Match-объект\""
   ]
  },
  {
   "cell_type": "markdown",
   "metadata": {},
   "source": [
    "#### re.findall"
   ]
  },
  {
   "cell_type": "code",
   "execution_count": 439,
   "metadata": {
    "scrolled": true
   },
   "outputs": [
    {
     "name": "stdout",
     "output_type": "stream",
     "text": [
      "['AV', 'AV', 'AV', 'AV']\n"
     ]
    }
   ],
   "source": [
    "# re.findall(pattern, string) - этот метод возвращает список всех найденных совпадений.\n",
    "# У метода re.findall нет ограничений на поиск в начале или конце строки.\n",
    "# Найти все подстроки совпадений с регулярным выражением и вернуть их в виде списка.\n",
    "\n",
    "result = re.findall(r'AV', 'AV Analytics Vidhya AV (AV.AV)')\n",
    "\n",
    "print(result) # возвращает список найденных СТРОК"
   ]
  },
  {
   "cell_type": "code",
   "execution_count": 452,
   "metadata": {},
   "outputs": [],
   "source": [
    "# re.finditer(pattern, string) - итератор всем непересекающимся шаблонам pattern в строке string\n",
    "# (выдаются match-объекты)"
   ]
  },
  {
   "cell_type": "markdown",
   "metadata": {},
   "source": [
    "#### re.split"
   ]
  },
  {
   "cell_type": "code",
   "execution_count": 451,
   "metadata": {},
   "outputs": [
    {
     "data": {
      "text/plain": [
       "['This', 'is', 'a', 'test, short and sweet, of split().']"
      ]
     },
     "execution_count": 451,
     "metadata": {},
     "output_type": "execute_result"
    }
   ],
   "source": [
    "# re.split(pattern, string, [maxsplit=0]) - этот метод разделяет строку по заданному шаблону.\n",
    "# Аргумент 'maxsplit' (со значением по умолчанию, равным 0) разделит строку столько раз,\n",
    "# сколько возможно, но если указать этот аргумент, то разделение будет произведено\n",
    "# не более указанного количества раз.\n",
    "# Разбить строку в список там, где есть совпадение регулярного выражения.\n",
    "\n",
    "result = re.split(r'\\W+', 'This is a test, short and sweet, of split().', 3)\n",
    "\n",
    "result # возвращает список разделенных СТРОК"
   ]
  },
  {
   "cell_type": "markdown",
   "metadata": {},
   "source": [
    "#### re.sub"
   ]
  },
  {
   "cell_type": "code",
   "execution_count": 457,
   "metadata": {},
   "outputs": [
    {
     "data": {
      "text/plain": [
       "'This_is_a_test_short_and_sweet_of_split_'"
      ]
     },
     "execution_count": 457,
     "metadata": {},
     "output_type": "execute_result"
    }
   ],
   "source": [
    "# re.sub(pattern, repl, string) - этот метод ищет шаблон в строке и заменяет его на указанную подстроку.\n",
    "# Если шаблон не найден, строка остается неизменной.\n",
    "# Заменить в строке string все непересекающиеся шаблоны pattern на repl.\n",
    "\n",
    "result = re.sub(r'\\W+', '_', 'This is a test, short and sweet, of split().')\n",
    "\n",
    "result # возвращает новую преобразованную строку"
   ]
  },
  {
   "cell_type": "markdown",
   "metadata": {},
   "source": [
    "#### re.compile"
   ]
  },
  {
   "cell_type": "code",
   "execution_count": 4,
   "metadata": {},
   "outputs": [
    {
     "name": "stdout",
     "output_type": "stream",
     "text": [
      "['AV', 'AV']\n",
      "['AV']\n"
     ]
    }
   ],
   "source": [
    "# re.compile(pattern, repl, string) - мы можем собрать регулярное выражение в отдельный объект,\n",
    "# который может быть использован для поиска. Это также избавляет от переписывания одного и того же выражения.\n",
    "\n",
    "pattern = re.compile(r'AV')\n",
    "\n",
    "result = pattern.findall('AV Analytics Vidhya AV')\n",
    "print(result)\n",
    "\n",
    "result2 = pattern.findall('AV is largest analytics community of India')\n",
    "print(result2)"
   ]
  },
  {
   "cell_type": "markdown",
   "metadata": {},
   "source": [
    "#### Специальные симовлы регулярных выражений"
   ]
  },
  {
   "cell_type": "raw",
   "metadata": {},
   "source": [
    "Оператор               Описание\n",
    "\n",
    " .  —  Один любой символ, кроме новой строки \\n.\n",
    " \n",
    " ?  —  0 или 1 вхождение шаблона слева\n",
    " \n",
    " +  —  1 и более вхождений шаблона слева\n",
    " \n",
    " *  —  0 и более вхождений шаблона слева\n",
    " \n",
    " \\w —  Любая цифра или буква (\\W — все, кроме буквы или цифры)\n",
    " \n",
    " \\d —  Любая цифра [0—9] (\\D — все, кроме цифры)\n",
    " \n",
    " \\s —  Любой пробельный символ (\\S — любой непробельный символ)\n",
    " \n",
    " \\b —  Граница слова\n",
    " \n",
    " [..]  —  Один из символов в скобках ([^..] — любой символ, кроме тех, что в скобках)\n",
    " \n",
    " \\  —  Экранирование специальных символов, т.е. превращает их в обычные (\\. означает точку или \\+ — знак «плюс»)\n",
    " \n",
    " ^ и $  — Начало и конец строки соответственно\n",
    " \n",
    " {n,m} От n до m вхождений ({,m} — от 0 до m)\n",
    " \n",
    " a|b — Соответствует a или b\n",
    " \n",
    " ()  — Группирует выражение и возвращает найденный текст\n",
    " \n",
    " \\t, \\n, \\r — Символ табуляции, новой строки и возврата каретки соответственно"
   ]
  },
  {
   "cell_type": "markdown",
   "metadata": {},
   "source": [
    " "
   ]
  },
  {
   "cell_type": "markdown",
   "metadata": {},
   "source": [
    "Пример:"
   ]
  },
  {
   "cell_type": "code",
   "execution_count": 7,
   "metadata": {},
   "outputs": [
    {
     "name": "stdout",
     "output_type": "stream",
     "text": [
      "['AV', 'is', 'largest', 'Analytics', 'community', 'of', 'India']\n"
     ]
    }
   ],
   "source": [
    "# найти все слова (символы без пробелов один или более раз)\n",
    "\n",
    "result = re.findall(r'\\w+', 'AV is largest Analytics community of India')\n",
    "\n",
    "print(result)"
   ]
  },
  {
   "cell_type": "code",
   "execution_count": 8,
   "metadata": {},
   "outputs": [
    {
     "name": "stdout",
     "output_type": "stream",
     "text": [
      "['India']\n"
     ]
    }
   ],
   "source": [
    "# найти последнее слово (символы без пробелов один или более раз, в конце строки)\n",
    "\n",
    "result = re.findall(r'\\w+$', 'AV is largest Analytics community of India')\n",
    "\n",
    "print(result)"
   ]
  },
  {
   "cell_type": "code",
   "execution_count": 12,
   "metadata": {},
   "outputs": [
    {
     "name": "stdout",
     "output_type": "stream",
     "text": [
      "['AV', 'is', 'st', 'cs', 'ty', 'of', 'ia']\n"
     ]
    }
   ],
   "source": [
    "# вытащить два последних символа от каждого слова, используя символ границы слова \n",
    "\n",
    "result = re.findall(r'.\\w\\b', 'AV is largest Analytics community of India')\n",
    "\n",
    "print(result)"
   ]
  },
  {
   "cell_type": "code",
   "execution_count": 20,
   "metadata": {},
   "outputs": [
    {
     "name": "stdout",
     "output_type": "stream",
     "text": [
      "['com', 'in', 'com', 'biz']\n"
     ]
    }
   ],
   "source": [
    "# вытащить список доменов из всех добавленных почтовых адресов\n",
    "\n",
    "string = 'abc.test@gmail.com, xyz@test.in, test.first@analyticsvidhya.com, first.test@rest.biz'\n",
    "result = re.findall(r'@\\w+\\.(\\w+)', string)\n",
    "ы\n",
    "print(result)"
   ]
  },
  {
   "cell_type": "markdown",
   "metadata": {},
   "source": [
    "Дополнительно здесь:\n",
    "\n",
    "https://tproger.ru/translations/regular-expression-python/"
   ]
  },
  {
   "cell_type": "markdown",
   "metadata": {},
   "source": [
    "#### Greedy / Non-greedy (жадный / ленивый поиск)"
   ]
  },
  {
   "cell_type": "markdown",
   "metadata": {},
   "source": [
    "Повторения, такие как * называют жадными (greedy); движок будет пытаться повторить его столько раз, сколько это возможно. Если следующие части шаблона не соответствуют, движок вернется назад и попытается попробовать снова с несколькими повторами символа.\n",
    "\n",
    "Символ вопроса делает алгоритм поиска ленивым (не жадным).\n",
    "\n",
    "Пример:"
   ]
  },
  {
   "cell_type": "code",
   "execution_count": 26,
   "metadata": {},
   "outputs": [
    {
     "name": "stdout",
     "output_type": "stream",
     "text": [
      "['<python>perl>']\n",
      "['<python>']\n"
     ]
    }
   ],
   "source": [
    "string = '<python>perl>'\n",
    "\n",
    "# Стандартный вариант - жадный\n",
    "result = re.findall(r'<.+>', string)\n",
    "print(result)\n",
    "\n",
    "# Вариант со знаком вопроса - ленивый\n",
    "result = re.findall(r'<.+?>', string)\n",
    "print(result)"
   ]
  },
  {
   "cell_type": "markdown",
   "metadata": {},
   "source": [
    " "
   ]
  },
  {
   "cell_type": "markdown",
   "metadata": {},
   "source": [
    "Реальный пример использования:"
   ]
  },
  {
   "cell_type": "code",
   "execution_count": 348,
   "metadata": {},
   "outputs": [],
   "source": [
    "def parse_short_pId(pId):\n",
    "    \"\"\" Takes pId and parses \"short pId\" from it,\n",
    "        otherwise returns pId.\n",
    "    \"\"\"\n",
    "    match_string = '([OО].+?)-[CС].+-\\d+'\n",
    "    current_match = re.match(match_string, pId)\n",
    "    if current_match:\n",
    "        return replace_russian_letters_ыin(current_match.group(1))\n",
    "\n",
    "    match_string = '([OО].+-\\d+[/]\\d+)-\\d+'\n",
    "    current_match = re.match(match_string, pId)\n",
    "    if current_match:\n",
    "        return replace_russian_letters_in(current_match.group(1))\n",
    "\n",
    "    match_string = '([OО].+?-\\d[CС])-.*\\d+'\n",
    "    current_match = re.match(match_string, pId)\n",
    "    if current_match:\n",
    "        return replace_russian_letters_in(current_match.group(1))\n",
    "\n",
    "    match_string = '([OО].+)-\\d+'\n",
    "    current_match = re.match(match_string, pId)\n",
    "    if current_match:\n",
    "        return replace_russian_letters_in(current_match.group(1))\n",
    "    \n",
    "    #EA\n",
    "    match_string = '([EЕ][AА].*)-\\d+'\n",
    "    current_match = re.match(match_string, pId)\n",
    "    if current_match:\n",
    "        return replace_russian_letters_in(current_match.group(1))\n",
    "    \n",
    "    #ERA\n",
    "    match_string = '([EЕ]R[AА].*[/]\\d+)-\\d+'\n",
    "    current_match = re.match(match_string, pId)\n",
    "    if current_match:\n",
    "        return replace_russian_letters_in(current_match.group(1))\n",
    "    \n",
    "    #MS\n",
    "    match_string = '([MМ]S.*)-\\d+'\n",
    "    current_match = re.match(match_string, pId)\n",
    "    if current_match:\n",
    "        return replace_russian_letters_in(current_match.group(1))\n",
    "    \n",
    "    #TD #TS\n",
    "    match_string = '([TТ][DS].*)-\\d+'\n",
    "    current_match = re.match(match_string, pId)\n",
    "    if current_match:\n",
    "        return replace_russian_letters_in(current_match.group(1))\n",
    "\n",
    "    match_string = '([TТ]\\d+.*)-\\d+'\n",
    "    current_match = re.match(match_string, pId)\n",
    "    if current_match:\n",
    "        return replace_russian_letters_in(current_match.group(1))\n",
    "    \n",
    "    #ROADM\n",
    "    match_string = '(R[OО][AА]D[MМ]-\\d+.*)-\\d+'\n",
    "    current_match = re.match(match_string, pId)\n",
    "    if current_match:\n",
    "        return replace_russian_letters_in(current_match.group(1))\n",
    "    \n",
    "    #ROPA-PM\n",
    "    match_string = '(R[OО][РP][AА]-[РP][MМ])-\\d+'\n",
    "    current_match = re.match(match_string, pId)\n",
    "    if current_match:\n",
    "        return replace_russian_letters_in(current_match.group(1))\n",
    "    \n",
    "    #OC-RM\n",
    "    match_string = '([OО][СC]-R[МM]-\\d/\\d)-\\d+'\n",
    "    current_match = re.match(match_string, pId)\n",
    "    if current_match:\n",
    "        return replace_russian_letters_in(current_match.group(1))\n",
    "\n",
    "    return pId"
   ]
  },
  {
   "cell_type": "code",
   "execution_count": 352,
   "metadata": {},
   "outputs": [],
   "source": [
    "def replace_letters_in(string, letters_to_replace_dict={}):\n",
    "    \"\"\" Replaces letters in 'string' with corresponding values\n",
    "        from 'letters_to_replace_dict'\n",
    "    \"\"\"\n",
    "    \n",
    "    edited_string = string\n",
    "    for index, letter in enumerate(string):\n",
    "        if letter.isalpha() and (letter in letters_to_replace_dict.keys()):\n",
    "            edited_string = ''.join((edited_string[:index],\n",
    "                                     letters_to_replace_dict[letter],\n",
    "                                     edited_string[index+1:]))\n",
    "            \n",
    "    return edited_string\n",
    "\n",
    "def replace_russian_letters_in(string):\n",
    "    \"\"\" Replaces cyrillic letters in 'string' with latin ones\n",
    "    \"\"\"\n",
    "    \n",
    "    russian_to_english_translate = {\n",
    "        'а':'a', 'А':'A',\n",
    "        'о':'o', 'О':'O',\n",
    "        'р':'p', 'Р':'P',\n",
    "        'е':'e', 'Е':'E',\n",
    "        'ё':'e', 'Ё':'E',\n",
    "        'с':'c', 'С':'C',\n",
    "        'к':'k', 'К':'K',\n",
    "        'х':'x', 'Х':'X',\n",
    "        'и':'u',\n",
    "        'у':'y',\n",
    "        'В':'B',\n",
    "        'Т':'T',\n",
    "        'М':'M',\n",
    "        'Н':'H'}\n",
    "    \n",
    "    return replace_letters_in(string, russian_to_english_translate)"
   ]
  },
  {
   "cell_type": "code",
   "execution_count": 353,
   "metadata": {},
   "outputs": [
    {
     "data": {
      "text/plain": [
       "'EA-16V/18-(14-24)/12'"
      ]
     },
     "execution_count": 353,
     "metadata": {},
     "output_type": "execute_result"
    }
   ],
   "source": [
    "parse_short_pId('EA-16V/18-(14-24)/12-01')"
   ]
  },
  {
   "cell_type": "markdown",
   "metadata": {},
   "source": [
    "Ещё пример где могут пригодиться регулярные выражения.\n",
    "\n",
    "В больших файлах можно найти и отредактировать содержимое:\n",
    "\n",
    "https://regexr.com/47o9c"
   ]
  },
  {
   "cell_type": "markdown",
   "metadata": {},
   "source": [
    "---"
   ]
  }
 ],
 "metadata": {
  "kernelspec": {
   "display_name": "Python 3",
   "language": "python",
   "name": "python3"
  },
  "language_info": {
   "codemirror_mode": {
    "name": "ipython",
    "version": 3
   },
   "file_extension": ".py",
   "mimetype": "text/x-python",
   "name": "python",
   "nbconvert_exporter": "python",
   "pygments_lexer": "ipython3",
   "version": "3.6.5"
  }
 },
 "nbformat": 4,
 "nbformat_minor": 2
}
