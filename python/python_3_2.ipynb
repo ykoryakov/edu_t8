{
 "cells": [
  {
   "cell_type": "markdown",
   "metadata": {},
   "source": [
    "# Основы Python. Часть 3.2\n",
    "\n",
    "ООП. Классы. Инкапсуляция. Наследование. Полиморфизм."
   ]
  },
  {
   "cell_type": "markdown",
   "metadata": {},
   "source": [
    "## Ограничения функций"
   ]
  },
  {
   "cell_type": "markdown",
   "metadata": {},
   "source": [
    "### Пример 1"
   ]
  },
  {
   "cell_type": "markdown",
   "metadata": {},
   "source": [
    "Задача. Надо уметь писать в файл в любом месте программы."
   ]
  },
  {
   "cell_type": "code",
   "execution_count": 1,
   "metadata": {},
   "outputs": [],
   "source": [
    "def write(filename, some_string):\n",
    "    \n",
    "    with open(filename, 'a') as f:\n",
    "\n",
    "        f.write(some_string)  # пишем строку в файл\n",
    "\n",
    "write('/tmp/f.txt', 'Hi!\\n')\n",
    "\n",
    "# ... (много кода)\n",
    "\n",
    "write('/tmp/f.txt', 'Hi!\\n')"
   ]
  },
  {
   "cell_type": "markdown",
   "metadata": {},
   "source": [
    "Было бы хорошо задавать файл журнала один раз."
   ]
  },
  {
   "cell_type": "code",
   "execution_count": 2,
   "metadata": {},
   "outputs": [],
   "source": [
    "filename = '/tmp/f.txt'\n",
    "\n",
    "write(filename, 'Hi!\\n')\n",
    "\n",
    "# ... (много кода)\n",
    "\n",
    "write(filename, 'Hi!\\n')"
   ]
  },
  {
   "cell_type": "markdown",
   "metadata": {},
   "source": [
    "Может захотется, чтобы создавался новый файл, после достижения определённого размера."
   ]
  },
  {
   "cell_type": "code",
   "execution_count": 3,
   "metadata": {},
   "outputs": [],
   "source": [
    "import os\n",
    "\n",
    "file_index = 0\n",
    "\n",
    "def write(filename, some_string):\n",
    "    \n",
    "    MAX_SIZE = 20\n",
    "    \n",
    "    global file_index\n",
    "    \n",
    "    if os.path.isfile(filename):\n",
    "    \n",
    "        file_size = os.path.getsize(filename)\n",
    "\n",
    "        if file_size > MAX_SIZE:  # если размер больше установленного значения, увеличиваем индекс файла на 1                \n",
    "\n",
    "            file_index += 1                        \n",
    "    \n",
    "    with open(filename, 'a') as f:\n",
    "\n",
    "        f.write(some_string)  # пишем строку в файл"
   ]
  },
  {
   "cell_type": "code",
   "execution_count": 4,
   "metadata": {},
   "outputs": [],
   "source": [
    "write('/tmp/f_{}.txt'.format(file_index), 'Hi!\\n')\n",
    "\n",
    "# ...\n",
    "\n",
    "write('/tmp/f_{}.txt'.format(file_index), 'Hi!\\n')"
   ]
  },
  {
   "cell_type": "markdown",
   "metadata": {},
   "source": [
    "### Пример 2"
   ]
  },
  {
   "cell_type": "markdown",
   "metadata": {},
   "source": [
    "Задача. Функция, добавляющая к каждому элементу текущего списка последнее значение предыдущего."
   ]
  },
  {
   "cell_type": "code",
   "execution_count": 5,
   "metadata": {},
   "outputs": [],
   "source": [
    "last_element = None  # для хранения \n",
    "\n",
    "def process(some_list):\n",
    "    \n",
    "    global last_element  # говорим явно, что это переменная берётся из глобальной области видимости.\n",
    "    \n",
    "    if last_element is None:  # если не инициализированно\n",
    "        \n",
    "        last_element = some_list[-1]  # то сохраняем последний элемент текущего списка\n",
    "        \n",
    "    else:  # если уже есть значение\n",
    "        \n",
    "        some_list[:] = map(lambda x: x + last_element, some_list)  # добавляем это значение к каждому элементу списка"
   ]
  },
  {
   "cell_type": "code",
   "execution_count": 6,
   "metadata": {},
   "outputs": [
    {
     "name": "stdout",
     "output_type": "stream",
     "text": [
      "[1, 2, 3]\n",
      "[4, 5, 6]\n",
      "[7, 8, 9]\n"
     ]
    }
   ],
   "source": [
    "l = [1, 2, 3]\n",
    "\n",
    "process(l)\n",
    "\n",
    "print(l)\n",
    "\n",
    "process(l)\n",
    "\n",
    "print(l)\n",
    "\n",
    "process(l)\n",
    "\n",
    "print(l)"
   ]
  },
  {
   "cell_type": "markdown",
   "metadata": {},
   "source": [
    "## Инкапсуляция"
   ]
  },
  {
   "cell_type": "markdown",
   "metadata": {},
   "source": [
    "Хотим скрыть реализацию записи в файл."
   ]
  },
  {
   "cell_type": "code",
   "execution_count": 7,
   "metadata": {},
   "outputs": [],
   "source": [
    "class Logger:\n",
    "    def __init__(self, name, file='/tmp/log'):  # конструктор, вызывается при создании объекта\n",
    "        self.__name = name  # сохраняем название логгера в приватную переменную __name\n",
    "        self.__file = file  # сохраняем имя файла в приватную переменную __file\n",
    "\n",
    "    def write(self, text):  # публичный метод, который пишет строку в файл\n",
    "        with open(self.__file, 'a') as f:\n",
    "            f.write(text)\n",
    "            \n",
    "    def __str__(self):  # переопределение встроенного метода класса __str__ для удобного вывода информации об объкете\n",
    "        return self.__name\n",
    "\n",
    "logger = Logger('log1')  # создаём объект класса Logger"
   ]
  },
  {
   "cell_type": "code",
   "execution_count": 8,
   "metadata": {},
   "outputs": [
    {
     "name": "stdout",
     "output_type": "stream",
     "text": [
      "log1\n"
     ]
    }
   ],
   "source": [
    "print(logger)"
   ]
  },
  {
   "cell_type": "code",
   "execution_count": 9,
   "metadata": {},
   "outputs": [
    {
     "data": {
      "text/plain": [
       "['_Logger__file',\n",
       " '_Logger__name',\n",
       " '__class__',\n",
       " '__delattr__',\n",
       " '__dict__',\n",
       " '__dir__',\n",
       " '__doc__',\n",
       " '__eq__',\n",
       " '__format__',\n",
       " '__ge__',\n",
       " '__getattribute__',\n",
       " '__gt__',\n",
       " '__hash__',\n",
       " '__init__',\n",
       " '__init_subclass__',\n",
       " '__le__',\n",
       " '__lt__',\n",
       " '__module__',\n",
       " '__ne__',\n",
       " '__new__',\n",
       " '__reduce__',\n",
       " '__reduce_ex__',\n",
       " '__repr__',\n",
       " '__setattr__',\n",
       " '__sizeof__',\n",
       " '__str__',\n",
       " '__subclasshook__',\n",
       " '__weakref__',\n",
       " 'write']"
      ]
     },
     "execution_count": 9,
     "metadata": {},
     "output_type": "execute_result"
    }
   ],
   "source": [
    "# можно посмотреть на интерфейс класса logger\n",
    "dir(logger)"
   ]
  },
  {
   "cell_type": "code",
   "execution_count": 10,
   "metadata": {},
   "outputs": [
    {
     "ename": "AttributeError",
     "evalue": "'Logger' object has no attribute '__filename'",
     "output_type": "error",
     "traceback": [
      "\u001b[0;31m---------------------------------------------------------------------------\u001b[0m",
      "\u001b[0;31mAttributeError\u001b[0m                            Traceback (most recent call last)",
      "\u001b[0;32m<ipython-input-10-18e06fdebfa4>\u001b[0m in \u001b[0;36m<module>\u001b[0;34m()\u001b[0m\n\u001b[1;32m      1\u001b[0m \u001b[0;31m# т.к. мы объявили переменную __filename с двумя \"__\", то это значит, что она не будет доступна извне этого класса.\u001b[0m\u001b[0;34m\u001b[0m\u001b[0;34m\u001b[0m\u001b[0;34m\u001b[0m\u001b[0m\n\u001b[0;32m----> 2\u001b[0;31m \u001b[0mlogger\u001b[0m\u001b[0;34m.\u001b[0m\u001b[0m__filename\u001b[0m\u001b[0;34m\u001b[0m\u001b[0;34m\u001b[0m\u001b[0m\n\u001b[0m",
      "\u001b[0;31mAttributeError\u001b[0m: 'Logger' object has no attribute '__filename'"
     ]
    }
   ],
   "source": [
    "# т.к. мы объявили переменную __filename с двумя \"__\", то это значит, что она не будет доступна извне этого класса.\n",
    "logger.__filename"
   ]
  },
  {
   "cell_type": "code",
   "execution_count": 11,
   "metadata": {},
   "outputs": [],
   "source": [
    "logger.write('Hi!')\n",
    "logger.write('Hi!')\n",
    "logger.write('Hi!')"
   ]
  },
  {
   "cell_type": "markdown",
   "metadata": {},
   "source": [
    "Мы можем захотеть, чтобы создавался новый файл, после достижения определённого размера файла."
   ]
  },
  {
   "cell_type": "code",
   "execution_count": 12,
   "metadata": {},
   "outputs": [],
   "source": [
    "import os\n",
    "\n",
    "class Logger:\n",
    "    __MAX_SIZE = 30  # in bytes\n",
    "    \n",
    "    def __init__(self, name, file='/tmp/log'):\n",
    "        self.__name = name\n",
    "        self.__file = file\n",
    "        self.__file_index = 0\n",
    "        \n",
    "    def __get_filename(self):\n",
    "        return '{}_{}'.format(self.__file, self.__file_index)\n",
    "\n",
    "    def write(self, text):\n",
    "        with open(self.__get_filename(), 'a') as f:  # пишем в файл\n",
    "            f.write(text)\n",
    "            \n",
    "        file_size = os.path.getsize(self.__get_filename())  # определяем размер файла\n",
    "        \n",
    "        if file_size > self.__MAX_SIZE:  # если размер больше установленного значения, увеличиваем индекс файла на 1\n",
    "            self.__file_index += 1                                \n",
    "            \n",
    "    def __str__(self):\n",
    "        return self.__name"
   ]
  },
  {
   "cell_type": "code",
   "execution_count": 13,
   "metadata": {},
   "outputs": [],
   "source": [
    "logger = Logger('log1')"
   ]
  },
  {
   "cell_type": "code",
   "execution_count": 14,
   "metadata": {},
   "outputs": [],
   "source": [
    "logger.write('Hello, world!\\n')"
   ]
  },
  {
   "cell_type": "markdown",
   "metadata": {},
   "source": [
    "## Наследование"
   ]
  },
  {
   "cell_type": "code",
   "execution_count": 15,
   "metadata": {},
   "outputs": [],
   "source": [
    "class BaseLogger:\n",
    "    \"\"\"Base logger class\"\"\"\n",
    "    \n",
    "    def __init__(self, name, *args, **kwargs):\n",
    "        \"\"\"base constructor\"\"\"\n",
    "        self.__name = name\n",
    "    \n",
    "    def write(self, text):\n",
    "        \"\"\"writes text to log\"\"\"\n",
    "        \n",
    "    def __str__(self):\n",
    "        \"\"\"return logger name\"\"\"\n",
    "        return self.__name\n",
    "        \n",
    "        \n",
    "class FileLogger(BaseLogger):\n",
    "    \"\"\"File logger writes text to file\"\"\"\n",
    "    \n",
    "    def __init__(self, *args, **kwargs):\n",
    "        \n",
    "        super(FileLogger, self).__init__(*args, **kwargs)\n",
    "        \n",
    "        self.__file = kwargs.get('file', None)\n",
    "        \n",
    "        if self.__file is None:\n",
    "            \n",
    "            raise Exception('You must enter file.')\n",
    "        \n",
    "    def write(self, text):\n",
    "        \n",
    "        super(FileLogger, self).write(text)\n",
    "        \n",
    "        with open(self.__file, 'a') as f:\n",
    "            \n",
    "            f.write(text)  \n",
    "            \n",
    "        print('Write {} to file {}'.format(text, self.__file))\n",
    "\n",
    "            \n",
    "class URLLogger(BaseLogger):\n",
    "    \"\"\"URL logger sends text to specified URL\"\"\"\n",
    "    \n",
    "    def __init__(self, *args, **kwargs):        \n",
    "        \n",
    "        super(URLLogger, self).__init__(*args, **kwargs)        \n",
    "        \n",
    "        self.__url = kwargs.get('url', None)\n",
    "        \n",
    "        if self.__url is None:\n",
    "            \n",
    "            raise Exception('You must enter URL.')  \n",
    "            \n",
    "    def write(self, text):\n",
    "        \n",
    "        super(URLLogger, self).write(text)\n",
    "        \n",
    "        # implementation is skipped\n",
    "        print('Send {} to {}'.format(text, self.__url))"
   ]
  },
  {
   "cell_type": "code",
   "execution_count": 16,
   "metadata": {},
   "outputs": [],
   "source": [
    "f_logger = FileLogger('f_logger', file='/tmp/f.txt')\n",
    "u_logger = URLLogger('u_logger', url='http://someurl')"
   ]
  },
  {
   "cell_type": "code",
   "execution_count": 17,
   "metadata": {},
   "outputs": [
    {
     "name": "stdout",
     "output_type": "stream",
     "text": [
      "Write Hi! to file /tmp/f.txt\n"
     ]
    }
   ],
   "source": [
    "f_logger.write('Hi!')"
   ]
  },
  {
   "cell_type": "code",
   "execution_count": 18,
   "metadata": {},
   "outputs": [
    {
     "name": "stdout",
     "output_type": "stream",
     "text": [
      "Send Hi! to http://someurl\n"
     ]
    }
   ],
   "source": [
    "u_logger.write('Hi!')"
   ]
  },
  {
   "cell_type": "markdown",
   "metadata": {},
   "source": [
    "### Наследование методов и переменных класса"
   ]
  },
  {
   "cell_type": "markdown",
   "metadata": {},
   "source": [
    "Публичная переменная (PUBLIC) доступна внутри методов класса насследника и снаружи."
   ]
  },
  {
   "cell_type": "code",
   "execution_count": 19,
   "metadata": {},
   "outputs": [
    {
     "name": "stdout",
     "output_type": "stream",
     "text": [
      "name in child class\n"
     ]
    },
    {
     "data": {
      "text/plain": [
       "'name'"
      ]
     },
     "execution_count": 19,
     "metadata": {},
     "output_type": "execute_result"
    }
   ],
   "source": [
    "class A:\n",
    "    name = 'name'\n",
    "    \n",
    "class B(A):\n",
    "    def __init__(self):\n",
    "        print('%s in child class' % self.name)\n",
    "\n",
    "b = B()\n",
    "\n",
    "b.name"
   ]
  },
  {
   "cell_type": "markdown",
   "metadata": {},
   "source": [
    "Защищённая переменная (PROTECTED) доступна внутри методов класса наследника, и доступна снаружи. \n",
    "\n",
    "Некоторые автодополнители не дают защищённую переменную в область видимости снаружи.\n",
    "\n",
    "В некоторых StyleGuide's есть рекомендации, что такие переменные должны интерпретироваться как защищённые/protected. То есть доступные только методам класса наследника и недоступны снаружи."
   ]
  },
  {
   "cell_type": "code",
   "execution_count": 20,
   "metadata": {},
   "outputs": [
    {
     "name": "stdout",
     "output_type": "stream",
     "text": [
      "name in child class\n"
     ]
    },
    {
     "data": {
      "text/plain": [
       "'name'"
      ]
     },
     "execution_count": 20,
     "metadata": {},
     "output_type": "execute_result"
    }
   ],
   "source": [
    "class A:\n",
    "    _name = 'name'\n",
    "    \n",
    "class B(A):\n",
    "    def __init__(self):\n",
    "        print('%s in child class' % self._name)\n",
    "\n",
    "b = B()\n",
    "\n",
    "b._name"
   ]
  },
  {
   "cell_type": "markdown",
   "metadata": {},
   "source": [
    "Закрытая переменная (PRIVATE) доступна только методам данного класса."
   ]
  },
  {
   "cell_type": "code",
   "execution_count": 21,
   "metadata": {},
   "outputs": [
    {
     "ename": "AttributeError",
     "evalue": "'B' object has no attribute '_B__name'",
     "output_type": "error",
     "traceback": [
      "\u001b[0;31m---------------------------------------------------------------------------\u001b[0m",
      "\u001b[0;31mAttributeError\u001b[0m                            Traceback (most recent call last)",
      "\u001b[0;32m<ipython-input-21-d9f6ee0af7c3>\u001b[0m in \u001b[0;36m<module>\u001b[0;34m()\u001b[0m\n\u001b[1;32m      6\u001b[0m         \u001b[0mprint\u001b[0m\u001b[0;34m(\u001b[0m\u001b[0;34m'%s in child class'\u001b[0m \u001b[0;34m%\u001b[0m \u001b[0mself\u001b[0m\u001b[0;34m.\u001b[0m\u001b[0m__name\u001b[0m\u001b[0;34m)\u001b[0m\u001b[0;34m\u001b[0m\u001b[0;34m\u001b[0m\u001b[0m\n\u001b[1;32m      7\u001b[0m \u001b[0;34m\u001b[0m\u001b[0m\n\u001b[0;32m----> 8\u001b[0;31m \u001b[0mb\u001b[0m \u001b[0;34m=\u001b[0m \u001b[0mB\u001b[0m\u001b[0;34m(\u001b[0m\u001b[0;34m)\u001b[0m\u001b[0;34m\u001b[0m\u001b[0;34m\u001b[0m\u001b[0m\n\u001b[0m\u001b[1;32m      9\u001b[0m \u001b[0;34m\u001b[0m\u001b[0m\n\u001b[1;32m     10\u001b[0m \u001b[0mb\u001b[0m\u001b[0;34m.\u001b[0m\u001b[0m__name\u001b[0m\u001b[0;34m\u001b[0m\u001b[0;34m\u001b[0m\u001b[0m\n",
      "\u001b[0;32m<ipython-input-21-d9f6ee0af7c3>\u001b[0m in \u001b[0;36m__init__\u001b[0;34m(self)\u001b[0m\n\u001b[1;32m      4\u001b[0m \u001b[0;32mclass\u001b[0m \u001b[0mB\u001b[0m\u001b[0;34m(\u001b[0m\u001b[0mA\u001b[0m\u001b[0;34m)\u001b[0m\u001b[0;34m:\u001b[0m\u001b[0;34m\u001b[0m\u001b[0;34m\u001b[0m\u001b[0m\n\u001b[1;32m      5\u001b[0m     \u001b[0;32mdef\u001b[0m \u001b[0m__init__\u001b[0m\u001b[0;34m(\u001b[0m\u001b[0mself\u001b[0m\u001b[0;34m)\u001b[0m\u001b[0;34m:\u001b[0m\u001b[0;34m\u001b[0m\u001b[0;34m\u001b[0m\u001b[0m\n\u001b[0;32m----> 6\u001b[0;31m         \u001b[0mprint\u001b[0m\u001b[0;34m(\u001b[0m\u001b[0;34m'%s in child class'\u001b[0m \u001b[0;34m%\u001b[0m \u001b[0mself\u001b[0m\u001b[0;34m.\u001b[0m\u001b[0m__name\u001b[0m\u001b[0;34m)\u001b[0m\u001b[0;34m\u001b[0m\u001b[0;34m\u001b[0m\u001b[0m\n\u001b[0m\u001b[1;32m      7\u001b[0m \u001b[0;34m\u001b[0m\u001b[0m\n\u001b[1;32m      8\u001b[0m \u001b[0mb\u001b[0m \u001b[0;34m=\u001b[0m \u001b[0mB\u001b[0m\u001b[0;34m(\u001b[0m\u001b[0;34m)\u001b[0m\u001b[0;34m\u001b[0m\u001b[0;34m\u001b[0m\u001b[0m\n",
      "\u001b[0;31mAttributeError\u001b[0m: 'B' object has no attribute '_B__name'"
     ]
    }
   ],
   "source": [
    "class A:\n",
    "    __name = 'name'\n",
    "    \n",
    "class B(A):\n",
    "    def __init__(self):\n",
    "        print('%s in child class' % self.__name)\n",
    "\n",
    "b = B()\n",
    "\n",
    "b.__name"
   ]
  },
  {
   "cell_type": "markdown",
   "metadata": {},
   "source": [
    "### Наследование от нескольких классов"
   ]
  },
  {
   "cell_type": "code",
   "execution_count": 22,
   "metadata": {},
   "outputs": [
    {
     "name": "stdout",
     "output_type": "stream",
     "text": [
      "B init\n",
      "A init\n",
      "C init\n"
     ]
    }
   ],
   "source": [
    "class A:\n",
    "    def __init__(self):\n",
    "        super().__init__() \n",
    "        print('A init')\n",
    "        \n",
    "class B:\n",
    "    def __init__(self):\n",
    "        super().__init__() \n",
    "        print('B init')\n",
    "        \n",
    "class C(A, B):\n",
    "    def __init__(self):\n",
    "        super().__init__()\n",
    "        print('C init')\n",
    "        \n",
    "c = C()       "
   ]
  },
  {
   "cell_type": "code",
   "execution_count": 23,
   "metadata": {},
   "outputs": [
    {
     "data": {
      "text/plain": [
       "(__main__.C, __main__.A, __main__.B, object)"
      ]
     },
     "execution_count": 23,
     "metadata": {},
     "output_type": "execute_result"
    }
   ],
   "source": [
    "C.__mro__"
   ]
  },
  {
   "cell_type": "markdown",
   "metadata": {},
   "source": [
    "### Абстрактные классы и методы"
   ]
  },
  {
   "cell_type": "code",
   "execution_count": 24,
   "metadata": {},
   "outputs": [],
   "source": [
    "from abc import ABC, abstractmethod\n",
    "\n",
    "class A(ABC):\n",
    "    \n",
    "    @abstractmethod\n",
    "    def f(self):\n",
    "        \"\"\"Мы хотим, чтобы те классы, которые унаследовались, обязательно переопределили этот метод\"\"\""
   ]
  },
  {
   "cell_type": "code",
   "execution_count": 25,
   "metadata": {},
   "outputs": [
    {
     "ename": "TypeError",
     "evalue": "Can't instantiate abstract class A with abstract methods f",
     "output_type": "error",
     "traceback": [
      "\u001b[0;31m---------------------------------------------------------------------------\u001b[0m",
      "\u001b[0;31mTypeError\u001b[0m                                 Traceback (most recent call last)",
      "\u001b[0;32m<ipython-input-25-7f181d8f00b8>\u001b[0m in \u001b[0;36m<module>\u001b[0;34m()\u001b[0m\n\u001b[0;32m----> 1\u001b[0;31m \u001b[0ma\u001b[0m \u001b[0;34m=\u001b[0m \u001b[0mA\u001b[0m\u001b[0;34m(\u001b[0m\u001b[0;34m)\u001b[0m\u001b[0;34m\u001b[0m\u001b[0;34m\u001b[0m\u001b[0m\n\u001b[0m",
      "\u001b[0;31mTypeError\u001b[0m: Can't instantiate abstract class A with abstract methods f"
     ]
    }
   ],
   "source": [
    "a = A()"
   ]
  },
  {
   "cell_type": "code",
   "execution_count": 26,
   "metadata": {},
   "outputs": [
    {
     "ename": "TypeError",
     "evalue": "Can't instantiate abstract class B with abstract methods f",
     "output_type": "error",
     "traceback": [
      "\u001b[0;31m---------------------------------------------------------------------------\u001b[0m",
      "\u001b[0;31mTypeError\u001b[0m                                 Traceback (most recent call last)",
      "\u001b[0;32m<ipython-input-26-ebaf6794cd30>\u001b[0m in \u001b[0;36m<module>\u001b[0;34m()\u001b[0m\n\u001b[1;32m      2\u001b[0m     \u001b[0;32mpass\u001b[0m\u001b[0;34m\u001b[0m\u001b[0;34m\u001b[0m\u001b[0m\n\u001b[1;32m      3\u001b[0m \u001b[0;34m\u001b[0m\u001b[0m\n\u001b[0;32m----> 4\u001b[0;31m \u001b[0mb\u001b[0m \u001b[0;34m=\u001b[0m \u001b[0mB\u001b[0m\u001b[0;34m(\u001b[0m\u001b[0;34m)\u001b[0m\u001b[0;34m\u001b[0m\u001b[0;34m\u001b[0m\u001b[0m\n\u001b[0m",
      "\u001b[0;31mTypeError\u001b[0m: Can't instantiate abstract class B with abstract methods f"
     ]
    }
   ],
   "source": [
    "class B(A):\n",
    "    pass\n",
    "\n",
    "b = B()"
   ]
  },
  {
   "cell_type": "code",
   "execution_count": 27,
   "metadata": {},
   "outputs": [],
   "source": [
    "class C(A):\n",
    "    def f(self):\n",
    "        pass\n",
    "    \n",
    "c = C() # Ok"
   ]
  },
  {
   "cell_type": "markdown",
   "metadata": {},
   "source": [
    "## Полиморфизм"
   ]
  },
  {
   "cell_type": "markdown",
   "metadata": {},
   "source": [
    "Базовый класс имеет общий интерфейс. Но реализация каждой конкретной функции выбирается в зависимости от конкретного класса, который унаследовался от базового."
   ]
  },
  {
   "cell_type": "code",
   "execution_count": 28,
   "metadata": {},
   "outputs": [],
   "source": [
    "loggers = []\n",
    "\n",
    "for i in range(5):\n",
    "    loggers.append(FileLogger('f_logger_{}'.format(i), file='/tmp/f_{}.txt'.format(i)))\n",
    "    \n",
    "for i in range(5):\n",
    "    loggers.append(URLLogger('u_logger_{}'.format(i), url='http://someurl'))"
   ]
  },
  {
   "cell_type": "code",
   "execution_count": 29,
   "metadata": {},
   "outputs": [
    {
     "name": "stdout",
     "output_type": "stream",
     "text": [
      "f_logger_0\n",
      "f_logger_1\n",
      "f_logger_2\n",
      "f_logger_3\n",
      "f_logger_4\n",
      "u_logger_0\n",
      "u_logger_1\n",
      "u_logger_2\n",
      "u_logger_3\n",
      "u_logger_4\n"
     ]
    }
   ],
   "source": [
    "for logger in loggers:\n",
    "    print(logger)"
   ]
  },
  {
   "cell_type": "code",
   "execution_count": 30,
   "metadata": {},
   "outputs": [
    {
     "name": "stdout",
     "output_type": "stream",
     "text": [
      "Write Hello! to file /tmp/f_0.txt\n",
      "Write Hello! to file /tmp/f_1.txt\n",
      "Write Hello! to file /tmp/f_2.txt\n",
      "Write Hello! to file /tmp/f_3.txt\n",
      "Write Hello! to file /tmp/f_4.txt\n",
      "Send Hello! to http://someurl\n",
      "Send Hello! to http://someurl\n",
      "Send Hello! to http://someurl\n",
      "Send Hello! to http://someurl\n",
      "Send Hello! to http://someurl\n"
     ]
    }
   ],
   "source": [
    "for logger in loggers:\n",
    "    logger.write('Hello!')"
   ]
  },
  {
   "cell_type": "markdown",
   "metadata": {},
   "source": [
    "## Методы"
   ]
  },
  {
   "cell_type": "markdown",
   "metadata": {},
   "source": [
    "Объявление класса"
   ]
  },
  {
   "cell_type": "code",
   "execution_count": 31,
   "metadata": {},
   "outputs": [],
   "source": [
    "class A:\n",
    "    pass"
   ]
  },
  {
   "cell_type": "markdown",
   "metadata": {},
   "source": [
    "Создание объекта класса A"
   ]
  },
  {
   "cell_type": "code",
   "execution_count": 32,
   "metadata": {},
   "outputs": [],
   "source": [
    "a = A()"
   ]
  },
  {
   "cell_type": "markdown",
   "metadata": {},
   "source": [
    "Объявление класса с методами"
   ]
  },
  {
   "cell_type": "code",
   "execution_count": 33,
   "metadata": {},
   "outputs": [],
   "source": [
    "class A:\n",
    "        \n",
    "    \"\"\"переменная, инициализированная при создании объявления класса\"\"\"\n",
    "    a = 1  \n",
    "    \n",
    "    def __init__(self, *args, **kwargs):\n",
    "        \"\"\"Встроенный метод. Конструктор. Вызывается при создании объекта\"\"\"\n",
    "        \n",
    "    def method(self, a, b):\n",
    "        \"\"\"Публичный метод объекта класса A\"\"\"\n",
    "        \n",
    "    def _method(self, a, b):\n",
    "        \"\"\"Защищённый метод класса A\"\"\"\n",
    "        \n",
    "    def __method(self, a, b):\n",
    "        \"\"\"Закрытый метод класса А\"\"\"\n",
    "    \n",
    "    @staticmethod\n",
    "    def static_method(a, b):\n",
    "        \"\"\"Статический метод класса. \n",
    "        Может быть вызван без создания объекта класса А.\n",
    "        Не может читать или модифицировать аттрибуты объекта и самого класса.\n",
    "        \"\"\"\n",
    "        \n",
    "    @classmethod\n",
    "    def class_method(cls, a, b):\n",
    "        \"\"\"Метод класса. Доступно окружение класса. \n",
    "        Может быть вызван без создания объекта класса А.\n",
    "        Имеет и доступ и может модифицировать атрибуты класса, доступные всем объектам.\n",
    "        \"\"\"   \n",
    "        \n",
    "    # + @abstractmethod (будет рассказано позже)\n",
    "    "
   ]
  },
  {
   "cell_type": "code",
   "execution_count": 34,
   "metadata": {},
   "outputs": [],
   "source": [
    "A.static_method(1, 2)  # не знает о переменной 'a' класса\n",
    "\n",
    "A.class_method(1, 2)  # знает о переменной 'a' класса"
   ]
  },
  {
   "cell_type": "code",
   "execution_count": 35,
   "metadata": {},
   "outputs": [],
   "source": [
    "class A:\n",
    "    b = 1\n",
    "    \n",
    "    @classmethod\n",
    "    def set_b(cls, new_b):\n",
    "        cls.b = new_b        "
   ]
  },
  {
   "cell_type": "code",
   "execution_count": 36,
   "metadata": {},
   "outputs": [
    {
     "data": {
      "text/plain": [
       "1"
      ]
     },
     "execution_count": 36,
     "metadata": {},
     "output_type": "execute_result"
    }
   ],
   "source": [
    "a = A()\n",
    "a.b"
   ]
  },
  {
   "cell_type": "code",
   "execution_count": 37,
   "metadata": {},
   "outputs": [
    {
     "data": {
      "text/plain": [
       "1"
      ]
     },
     "execution_count": 37,
     "metadata": {},
     "output_type": "execute_result"
    }
   ],
   "source": [
    "b = A()\n",
    "b.b"
   ]
  },
  {
   "cell_type": "code",
   "execution_count": 40,
   "metadata": {},
   "outputs": [],
   "source": [
    "A.set_b(2)"
   ]
  },
  {
   "cell_type": "code",
   "execution_count": 41,
   "metadata": {},
   "outputs": [
    {
     "data": {
      "text/plain": [
       "2"
      ]
     },
     "execution_count": 41,
     "metadata": {},
     "output_type": "execute_result"
    }
   ],
   "source": [
    "a.b"
   ]
  },
  {
   "cell_type": "code",
   "execution_count": 42,
   "metadata": {},
   "outputs": [
    {
     "data": {
      "text/plain": [
       "2"
      ]
     },
     "execution_count": 42,
     "metadata": {},
     "output_type": "execute_result"
    }
   ],
   "source": [
    "b.b"
   ]
  },
  {
   "cell_type": "markdown",
   "metadata": {},
   "source": [
    "### Встроенные методы"
   ]
  },
  {
   "cell_type": "markdown",
   "metadata": {},
   "source": [
    "## `__init__`"
   ]
  },
  {
   "cell_type": "code",
   "execution_count": 43,
   "metadata": {},
   "outputs": [
    {
     "name": "stdout",
     "output_type": "stream",
     "text": [
      "Я только что создан\n"
     ]
    }
   ],
   "source": [
    "class A:\n",
    "    def __init__(self):\n",
    "        \"\"\"Конструктор. Вызывается при создании объекта класса\"\"\"\n",
    "        print('Я только что создан')\n",
    "        \n",
    "a = A()"
   ]
  },
  {
   "cell_type": "markdown",
   "metadata": {},
   "source": [
    "## `__str__`"
   ]
  },
  {
   "cell_type": "code",
   "execution_count": 44,
   "metadata": {},
   "outputs": [
    {
     "name": "stdout",
     "output_type": "stream",
     "text": [
      "Name\n"
     ]
    }
   ],
   "source": [
    "class A:\n",
    "    def __init__(self, name):\n",
    "        self.__name = name\n",
    "        \n",
    "    def __str__(self):\n",
    "        \"\"\"Строковое представление объекта\"\"\"        \n",
    "        return self.__name\n",
    "        \n",
    "a = A('Name')\n",
    "\n",
    "print(a)"
   ]
  },
  {
   "cell_type": "markdown",
   "metadata": {},
   "source": [
    "## `__repr__`"
   ]
  },
  {
   "cell_type": "code",
   "execution_count": 45,
   "metadata": {},
   "outputs": [
    {
     "data": {
      "text/plain": [
       "[A <one>, A <two>, A <three>]"
      ]
     },
     "execution_count": 45,
     "metadata": {},
     "output_type": "execute_result"
    }
   ],
   "source": [
    "class A:\n",
    "    def __init__(self, name):\n",
    "        self.__name = name\n",
    "        \n",
    "    def __repr__(self):\n",
    "        return 'A <{}>'.format(self.__name)\n",
    "    \n",
    "l = [A('one'), A('two'), A('three')]\n",
    "\n",
    "l"
   ]
  },
  {
   "cell_type": "markdown",
   "metadata": {},
   "source": [
    "## `__len__`"
   ]
  },
  {
   "cell_type": "code",
   "execution_count": 46,
   "metadata": {},
   "outputs": [
    {
     "data": {
      "text/plain": [
       "3"
      ]
     },
     "execution_count": 46,
     "metadata": {},
     "output_type": "execute_result"
    }
   ],
   "source": [
    "class A:\n",
    "    def __init__(self, _list):\n",
    "        self.__list = _list\n",
    "        \n",
    "    def __len__(self):\n",
    "        return len(self.__list)\n",
    "    \n",
    "a = A([1, 2, 3])\n",
    "\n",
    "len(a)"
   ]
  },
  {
   "cell_type": "markdown",
   "metadata": {},
   "source": [
    "## `__eq__` и другие методы сравнения"
   ]
  },
  {
   "cell_type": "code",
   "execution_count": 47,
   "metadata": {},
   "outputs": [
    {
     "data": {
      "text/plain": [
       "True"
      ]
     },
     "execution_count": 47,
     "metadata": {},
     "output_type": "execute_result"
    }
   ],
   "source": [
    "class A:\n",
    "    def __init__(self, name):\n",
    "        self.__name = name\n",
    "        \n",
    "    def __eq__(self, other):\n",
    "        return self.__name == other.__name\n",
    "    \n",
    "a_1 = A('name')\n",
    "a_2 = A('name')\n",
    "\n",
    "a_1 == a_2"
   ]
  },
  {
   "cell_type": "markdown",
   "metadata": {},
   "source": [
    "## `__next__`"
   ]
  },
  {
   "cell_type": "code",
   "execution_count": 48,
   "metadata": {},
   "outputs": [],
   "source": [
    "class Iterator:\n",
    "    def __init__(self):\n",
    "        self.__i = 0\n",
    "        \n",
    "    def __iter__ (self):\n",
    "        return self        \n",
    "        \n",
    "    def __next__(self):\n",
    "        self.__i += 1\n",
    "        return self.__i"
   ]
  },
  {
   "cell_type": "code",
   "execution_count": 49,
   "metadata": {},
   "outputs": [],
   "source": [
    "it = Iterator()"
   ]
  },
  {
   "cell_type": "code",
   "execution_count": 50,
   "metadata": {},
   "outputs": [
    {
     "data": {
      "text/plain": [
       "1"
      ]
     },
     "execution_count": 50,
     "metadata": {},
     "output_type": "execute_result"
    }
   ],
   "source": [
    "next(it)"
   ]
  },
  {
   "cell_type": "markdown",
   "metadata": {},
   "source": [
    "## `__bool__`"
   ]
  },
  {
   "cell_type": "code",
   "execution_count": 51,
   "metadata": {},
   "outputs": [
    {
     "data": {
      "text/plain": [
       "False"
      ]
     },
     "execution_count": 51,
     "metadata": {},
     "output_type": "execute_result"
    }
   ],
   "source": [
    "class A:\n",
    "    def __bool__(self):\n",
    "        return False\n",
    "    \n",
    "a = A()\n",
    "\n",
    "bool(a)"
   ]
  },
  {
   "cell_type": "markdown",
   "metadata": {},
   "source": [
    "## `__enter__` && `__exit__`"
   ]
  },
  {
   "cell_type": "code",
   "execution_count": 52,
   "metadata": {},
   "outputs": [],
   "source": [
    "class Writer:\n",
    "    def __init__(self, filename):\n",
    "        self.__filename = filename\n",
    "        self.__file = None\n",
    "        \n",
    "    def __enter__(self):\n",
    "        self.__file = open(self.__filename, 'w')\n",
    "        return self\n",
    "        \n",
    "    def __exit__(self, exc_type, exc_val, exc_tb):\n",
    "        self.__file.close()\n",
    "        \n",
    "    def write(self, text):\n",
    "        self.__file.write(text)"
   ]
  },
  {
   "cell_type": "code",
   "execution_count": 53,
   "metadata": {},
   "outputs": [],
   "source": [
    "with Writer('/tmp/f') as w:\n",
    "    w.write('text')\n",
    "    \n",
    "# здесь файл уже закрыт"
   ]
  },
  {
   "cell_type": "markdown",
   "metadata": {},
   "source": [
    "## `__add__` и другие арифметические и битовые специальные методы"
   ]
  },
  {
   "cell_type": "code",
   "execution_count": 54,
   "metadata": {},
   "outputs": [
    {
     "data": {
      "text/plain": [
       "5, 7, 9"
      ]
     },
     "execution_count": 54,
     "metadata": {},
     "output_type": "execute_result"
    }
   ],
   "source": [
    "class A:\n",
    "    def __init__(self, _list):\n",
    "        self.__list = _list\n",
    "        \n",
    "    def __add__(self, other):\n",
    "        _res_list = [l + o for l, o in zip(self.__list, other.__list)]\n",
    "        return A(_res_list)\n",
    "    \n",
    "    def __repr__(self):\n",
    "        return ', '.join([str(_) for _ in self.__list])\n",
    "    \n",
    "a = A([1, 2, 3])\n",
    "\n",
    "b = A([4, 5, 6])\n",
    "\n",
    "a + b"
   ]
  },
  {
   "cell_type": "markdown",
   "metadata": {},
   "source": [
    "### `__contains__`"
   ]
  },
  {
   "cell_type": "code",
   "execution_count": 55,
   "metadata": {},
   "outputs": [
    {
     "data": {
      "text/plain": [
       "True"
      ]
     },
     "execution_count": 55,
     "metadata": {},
     "output_type": "execute_result"
    }
   ],
   "source": [
    "class A:\n",
    "    def __init__(self, _list):\n",
    "        self.__list = _list\n",
    "        \n",
    "    def __contains__(self, item):\n",
    "        return item in self.__list\n",
    "    \n",
    "a = A([1, 2, 3])\n",
    "\n",
    "1 in a"
   ]
  },
  {
   "cell_type": "markdown",
   "metadata": {},
   "source": [
    "Встроенных методов, которые можно переопределить очень много\n",
    "\n",
    "https://docs.python.org/3.5/reference/datamodel.html"
   ]
  },
  {
   "cell_type": "code",
   "execution_count": null,
   "metadata": {},
   "outputs": [],
   "source": []
  }
 ],
 "metadata": {
  "kernelspec": {
   "display_name": "Python 3",
   "language": "python",
   "name": "python3"
  },
  "language_info": {
   "codemirror_mode": {
    "name": "ipython",
    "version": 3
   },
   "file_extension": ".py",
   "mimetype": "text/x-python",
   "name": "python",
   "nbconvert_exporter": "python",
   "pygments_lexer": "ipython3",
   "version": "3.6.5"
  }
 },
 "nbformat": 4,
 "nbformat_minor": 2
}
